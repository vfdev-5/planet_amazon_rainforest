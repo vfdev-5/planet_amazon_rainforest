{
 "cells": [
  {
   "cell_type": "markdown",
   "metadata": {},
   "source": [
    "# Compute f2 score on train/validation dataset of a trained model"
   ]
  },
  {
   "cell_type": "code",
   "execution_count": 1,
   "metadata": {
    "collapsed": true
   },
   "outputs": [],
   "source": [
    "# https://ipython.org/ipython-doc/3/config/extensions/autoreload.html\n",
    "%load_ext autoreload\n",
    "%autoreload 2"
   ]
  },
  {
   "cell_type": "code",
   "execution_count": 2,
   "metadata": {
    "collapsed": true
   },
   "outputs": [],
   "source": [
    "import os\n",
    "import sys\n",
    "from glob import glob\n",
    "from datetime import datetime\n",
    "import warnings\n",
    "warnings.filterwarnings(\"ignore\")\n",
    "\n",
    "import shutil\n",
    "\n",
    "# Project\n",
    "project_common_path = os.path.dirname('.')\n",
    "project_common_path = os.path.abspath(os.path.join(project_common_path, '..', 'common'))\n",
    "if not project_common_path in sys.path:\n",
    "    sys.path.append(project_common_path)"
   ]
  },
  {
   "cell_type": "code",
   "execution_count": 5,
   "metadata": {
    "collapsed": true
   },
   "outputs": [],
   "source": [
    "import numpy as np\n",
    "import pandas as pd"
   ]
  },
  {
   "cell_type": "code",
   "execution_count": 6,
   "metadata": {
    "collapsed": false
   },
   "outputs": [],
   "source": [
    "from data_utils import unique_tags, get_label, GENERATED_DATA\n",
    "\n",
    "target_tags = ['target_' + t for t in unique_tags]\n",
    "val_predictions_filepath = os.path.join(GENERATED_DATA, \"val_predictions.csv\")\n",
    "if not os.path.exists(val_predictions_filepath):\n",
    "    \n",
    "    val_predictions_csv = glob(os.path.join(OUTPUT_PATH, \"val_predictions_*2017-07-13-22-23.csv\"))\n",
    "    df = pd.read_csv(val_predictions_csv[0]).dropna()\n",
    "    for filepath in val_predictions_csv[1:]:\n",
    "        df = pd.concat([df, pd.read_csv(filepath).dropna()])\n",
    "    df.reset_index(inplace=True)   \n",
    "    df.drop('index', axis=1, inplace=True)\n",
    "    df['image_id'] = df['image_name'].apply(lambda x: int(x[len('train_'):]))    \n",
    "    for t in target_tags:\n",
    "        df[t] = ''\n",
    "    def fill_target_tags(row):\n",
    "        image_id = row[0]\n",
    "        labels = get_label(image_id, \"Train_jpg\")\n",
    "        row[1:] = labels    \n",
    "        return row\n",
    "    cols = ['image_id', ] + target_tags\n",
    "    df[cols] = df[cols].apply(fill_target_tags, axis=1)\n",
    "    \n",
    "    df.to_csv(val_predictions_filepath, index=False)\n",
    "    val_predictions_df = df\n",
    "    df = None    \n",
    "else:\n",
    "    val_predictions_df = pd.read_csv(val_predictions_filepath)"
   ]
  },
  {
   "cell_type": "code",
   "execution_count": 10,
   "metadata": {
    "collapsed": false
   },
   "outputs": [
    {
     "data": {
      "text/plain": [
       "40320"
      ]
     },
     "execution_count": 10,
     "metadata": {},
     "output_type": "execute_result"
    }
   ],
   "source": [
    "len(val_predictions_df)"
   ]
  },
  {
   "cell_type": "code",
   "execution_count": 9,
   "metadata": {
    "collapsed": false
   },
   "outputs": [
    {
     "name": "stdout",
     "output_type": "stream",
     "text": [
      "agriculture | best threshold : 0.220000 with score: 0.895218\n",
      "artisinal_mine | best threshold : 0.060000 with score: 0.782789\n",
      "bare_ground | best threshold : 0.090000 with score: 0.442280\n",
      "blooming | best threshold : 0.090000 with score: 0.335871\n",
      "blow_down | best threshold : 0.030000 with score: 0.105556\n",
      "clear | best threshold : 0.200000 with score: 0.978155\n",
      "cloudy | best threshold : 0.170000 with score: 0.897765\n",
      "conventional_mine | best threshold : 0.070000 with score: 0.385260\n",
      "cultivation | best threshold : 0.160000 with score: 0.672976\n",
      "habitation | best threshold : 0.150000 with score: 0.772332\n",
      "haze | best threshold : 0.140000 with score: 0.766322\n",
      "partly_cloudy | best threshold : 0.220000 with score: 0.943939\n",
      "primary | best threshold : 0.250000 with score: 0.990730\n",
      "road | best threshold : 0.220000 with score: 0.864248\n",
      "selective_logging | best threshold : 0.070000 with score: 0.420290\n",
      "slash_burn | best threshold : 0.040000 with score: 0.158176\n",
      "water | best threshold : 0.190000 with score: 0.810047\n"
     ]
    }
   ],
   "source": [
    "best_thresholds = {}\n",
    "\n",
    "def search_best_threshold(y_true, y_preds):\n",
    "    _thr = 0.5    \n",
    "    _bs = score(y_true, y_preds > _thr)\n",
    "    \n",
    "    thrs = np.arange(0.0, 1.0, 0.01)\n",
    "    for thr in thrs:\n",
    "        s = score(y_true, y_preds > thr)\n",
    "        if s > _bs:\n",
    "            _bs = s\n",
    "            _thr = thr      \n",
    "    return _thr, _bs\n",
    "\n",
    "\n",
    "for tag_index, tag in enumerate(unique_tags):\n",
    "    best_thresholds[tag], best_score = search_best_threshold(y_true[:, tag_index], val_predictions_df[unique_tags].values[:, tag_index])\n",
    "    print(\"%s | best threshold : %f with score: %f\" % (tag, best_thresholds[tag], best_score))\n"
   ]
  },
  {
   "cell_type": "code",
   "execution_count": null,
   "metadata": {
    "collapsed": true
   },
   "outputs": [],
   "source": []
  },
  {
   "cell_type": "code",
   "execution_count": null,
   "metadata": {
    "collapsed": true
   },
   "outputs": [],
   "source": []
  },
  {
   "cell_type": "code",
   "execution_count": null,
   "metadata": {
    "collapsed": true
   },
   "outputs": [],
   "source": []
  }
 ],
 "metadata": {
  "kernelspec": {
   "display_name": "Python 3",
   "language": "python",
   "name": "python3"
  },
  "language_info": {
   "codemirror_mode": {
    "name": "ipython",
    "version": 3
   },
   "file_extension": ".py",
   "mimetype": "text/x-python",
   "name": "python",
   "nbconvert_exporter": "python",
   "pygments_lexer": "ipython3",
   "version": "3.5.2"
  }
 },
 "nbformat": 4,
 "nbformat_minor": 0
}
