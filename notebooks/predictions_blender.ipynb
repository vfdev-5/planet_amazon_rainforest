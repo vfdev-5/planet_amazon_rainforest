{
 "cells": [
  {
   "cell_type": "markdown",
   "metadata": {},
   "source": [
    "# Predictions blender"
   ]
  },
  {
   "cell_type": "code",
   "execution_count": 1,
   "metadata": {
    "collapsed": true
   },
   "outputs": [],
   "source": [
    "# https://ipython.org/ipython-doc/3/config/extensions/autoreload.html\n",
    "%load_ext autoreload\n",
    "%autoreload 2"
   ]
  },
  {
   "cell_type": "code",
   "execution_count": 2,
   "metadata": {
    "collapsed": true
   },
   "outputs": [],
   "source": [
    "import os\n",
    "import sys\n",
    "from glob import glob\n",
    "from datetime import datetime\n",
    "import warnings\n",
    "warnings.filterwarnings(\"ignore\")\n",
    "\n",
    "import shutil\n",
    "\n",
    "# Project\n",
    "project_common_path = os.path.dirname('.')\n",
    "project_common_path = os.path.abspath(os.path.join(project_common_path, '..', 'common'))\n",
    "if not project_common_path in sys.path:\n",
    "    sys.path.append(project_common_path)"
   ]
  },
  {
   "cell_type": "code",
   "execution_count": 12,
   "metadata": {
    "collapsed": true
   },
   "outputs": [],
   "source": [
    "import numpy as np\n",
    "import pandas as pd\n",
    "\n",
    "from data_utils import get_id_type_list_for_class, GENERATED_DATA, OUTPUT_PATH\n",
    "from test_utils import create_submission"
   ]
  },
  {
   "cell_type": "markdown",
   "metadata": {},
   "source": [
    "## Simple probability mean "
   ]
  },
  {
   "cell_type": "code",
   "execution_count": 6,
   "metadata": {
    "collapsed": true
   },
   "outputs": [
    {
     "data": {
      "text/plain": [
       "['D:\\\\vfomin\\\\MyExamples\\\\python\\\\planet_amazon_rainforest\\\\output\\\\predictions_0_SqueezeNet21_all_classes_fold=4_seed=20172017-07-10-10-18.csv',\n",
       " 'D:\\\\vfomin\\\\MyExamples\\\\python\\\\planet_amazon_rainforest\\\\output\\\\predictions_10_SqueezeNet21_all_classes_fold=4_seed=20172017-07-10-10-18.csv',\n",
       " 'D:\\\\vfomin\\\\MyExamples\\\\python\\\\planet_amazon_rainforest\\\\output\\\\predictions_11_SqueezeNet21_all_classes_fold=4_seed=20172017-07-10-10-18.csv',\n",
       " 'D:\\\\vfomin\\\\MyExamples\\\\python\\\\planet_amazon_rainforest\\\\output\\\\predictions_12_SqueezeNet21_all_classes_fold=4_seed=20172017-07-10-10-18.csv',\n",
       " 'D:\\\\vfomin\\\\MyExamples\\\\python\\\\planet_amazon_rainforest\\\\output\\\\predictions_13_SqueezeNet21_all_classes_fold=4_seed=20172017-07-10-10-18.csv',\n",
       " 'D:\\\\vfomin\\\\MyExamples\\\\python\\\\planet_amazon_rainforest\\\\output\\\\predictions_14_SqueezeNet21_all_classes_fold=4_seed=20172017-07-10-10-18.csv',\n",
       " 'D:\\\\vfomin\\\\MyExamples\\\\python\\\\planet_amazon_rainforest\\\\output\\\\predictions_1_SqueezeNet21_all_classes_fold=4_seed=20172017-07-10-10-18.csv',\n",
       " 'D:\\\\vfomin\\\\MyExamples\\\\python\\\\planet_amazon_rainforest\\\\output\\\\predictions_2_SqueezeNet21_all_classes_fold=4_seed=20172017-07-10-10-18.csv',\n",
       " 'D:\\\\vfomin\\\\MyExamples\\\\python\\\\planet_amazon_rainforest\\\\output\\\\predictions_3_SqueezeNet21_all_classes_fold=4_seed=20172017-07-10-10-18.csv',\n",
       " 'D:\\\\vfomin\\\\MyExamples\\\\python\\\\planet_amazon_rainforest\\\\output\\\\predictions_4_SqueezeNet21_all_classes_fold=4_seed=20172017-07-10-10-18.csv',\n",
       " 'D:\\\\vfomin\\\\MyExamples\\\\python\\\\planet_amazon_rainforest\\\\output\\\\predictions_5_SqueezeNet21_all_classes_fold=4_seed=20172017-07-10-10-18.csv',\n",
       " 'D:\\\\vfomin\\\\MyExamples\\\\python\\\\planet_amazon_rainforest\\\\output\\\\predictions_6_SqueezeNet21_all_classes_fold=4_seed=20172017-07-10-10-18.csv',\n",
       " 'D:\\\\vfomin\\\\MyExamples\\\\python\\\\planet_amazon_rainforest\\\\output\\\\predictions_7_SqueezeNet21_all_classes_fold=4_seed=20172017-07-10-10-18.csv',\n",
       " 'D:\\\\vfomin\\\\MyExamples\\\\python\\\\planet_amazon_rainforest\\\\output\\\\predictions_8_SqueezeNet21_all_classes_fold=4_seed=20172017-07-10-10-18.csv',\n",
       " 'D:\\\\vfomin\\\\MyExamples\\\\python\\\\planet_amazon_rainforest\\\\output\\\\predictions_9_SqueezeNet21_all_classes_fold=4_seed=20172017-07-10-10-18.csv']"
      ]
     },
     "execution_count": 6,
     "metadata": {},
     "output_type": "execute_result"
    }
   ],
   "source": [
    "predictions_csv = glob(os.path.join(OUTPUT_PATH, \"predictions_*.csv\"))\n",
    "predictions_csv"
   ]
  },
  {
   "cell_type": "code",
   "execution_count": 7,
   "metadata": {
    "collapsed": true
   },
   "outputs": [],
   "source": [
    "predictions = []\n",
    "for csv_filepath in predictions_csv:\n",
    "    predictions.append(pd.read_csv(csv_filepath))"
   ]
  },
  {
   "cell_type": "code",
   "execution_count": 18,
   "metadata": {
    "collapsed": true
   },
   "outputs": [
    {
     "data": {
      "text/html": [
       "<div>\n",
       "<style>\n",
       "    .dataframe thead tr:only-child th {\n",
       "        text-align: right;\n",
       "    }\n",
       "\n",
       "    .dataframe thead th {\n",
       "        text-align: left;\n",
       "    }\n",
       "\n",
       "    .dataframe tbody tr th {\n",
       "        vertical-align: top;\n",
       "    }\n",
       "</style>\n",
       "<table border=\"1\" class=\"dataframe\">\n",
       "  <thead>\n",
       "    <tr style=\"text-align: right;\">\n",
       "      <th></th>\n",
       "      <th>image_name</th>\n",
       "      <th>agriculture</th>\n",
       "      <th>artisinal_mine</th>\n",
       "      <th>bare_ground</th>\n",
       "      <th>blooming</th>\n",
       "      <th>blow_down</th>\n",
       "      <th>clear</th>\n",
       "      <th>cloudy</th>\n",
       "      <th>conventional_mine</th>\n",
       "      <th>cultivation</th>\n",
       "      <th>habitation</th>\n",
       "      <th>haze</th>\n",
       "      <th>partly_cloudy</th>\n",
       "      <th>primary</th>\n",
       "      <th>road</th>\n",
       "      <th>selective_logging</th>\n",
       "      <th>slash_burn</th>\n",
       "      <th>water</th>\n",
       "    </tr>\n",
       "  </thead>\n",
       "  <tbody>\n",
       "    <tr>\n",
       "      <th>12574</th>\n",
       "      <td>file_0</td>\n",
       "      <td>0.066559</td>\n",
       "      <td>0.026386</td>\n",
       "      <td>0.022647</td>\n",
       "      <td>0.027997</td>\n",
       "      <td>0.013708</td>\n",
       "      <td>0.943612</td>\n",
       "      <td>0.019972</td>\n",
       "      <td>0.032191</td>\n",
       "      <td>0.064726</td>\n",
       "      <td>0.007336</td>\n",
       "      <td>0.038537</td>\n",
       "      <td>0.124131</td>\n",
       "      <td>0.932207</td>\n",
       "      <td>0.030553</td>\n",
       "      <td>0.022448</td>\n",
       "      <td>0.060615</td>\n",
       "      <td>0.021036</td>\n",
       "    </tr>\n",
       "    <tr>\n",
       "      <th>55285</th>\n",
       "      <td>file_1</td>\n",
       "      <td>0.038082</td>\n",
       "      <td>0.014214</td>\n",
       "      <td>0.010752</td>\n",
       "      <td>0.015895</td>\n",
       "      <td>0.007087</td>\n",
       "      <td>0.972440</td>\n",
       "      <td>0.007770</td>\n",
       "      <td>0.019515</td>\n",
       "      <td>0.043018</td>\n",
       "      <td>0.002502</td>\n",
       "      <td>0.017839</td>\n",
       "      <td>0.100316</td>\n",
       "      <td>0.956652</td>\n",
       "      <td>0.018208</td>\n",
       "      <td>0.010303</td>\n",
       "      <td>0.034832</td>\n",
       "      <td>0.010925</td>\n",
       "    </tr>\n",
       "    <tr>\n",
       "      <th>8330</th>\n",
       "      <td>file_10</td>\n",
       "      <td>0.531736</td>\n",
       "      <td>0.088515</td>\n",
       "      <td>0.147094</td>\n",
       "      <td>0.066210</td>\n",
       "      <td>0.053297</td>\n",
       "      <td>0.578340</td>\n",
       "      <td>0.081342</td>\n",
       "      <td>0.103375</td>\n",
       "      <td>0.219836</td>\n",
       "      <td>0.139833</td>\n",
       "      <td>0.157908</td>\n",
       "      <td>0.314950</td>\n",
       "      <td>0.895389</td>\n",
       "      <td>0.175684</td>\n",
       "      <td>0.085034</td>\n",
       "      <td>0.094970</td>\n",
       "      <td>0.237179</td>\n",
       "    </tr>\n",
       "    <tr>\n",
       "      <th>19435</th>\n",
       "      <td>file_100</td>\n",
       "      <td>0.180771</td>\n",
       "      <td>0.013756</td>\n",
       "      <td>0.018632</td>\n",
       "      <td>0.009134</td>\n",
       "      <td>0.013630</td>\n",
       "      <td>0.951660</td>\n",
       "      <td>0.010162</td>\n",
       "      <td>0.021247</td>\n",
       "      <td>0.061058</td>\n",
       "      <td>0.009143</td>\n",
       "      <td>0.032453</td>\n",
       "      <td>0.117525</td>\n",
       "      <td>0.971390</td>\n",
       "      <td>0.055973</td>\n",
       "      <td>0.015998</td>\n",
       "      <td>0.061598</td>\n",
       "      <td>0.047556</td>\n",
       "    </tr>\n",
       "    <tr>\n",
       "      <th>54655</th>\n",
       "      <td>file_1000</td>\n",
       "      <td>0.244277</td>\n",
       "      <td>0.051670</td>\n",
       "      <td>0.078124</td>\n",
       "      <td>0.059738</td>\n",
       "      <td>0.039378</td>\n",
       "      <td>0.754265</td>\n",
       "      <td>0.064522</td>\n",
       "      <td>0.097159</td>\n",
       "      <td>0.168164</td>\n",
       "      <td>0.050973</td>\n",
       "      <td>0.091554</td>\n",
       "      <td>0.297560</td>\n",
       "      <td>0.866799</td>\n",
       "      <td>0.116241</td>\n",
       "      <td>0.045633</td>\n",
       "      <td>0.082810</td>\n",
       "      <td>0.119394</td>\n",
       "    </tr>\n",
       "  </tbody>\n",
       "</table>\n",
       "</div>"
      ],
      "text/plain": [
       "      image_name  agriculture  artisinal_mine  bare_ground  blooming  \\\n",
       "12574     file_0     0.066559        0.026386     0.022647  0.027997   \n",
       "55285     file_1     0.038082        0.014214     0.010752  0.015895   \n",
       "8330     file_10     0.531736        0.088515     0.147094  0.066210   \n",
       "19435   file_100     0.180771        0.013756     0.018632  0.009134   \n",
       "54655  file_1000     0.244277        0.051670     0.078124  0.059738   \n",
       "\n",
       "       blow_down     clear    cloudy  conventional_mine  cultivation  \\\n",
       "12574   0.013708  0.943612  0.019972           0.032191     0.064726   \n",
       "55285   0.007087  0.972440  0.007770           0.019515     0.043018   \n",
       "8330    0.053297  0.578340  0.081342           0.103375     0.219836   \n",
       "19435   0.013630  0.951660  0.010162           0.021247     0.061058   \n",
       "54655   0.039378  0.754265  0.064522           0.097159     0.168164   \n",
       "\n",
       "       habitation      haze  partly_cloudy   primary      road  \\\n",
       "12574    0.007336  0.038537       0.124131  0.932207  0.030553   \n",
       "55285    0.002502  0.017839       0.100316  0.956652  0.018208   \n",
       "8330     0.139833  0.157908       0.314950  0.895389  0.175684   \n",
       "19435    0.009143  0.032453       0.117525  0.971390  0.055973   \n",
       "54655    0.050973  0.091554       0.297560  0.866799  0.116241   \n",
       "\n",
       "       selective_logging  slash_burn     water  \n",
       "12574           0.022448    0.060615  0.021036  \n",
       "55285           0.010303    0.034832  0.010925  \n",
       "8330            0.085034    0.094970  0.237179  \n",
       "19435           0.015998    0.061598  0.047556  \n",
       "54655           0.045633    0.082810  0.119394  "
      ]
     },
     "execution_count": 18,
     "metadata": {},
     "output_type": "execute_result"
    }
   ],
   "source": [
    "predictions[0].sort_values(by='image_name').head()"
   ]
  },
  {
   "cell_type": "code",
   "execution_count": 19,
   "metadata": {
    "collapsed": true
   },
   "outputs": [
    {
     "data": {
      "text/html": [
       "<div>\n",
       "<style>\n",
       "    .dataframe thead tr:only-child th {\n",
       "        text-align: right;\n",
       "    }\n",
       "\n",
       "    .dataframe thead th {\n",
       "        text-align: left;\n",
       "    }\n",
       "\n",
       "    .dataframe tbody tr th {\n",
       "        vertical-align: top;\n",
       "    }\n",
       "</style>\n",
       "<table border=\"1\" class=\"dataframe\">\n",
       "  <thead>\n",
       "    <tr style=\"text-align: right;\">\n",
       "      <th></th>\n",
       "      <th>image_name</th>\n",
       "      <th>agriculture</th>\n",
       "      <th>artisinal_mine</th>\n",
       "      <th>bare_ground</th>\n",
       "      <th>blooming</th>\n",
       "      <th>blow_down</th>\n",
       "      <th>clear</th>\n",
       "      <th>cloudy</th>\n",
       "      <th>conventional_mine</th>\n",
       "      <th>cultivation</th>\n",
       "      <th>habitation</th>\n",
       "      <th>haze</th>\n",
       "      <th>partly_cloudy</th>\n",
       "      <th>primary</th>\n",
       "      <th>road</th>\n",
       "      <th>selective_logging</th>\n",
       "      <th>slash_burn</th>\n",
       "      <th>water</th>\n",
       "    </tr>\n",
       "  </thead>\n",
       "  <tbody>\n",
       "    <tr>\n",
       "      <th>16525</th>\n",
       "      <td>file_0</td>\n",
       "      <td>0.073166</td>\n",
       "      <td>0.029202</td>\n",
       "      <td>0.025499</td>\n",
       "      <td>0.028145</td>\n",
       "      <td>0.016391</td>\n",
       "      <td>0.949343</td>\n",
       "      <td>0.018040</td>\n",
       "      <td>0.036076</td>\n",
       "      <td>0.075053</td>\n",
       "      <td>0.007552</td>\n",
       "      <td>0.037240</td>\n",
       "      <td>0.133683</td>\n",
       "      <td>0.930354</td>\n",
       "      <td>0.032100</td>\n",
       "      <td>0.023555</td>\n",
       "      <td>0.064420</td>\n",
       "      <td>0.022039</td>\n",
       "    </tr>\n",
       "    <tr>\n",
       "      <th>60335</th>\n",
       "      <td>file_1</td>\n",
       "      <td>0.030922</td>\n",
       "      <td>0.017255</td>\n",
       "      <td>0.010863</td>\n",
       "      <td>0.015595</td>\n",
       "      <td>0.008960</td>\n",
       "      <td>0.966943</td>\n",
       "      <td>0.008244</td>\n",
       "      <td>0.024155</td>\n",
       "      <td>0.054117</td>\n",
       "      <td>0.002726</td>\n",
       "      <td>0.022738</td>\n",
       "      <td>0.113144</td>\n",
       "      <td>0.956747</td>\n",
       "      <td>0.015055</td>\n",
       "      <td>0.012653</td>\n",
       "      <td>0.040333</td>\n",
       "      <td>0.009813</td>\n",
       "    </tr>\n",
       "    <tr>\n",
       "      <th>38579</th>\n",
       "      <td>file_10</td>\n",
       "      <td>0.313379</td>\n",
       "      <td>0.051428</td>\n",
       "      <td>0.100774</td>\n",
       "      <td>0.047588</td>\n",
       "      <td>0.058047</td>\n",
       "      <td>0.721346</td>\n",
       "      <td>0.031028</td>\n",
       "      <td>0.072293</td>\n",
       "      <td>0.221484</td>\n",
       "      <td>0.057846</td>\n",
       "      <td>0.107129</td>\n",
       "      <td>0.291878</td>\n",
       "      <td>0.893824</td>\n",
       "      <td>0.121176</td>\n",
       "      <td>0.054719</td>\n",
       "      <td>0.104063</td>\n",
       "      <td>0.139087</td>\n",
       "    </tr>\n",
       "    <tr>\n",
       "      <th>21391</th>\n",
       "      <td>file_100</td>\n",
       "      <td>0.151895</td>\n",
       "      <td>0.045386</td>\n",
       "      <td>0.058039</td>\n",
       "      <td>0.066351</td>\n",
       "      <td>0.020819</td>\n",
       "      <td>0.876061</td>\n",
       "      <td>0.031993</td>\n",
       "      <td>0.077704</td>\n",
       "      <td>0.123705</td>\n",
       "      <td>0.029359</td>\n",
       "      <td>0.056405</td>\n",
       "      <td>0.235682</td>\n",
       "      <td>0.886710</td>\n",
       "      <td>0.076777</td>\n",
       "      <td>0.047129</td>\n",
       "      <td>0.048100</td>\n",
       "      <td>0.066734</td>\n",
       "    </tr>\n",
       "    <tr>\n",
       "      <th>24228</th>\n",
       "      <td>file_1000</td>\n",
       "      <td>0.479737</td>\n",
       "      <td>0.062571</td>\n",
       "      <td>0.088518</td>\n",
       "      <td>0.045429</td>\n",
       "      <td>0.046464</td>\n",
       "      <td>0.707323</td>\n",
       "      <td>0.058361</td>\n",
       "      <td>0.065683</td>\n",
       "      <td>0.153167</td>\n",
       "      <td>0.063890</td>\n",
       "      <td>0.158736</td>\n",
       "      <td>0.298752</td>\n",
       "      <td>0.882938</td>\n",
       "      <td>0.228939</td>\n",
       "      <td>0.037973</td>\n",
       "      <td>0.101017</td>\n",
       "      <td>0.173090</td>\n",
       "    </tr>\n",
       "  </tbody>\n",
       "</table>\n",
       "</div>"
      ],
      "text/plain": [
       "      image_name  agriculture  artisinal_mine  bare_ground  blooming  \\\n",
       "16525     file_0     0.073166        0.029202     0.025499  0.028145   \n",
       "60335     file_1     0.030922        0.017255     0.010863  0.015595   \n",
       "38579    file_10     0.313379        0.051428     0.100774  0.047588   \n",
       "21391   file_100     0.151895        0.045386     0.058039  0.066351   \n",
       "24228  file_1000     0.479737        0.062571     0.088518  0.045429   \n",
       "\n",
       "       blow_down     clear    cloudy  conventional_mine  cultivation  \\\n",
       "16525   0.016391  0.949343  0.018040           0.036076     0.075053   \n",
       "60335   0.008960  0.966943  0.008244           0.024155     0.054117   \n",
       "38579   0.058047  0.721346  0.031028           0.072293     0.221484   \n",
       "21391   0.020819  0.876061  0.031993           0.077704     0.123705   \n",
       "24228   0.046464  0.707323  0.058361           0.065683     0.153167   \n",
       "\n",
       "       habitation      haze  partly_cloudy   primary      road  \\\n",
       "16525    0.007552  0.037240       0.133683  0.930354  0.032100   \n",
       "60335    0.002726  0.022738       0.113144  0.956747  0.015055   \n",
       "38579    0.057846  0.107129       0.291878  0.893824  0.121176   \n",
       "21391    0.029359  0.056405       0.235682  0.886710  0.076777   \n",
       "24228    0.063890  0.158736       0.298752  0.882938  0.228939   \n",
       "\n",
       "       selective_logging  slash_burn     water  \n",
       "16525           0.023555    0.064420  0.022039  \n",
       "60335           0.012653    0.040333  0.009813  \n",
       "38579           0.054719    0.104063  0.139087  \n",
       "21391           0.047129    0.048100  0.066734  \n",
       "24228           0.037973    0.101017  0.173090  "
      ]
     },
     "execution_count": 19,
     "metadata": {},
     "output_type": "execute_result"
    }
   ],
   "source": [
    "predictions[1].sort_values(by='image_name').head()"
   ]
  },
  {
   "cell_type": "code",
   "execution_count": 8,
   "metadata": {
    "collapsed": true
   },
   "outputs": [],
   "source": [
    "def compute_mean(predictions):\n",
    "    df = predictions[0]\n",
    "    for p in predictions[1:]:\n",
    "        df = pd.concat([df, p], axis=0)\n",
    "    df = df.apply(pd.to_numeric, errors='ignore')\n",
    "    gb = df.groupby('image_name')\n",
    "    df2 = gb.agg(np.mean).reset_index()\n",
    "    return df2"
   ]
  },
  {
   "cell_type": "code",
   "execution_count": 9,
   "metadata": {
    "collapsed": true
   },
   "outputs": [],
   "source": [
    "mean_predictions_df = compute_mean(predictions)"
   ]
  },
  {
   "cell_type": "code",
   "execution_count": 10,
   "metadata": {},
   "outputs": [
    {
     "data": {
      "text/html": [
       "<div>\n",
       "<style>\n",
       "    .dataframe thead tr:only-child th {\n",
       "        text-align: right;\n",
       "    }\n",
       "\n",
       "    .dataframe thead th {\n",
       "        text-align: left;\n",
       "    }\n",
       "\n",
       "    .dataframe tbody tr th {\n",
       "        vertical-align: top;\n",
       "    }\n",
       "</style>\n",
       "<table border=\"1\" class=\"dataframe\">\n",
       "  <thead>\n",
       "    <tr style=\"text-align: right;\">\n",
       "      <th></th>\n",
       "      <th>image_name</th>\n",
       "      <th>agriculture</th>\n",
       "      <th>artisinal_mine</th>\n",
       "      <th>bare_ground</th>\n",
       "      <th>blooming</th>\n",
       "      <th>blow_down</th>\n",
       "      <th>clear</th>\n",
       "      <th>cloudy</th>\n",
       "      <th>conventional_mine</th>\n",
       "      <th>cultivation</th>\n",
       "      <th>habitation</th>\n",
       "      <th>haze</th>\n",
       "      <th>partly_cloudy</th>\n",
       "      <th>primary</th>\n",
       "      <th>road</th>\n",
       "      <th>selective_logging</th>\n",
       "      <th>slash_burn</th>\n",
       "      <th>water</th>\n",
       "    </tr>\n",
       "  </thead>\n",
       "  <tbody>\n",
       "    <tr>\n",
       "      <th>0</th>\n",
       "      <td>file_0</td>\n",
       "      <td>0.075577</td>\n",
       "      <td>0.022042</td>\n",
       "      <td>0.028876</td>\n",
       "      <td>0.018089</td>\n",
       "      <td>0.032277</td>\n",
       "      <td>0.903471</td>\n",
       "      <td>0.013046</td>\n",
       "      <td>0.059221</td>\n",
       "      <td>0.093378</td>\n",
       "      <td>0.027963</td>\n",
       "      <td>0.020402</td>\n",
       "      <td>0.083580</td>\n",
       "      <td>0.967447</td>\n",
       "      <td>0.053680</td>\n",
       "      <td>0.035005</td>\n",
       "      <td>0.046575</td>\n",
       "      <td>0.088839</td>\n",
       "    </tr>\n",
       "    <tr>\n",
       "      <th>1</th>\n",
       "      <td>file_1</td>\n",
       "      <td>0.035373</td>\n",
       "      <td>0.011506</td>\n",
       "      <td>0.014149</td>\n",
       "      <td>0.007825</td>\n",
       "      <td>0.020209</td>\n",
       "      <td>0.938606</td>\n",
       "      <td>0.004963</td>\n",
       "      <td>0.037624</td>\n",
       "      <td>0.064372</td>\n",
       "      <td>0.013600</td>\n",
       "      <td>0.006733</td>\n",
       "      <td>0.056471</td>\n",
       "      <td>0.984725</td>\n",
       "      <td>0.029025</td>\n",
       "      <td>0.024612</td>\n",
       "      <td>0.022560</td>\n",
       "      <td>0.068315</td>\n",
       "    </tr>\n",
       "    <tr>\n",
       "      <th>2</th>\n",
       "      <td>file_10</td>\n",
       "      <td>0.449505</td>\n",
       "      <td>0.034339</td>\n",
       "      <td>0.059886</td>\n",
       "      <td>0.027366</td>\n",
       "      <td>0.057424</td>\n",
       "      <td>0.431175</td>\n",
       "      <td>0.063071</td>\n",
       "      <td>0.088553</td>\n",
       "      <td>0.169601</td>\n",
       "      <td>0.047239</td>\n",
       "      <td>0.087217</td>\n",
       "      <td>0.583021</td>\n",
       "      <td>0.913226</td>\n",
       "      <td>0.166780</td>\n",
       "      <td>0.118563</td>\n",
       "      <td>0.112523</td>\n",
       "      <td>0.232856</td>\n",
       "    </tr>\n",
       "    <tr>\n",
       "      <th>3</th>\n",
       "      <td>file_100</td>\n",
       "      <td>0.078833</td>\n",
       "      <td>0.020902</td>\n",
       "      <td>0.019649</td>\n",
       "      <td>0.012992</td>\n",
       "      <td>0.025159</td>\n",
       "      <td>0.939492</td>\n",
       "      <td>0.007644</td>\n",
       "      <td>0.047085</td>\n",
       "      <td>0.070833</td>\n",
       "      <td>0.030681</td>\n",
       "      <td>0.010401</td>\n",
       "      <td>0.059309</td>\n",
       "      <td>0.973639</td>\n",
       "      <td>0.079619</td>\n",
       "      <td>0.026858</td>\n",
       "      <td>0.032322</td>\n",
       "      <td>0.110833</td>\n",
       "    </tr>\n",
       "    <tr>\n",
       "      <th>4</th>\n",
       "      <td>file_1000</td>\n",
       "      <td>0.281819</td>\n",
       "      <td>0.043391</td>\n",
       "      <td>0.059090</td>\n",
       "      <td>0.035357</td>\n",
       "      <td>0.050177</td>\n",
       "      <td>0.832329</td>\n",
       "      <td>0.022377</td>\n",
       "      <td>0.087638</td>\n",
       "      <td>0.141859</td>\n",
       "      <td>0.083981</td>\n",
       "      <td>0.046980</td>\n",
       "      <td>0.133932</td>\n",
       "      <td>0.937326</td>\n",
       "      <td>0.180613</td>\n",
       "      <td>0.047837</td>\n",
       "      <td>0.055389</td>\n",
       "      <td>0.167381</td>\n",
       "    </tr>\n",
       "  </tbody>\n",
       "</table>\n",
       "</div>"
      ],
      "text/plain": [
       "  image_name  agriculture  artisinal_mine  bare_ground  blooming  blow_down  \\\n",
       "0     file_0     0.075577        0.022042     0.028876  0.018089   0.032277   \n",
       "1     file_1     0.035373        0.011506     0.014149  0.007825   0.020209   \n",
       "2    file_10     0.449505        0.034339     0.059886  0.027366   0.057424   \n",
       "3   file_100     0.078833        0.020902     0.019649  0.012992   0.025159   \n",
       "4  file_1000     0.281819        0.043391     0.059090  0.035357   0.050177   \n",
       "\n",
       "      clear    cloudy  conventional_mine  cultivation  habitation      haze  \\\n",
       "0  0.903471  0.013046           0.059221     0.093378    0.027963  0.020402   \n",
       "1  0.938606  0.004963           0.037624     0.064372    0.013600  0.006733   \n",
       "2  0.431175  0.063071           0.088553     0.169601    0.047239  0.087217   \n",
       "3  0.939492  0.007644           0.047085     0.070833    0.030681  0.010401   \n",
       "4  0.832329  0.022377           0.087638     0.141859    0.083981  0.046980   \n",
       "\n",
       "   partly_cloudy   primary      road  selective_logging  slash_burn     water  \n",
       "0       0.083580  0.967447  0.053680           0.035005    0.046575  0.088839  \n",
       "1       0.056471  0.984725  0.029025           0.024612    0.022560  0.068315  \n",
       "2       0.583021  0.913226  0.166780           0.118563    0.112523  0.232856  \n",
       "3       0.059309  0.973639  0.079619           0.026858    0.032322  0.110833  \n",
       "4       0.133932  0.937326  0.180613           0.047837    0.055389  0.167381  "
      ]
     },
     "execution_count": 10,
     "metadata": {},
     "output_type": "execute_result"
    }
   ],
   "source": [
    "mean_predictions_df.head()"
   ]
  },
  {
   "cell_type": "code",
   "execution_count": 11,
   "metadata": {
    "collapsed": true
   },
   "outputs": [],
   "source": [
    "thresholds = {\n",
    "    'agriculture': 0.35,\n",
    "    'artisinal_mine': 0.35,\n",
    "    'bare_ground': 0.35,\n",
    "    'blooming': 0.35,\n",
    "    'blow_down': 0.1,\n",
    "    'clear': 0.5,\n",
    "    'cloudy': 0.35,\n",
    "    'conventional_mine': 0.35,\n",
    "    'cultivation': 0.35,\n",
    "    'habitation': 0.35,\n",
    "    'haze': 0.35,\n",
    "    'partly_cloudy': 0.35,\n",
    "    'primary': 0.5,\n",
    "    'road': 0.35,\n",
    "    'selective_logging': 0.35,\n",
    "    'slash_burn': 0.1,\n",
    "    'water': 0.35\n",
    "}"
   ]
  },
  {
   "cell_type": "code",
   "execution_count": 14,
   "metadata": {},
   "outputs": [],
   "source": [
    "create_submission(mean_predictions_df, info=\"squeezenet21_mean_5_folds\", thresholds=thresholds)"
   ]
  },
  {
   "cell_type": "code",
   "execution_count": null,
   "metadata": {
    "collapsed": true
   },
   "outputs": [],
   "source": []
  },
  {
   "cell_type": "markdown",
   "metadata": {},
   "source": [
    "## Train xgboost trees to make better predictions"
   ]
  },
  {
   "cell_type": "code",
   "execution_count": 33,
   "metadata": {},
   "outputs": [
    {
     "data": {
      "text/plain": [
       "['D:\\\\vfomin\\\\MyExamples\\\\python\\\\planet_amazon_rainforest\\\\output\\\\val_predictions_SqueezeNet21_all_classes_fold=0_seed=2017_run=1_2017-07-10-13-19.csv',\n",
       " 'D:\\\\vfomin\\\\MyExamples\\\\python\\\\planet_amazon_rainforest\\\\output\\\\val_predictions_SqueezeNet21_all_classes_fold=0_seed=2017_run=2_2017-07-10-13-19.csv',\n",
       " 'D:\\\\vfomin\\\\MyExamples\\\\python\\\\planet_amazon_rainforest\\\\output\\\\val_predictions_SqueezeNet21_all_classes_fold=1_seed=2017_run=1_2017-07-10-13-19.csv',\n",
       " 'D:\\\\vfomin\\\\MyExamples\\\\python\\\\planet_amazon_rainforest\\\\output\\\\val_predictions_SqueezeNet21_all_classes_fold=1_seed=2017_run=2_2017-07-10-13-19.csv',\n",
       " 'D:\\\\vfomin\\\\MyExamples\\\\python\\\\planet_amazon_rainforest\\\\output\\\\val_predictions_SqueezeNet21_all_classes_fold=2_seed=2017_run=1_2017-07-10-13-19.csv',\n",
       " 'D:\\\\vfomin\\\\MyExamples\\\\python\\\\planet_amazon_rainforest\\\\output\\\\val_predictions_SqueezeNet21_all_classes_fold=2_seed=2017_run=2_2017-07-10-13-19.csv',\n",
       " 'D:\\\\vfomin\\\\MyExamples\\\\python\\\\planet_amazon_rainforest\\\\output\\\\val_predictions_SqueezeNet21_all_classes_fold=3_seed=2017_run=1_2017-07-10-13-19.csv',\n",
       " 'D:\\\\vfomin\\\\MyExamples\\\\python\\\\planet_amazon_rainforest\\\\output\\\\val_predictions_SqueezeNet21_all_classes_fold=3_seed=2017_run=2_2017-07-10-13-19.csv',\n",
       " 'D:\\\\vfomin\\\\MyExamples\\\\python\\\\planet_amazon_rainforest\\\\output\\\\val_predictions_SqueezeNet21_all_classes_fold=4_seed=2017_run=1_2017-07-10-13-19.csv',\n",
       " 'D:\\\\vfomin\\\\MyExamples\\\\python\\\\planet_amazon_rainforest\\\\output\\\\val_predictions_SqueezeNet21_all_classes_fold=4_seed=2017_run=2_2017-07-10-13-19.csv']"
      ]
     },
     "execution_count": 33,
     "metadata": {},
     "output_type": "execute_result"
    }
   ],
   "source": [
    "val_predictions_csv = glob(os.path.join(OUTPUT_PATH, \"val_predictions_*.csv\"))\n",
    "val_predictions_csv"
   ]
  },
  {
   "cell_type": "code",
   "execution_count": 73,
   "metadata": {
    "collapsed": true
   },
   "outputs": [],
   "source": [
    "df = pd.read_csv(val_predictions_csv[0]).dropna()\n",
    "for filepath in val_predictions_csv[1:]:\n",
    "    df = pd.concat([df, pd.read_csv(filepath).dropna()])\n",
    "df.reset_index(inplace=True)    "
   ]
  },
  {
   "cell_type": "code",
   "execution_count": 83,
   "metadata": {
    "collapsed": true
   },
   "outputs": [
    {
     "name": "stdout",
     "output_type": "stream",
     "text": [
      "80640\n"
     ]
    },
    {
     "data": {
      "text/html": [
       "<div>\n",
       "<style>\n",
       "    .dataframe thead tr:only-child th {\n",
       "        text-align: right;\n",
       "    }\n",
       "\n",
       "    .dataframe thead th {\n",
       "        text-align: left;\n",
       "    }\n",
       "\n",
       "    .dataframe tbody tr th {\n",
       "        vertical-align: top;\n",
       "    }\n",
       "</style>\n",
       "<table border=\"1\" class=\"dataframe\">\n",
       "  <thead>\n",
       "    <tr style=\"text-align: right;\">\n",
       "      <th></th>\n",
       "      <th>index</th>\n",
       "      <th>image_name</th>\n",
       "      <th>agriculture</th>\n",
       "      <th>artisinal_mine</th>\n",
       "      <th>bare_ground</th>\n",
       "      <th>blooming</th>\n",
       "      <th>blow_down</th>\n",
       "      <th>clear</th>\n",
       "      <th>cloudy</th>\n",
       "      <th>conventional_mine</th>\n",
       "      <th>...</th>\n",
       "      <th>habitation</th>\n",
       "      <th>haze</th>\n",
       "      <th>partly_cloudy</th>\n",
       "      <th>primary</th>\n",
       "      <th>road</th>\n",
       "      <th>selective_logging</th>\n",
       "      <th>slash_burn</th>\n",
       "      <th>water</th>\n",
       "      <th>image_id</th>\n",
       "      <th>target</th>\n",
       "    </tr>\n",
       "  </thead>\n",
       "  <tbody>\n",
       "    <tr>\n",
       "      <th>0</th>\n",
       "      <td>0</td>\n",
       "      <td>test_628</td>\n",
       "      <td>0.071995</td>\n",
       "      <td>0.019810</td>\n",
       "      <td>0.018135</td>\n",
       "      <td>0.020460</td>\n",
       "      <td>0.015155</td>\n",
       "      <td>0.950393</td>\n",
       "      <td>0.018868</td>\n",
       "      <td>0.034112</td>\n",
       "      <td>...</td>\n",
       "      <td>0.007275</td>\n",
       "      <td>0.032921</td>\n",
       "      <td>0.148809</td>\n",
       "      <td>0.933757</td>\n",
       "      <td>0.041442</td>\n",
       "      <td>0.018702</td>\n",
       "      <td>0.055927</td>\n",
       "      <td>0.026246</td>\n",
       "      <td>628</td>\n",
       "      <td>[0, 0, 0, 0, 0, 1, 0, 0, 0, 0, 0, 0, 1, 0, 0, ...</td>\n",
       "    </tr>\n",
       "    <tr>\n",
       "      <th>1</th>\n",
       "      <td>1</td>\n",
       "      <td>test_8842</td>\n",
       "      <td>0.070470</td>\n",
       "      <td>0.024685</td>\n",
       "      <td>0.020838</td>\n",
       "      <td>0.020732</td>\n",
       "      <td>0.016295</td>\n",
       "      <td>0.946937</td>\n",
       "      <td>0.013844</td>\n",
       "      <td>0.024798</td>\n",
       "      <td>...</td>\n",
       "      <td>0.005569</td>\n",
       "      <td>0.047688</td>\n",
       "      <td>0.121639</td>\n",
       "      <td>0.943046</td>\n",
       "      <td>0.033911</td>\n",
       "      <td>0.019459</td>\n",
       "      <td>0.070846</td>\n",
       "      <td>0.021167</td>\n",
       "      <td>8842</td>\n",
       "      <td>[0, 0, 0, 0, 0, 1, 0, 0, 0, 0, 0, 0, 1, 0, 0, ...</td>\n",
       "    </tr>\n",
       "    <tr>\n",
       "      <th>2</th>\n",
       "      <td>2</td>\n",
       "      <td>test_11877</td>\n",
       "      <td>0.760127</td>\n",
       "      <td>0.092261</td>\n",
       "      <td>0.118277</td>\n",
       "      <td>0.099680</td>\n",
       "      <td>0.101711</td>\n",
       "      <td>0.741155</td>\n",
       "      <td>0.107806</td>\n",
       "      <td>0.115136</td>\n",
       "      <td>...</td>\n",
       "      <td>0.298347</td>\n",
       "      <td>0.111120</td>\n",
       "      <td>0.299565</td>\n",
       "      <td>0.822521</td>\n",
       "      <td>0.437350</td>\n",
       "      <td>0.100299</td>\n",
       "      <td>0.150043</td>\n",
       "      <td>0.422677</td>\n",
       "      <td>11877</td>\n",
       "      <td>[1, 0, 0, 0, 0, 1, 0, 0, 0, 1, 0, 0, 1, 1, 0, ...</td>\n",
       "    </tr>\n",
       "    <tr>\n",
       "      <th>3</th>\n",
       "      <td>3</td>\n",
       "      <td>test_2413</td>\n",
       "      <td>0.229211</td>\n",
       "      <td>0.058638</td>\n",
       "      <td>0.096851</td>\n",
       "      <td>0.112940</td>\n",
       "      <td>0.040866</td>\n",
       "      <td>0.833260</td>\n",
       "      <td>0.051784</td>\n",
       "      <td>0.093998</td>\n",
       "      <td>...</td>\n",
       "      <td>0.053805</td>\n",
       "      <td>0.081282</td>\n",
       "      <td>0.317577</td>\n",
       "      <td>0.914311</td>\n",
       "      <td>0.087564</td>\n",
       "      <td>0.074766</td>\n",
       "      <td>0.100207</td>\n",
       "      <td>0.135809</td>\n",
       "      <td>2413</td>\n",
       "      <td>[0, 0, 0, 0, 0, 1, 0, 0, 0, 0, 0, 0, 1, 0, 0, ...</td>\n",
       "    </tr>\n",
       "    <tr>\n",
       "      <th>4</th>\n",
       "      <td>4</td>\n",
       "      <td>test_28838</td>\n",
       "      <td>0.071773</td>\n",
       "      <td>0.017712</td>\n",
       "      <td>0.019611</td>\n",
       "      <td>0.027369</td>\n",
       "      <td>0.016949</td>\n",
       "      <td>0.962932</td>\n",
       "      <td>0.013631</td>\n",
       "      <td>0.027329</td>\n",
       "      <td>...</td>\n",
       "      <td>0.006570</td>\n",
       "      <td>0.035925</td>\n",
       "      <td>0.116127</td>\n",
       "      <td>0.937008</td>\n",
       "      <td>0.026963</td>\n",
       "      <td>0.020253</td>\n",
       "      <td>0.056307</td>\n",
       "      <td>0.017759</td>\n",
       "      <td>28838</td>\n",
       "      <td>[0, 0, 0, 0, 0, 1, 0, 0, 0, 0, 0, 0, 1, 0, 0, ...</td>\n",
       "    </tr>\n",
       "  </tbody>\n",
       "</table>\n",
       "<p>5 rows × 21 columns</p>\n",
       "</div>"
      ],
      "text/plain": [
       "   index  image_name  agriculture  artisinal_mine  bare_ground  blooming  \\\n",
       "0      0    test_628     0.071995        0.019810     0.018135  0.020460   \n",
       "1      1   test_8842     0.070470        0.024685     0.020838  0.020732   \n",
       "2      2  test_11877     0.760127        0.092261     0.118277  0.099680   \n",
       "3      3   test_2413     0.229211        0.058638     0.096851  0.112940   \n",
       "4      4  test_28838     0.071773        0.017712     0.019611  0.027369   \n",
       "\n",
       "   blow_down     clear    cloudy  conventional_mine  \\\n",
       "0   0.015155  0.950393  0.018868           0.034112   \n",
       "1   0.016295  0.946937  0.013844           0.024798   \n",
       "2   0.101711  0.741155  0.107806           0.115136   \n",
       "3   0.040866  0.833260  0.051784           0.093998   \n",
       "4   0.016949  0.962932  0.013631           0.027329   \n",
       "\n",
       "                         ...                          habitation      haze  \\\n",
       "0                        ...                            0.007275  0.032921   \n",
       "1                        ...                            0.005569  0.047688   \n",
       "2                        ...                            0.298347  0.111120   \n",
       "3                        ...                            0.053805  0.081282   \n",
       "4                        ...                            0.006570  0.035925   \n",
       "\n",
       "   partly_cloudy   primary      road  selective_logging  slash_burn     water  \\\n",
       "0       0.148809  0.933757  0.041442           0.018702    0.055927  0.026246   \n",
       "1       0.121639  0.943046  0.033911           0.019459    0.070846  0.021167   \n",
       "2       0.299565  0.822521  0.437350           0.100299    0.150043  0.422677   \n",
       "3       0.317577  0.914311  0.087564           0.074766    0.100207  0.135809   \n",
       "4       0.116127  0.937008  0.026963           0.020253    0.056307  0.017759   \n",
       "\n",
       "   image_id                                             target  \n",
       "0       628  [0, 0, 0, 0, 0, 1, 0, 0, 0, 0, 0, 0, 1, 0, 0, ...  \n",
       "1      8842  [0, 0, 0, 0, 0, 1, 0, 0, 0, 0, 0, 0, 1, 0, 0, ...  \n",
       "2     11877  [1, 0, 0, 0, 0, 1, 0, 0, 0, 1, 0, 0, 1, 1, 0, ...  \n",
       "3      2413  [0, 0, 0, 0, 0, 1, 0, 0, 0, 0, 0, 0, 1, 0, 0, ...  \n",
       "4     28838  [0, 0, 0, 0, 0, 1, 0, 0, 0, 0, 0, 0, 1, 0, 0, ...  \n",
       "\n",
       "[5 rows x 21 columns]"
      ]
     },
     "execution_count": 83,
     "metadata": {},
     "output_type": "execute_result"
    }
   ],
   "source": [
    "print(len(df))\n",
    "df.head()"
   ]
  },
  {
   "cell_type": "code",
   "execution_count": 107,
   "metadata": {
    "collapsed": true
   },
   "outputs": [],
   "source": [
    "df['image_id'] = df['image_name'].apply(lambda x: int(x[len('test_'):]))"
   ]
  },
  {
   "cell_type": "code",
   "execution_count": 77,
   "metadata": {
    "collapsed": true
   },
   "outputs": [],
   "source": [
    "from data_utils import unique_tags, get_label"
   ]
  },
  {
   "cell_type": "code",
   "execution_count": 80,
   "metadata": {},
   "outputs": [
    {
     "data": {
      "text/plain": [
       "array([0, 0, 0, 0, 0, 1, 0, 0, 0, 0, 0, 0, 1, 0, 0, 0, 0], dtype=uint8)"
      ]
     },
     "execution_count": 80,
     "metadata": {},
     "output_type": "execute_result"
    }
   ],
   "source": [
    "get_label(df.loc[0, 'image_id'], \"Train_jpg\")"
   ]
  },
  {
   "cell_type": "code",
   "execution_count": 81,
   "metadata": {},
   "outputs": [],
   "source": [
    "df['target'] = df['image_id'].apply(lambda image_id: get_label(image_id, \"Train_jpg\"))"
   ]
  },
  {
   "cell_type": "code",
   "execution_count": 84,
   "metadata": {},
   "outputs": [
    {
     "data": {
      "text/plain": [
       "image_id                                                  628\n",
       "target      [0, 0, 0, 0, 0, 1, 0, 0, 0, 0, 0, 0, 1, 0, 0, ...\n",
       "Name: 0, dtype: object"
      ]
     },
     "execution_count": 84,
     "metadata": {},
     "output_type": "execute_result"
    }
   ],
   "source": [
    "df.loc[0,['image_id', 'target']]"
   ]
  },
  {
   "cell_type": "markdown",
   "metadata": {},
   "source": [
    "#### Check prediction of rare classes"
   ]
  },
  {
   "cell_type": "code",
   "execution_count": 92,
   "metadata": {
    "collapsed": true
   },
   "outputs": [],
   "source": [
    "from data_utils import equalized_data_classes, TRAIN_ENC_CL_CSV"
   ]
  },
  {
   "cell_type": "code",
   "execution_count": 97,
   "metadata": {},
   "outputs": [],
   "source": [
    "image_ids = TRAIN_ENC_CL_CSV[TRAIN_ENC_CL_CSV['class_0'] == 1]['image_id']"
   ]
  },
  {
   "cell_type": "code",
   "execution_count": 102,
   "metadata": {},
   "outputs": [
    {
     "data": {
      "text/html": [
       "<div>\n",
       "<style>\n",
       "    .dataframe thead tr:only-child th {\n",
       "        text-align: right;\n",
       "    }\n",
       "\n",
       "    .dataframe thead th {\n",
       "        text-align: left;\n",
       "    }\n",
       "\n",
       "    .dataframe tbody tr th {\n",
       "        vertical-align: top;\n",
       "    }\n",
       "</style>\n",
       "<table border=\"1\" class=\"dataframe\">\n",
       "  <thead>\n",
       "    <tr style=\"text-align: right;\">\n",
       "      <th></th>\n",
       "      <th>image_name</th>\n",
       "      <th>tags</th>\n",
       "      <th>cloudy</th>\n",
       "      <th>selective_logging</th>\n",
       "      <th>cultivation</th>\n",
       "      <th>artisinal_mine</th>\n",
       "      <th>water</th>\n",
       "      <th>bare_ground</th>\n",
       "      <th>road</th>\n",
       "      <th>primary</th>\n",
       "      <th>...</th>\n",
       "      <th>habitation</th>\n",
       "      <th>blooming</th>\n",
       "      <th>haze</th>\n",
       "      <th>agriculture</th>\n",
       "      <th>class_0</th>\n",
       "      <th>class_1</th>\n",
       "      <th>class_2</th>\n",
       "      <th>class_3</th>\n",
       "      <th>class_4</th>\n",
       "      <th>image_id</th>\n",
       "    </tr>\n",
       "  </thead>\n",
       "  <tbody>\n",
       "    <tr>\n",
       "      <th>10</th>\n",
       "      <td>train_10</td>\n",
       "      <td>agriculture clear primary slash_burn water</td>\n",
       "      <td>0</td>\n",
       "      <td>0</td>\n",
       "      <td>0</td>\n",
       "      <td>0</td>\n",
       "      <td>1</td>\n",
       "      <td>0</td>\n",
       "      <td>0</td>\n",
       "      <td>1</td>\n",
       "      <td>...</td>\n",
       "      <td>0</td>\n",
       "      <td>0</td>\n",
       "      <td>0</td>\n",
       "      <td>1</td>\n",
       "      <td>1</td>\n",
       "      <td>0</td>\n",
       "      <td>1</td>\n",
       "      <td>1</td>\n",
       "      <td>1</td>\n",
       "      <td>10</td>\n",
       "    </tr>\n",
       "  </tbody>\n",
       "</table>\n",
       "<p>1 rows × 25 columns</p>\n",
       "</div>"
      ],
      "text/plain": [
       "   image_name                                        tags  cloudy  \\\n",
       "10   train_10  agriculture clear primary slash_burn water       0   \n",
       "\n",
       "    selective_logging  cultivation  artisinal_mine  water  bare_ground  road  \\\n",
       "10                  0            0               0      1            0     0   \n",
       "\n",
       "    primary    ...     habitation  blooming  haze  agriculture  class_0  \\\n",
       "10        1    ...              0         0     0            1        1   \n",
       "\n",
       "    class_1  class_2  class_3  class_4  image_id  \n",
       "10        0        1        1        1        10  \n",
       "\n",
       "[1 rows x 25 columns]"
      ]
     },
     "execution_count": 102,
     "metadata": {},
     "output_type": "execute_result"
    }
   ],
   "source": [
    "TRAIN_ENC_CL_CSV[TRAIN_ENC_CL_CSV['image_id'] == 10]"
   ]
  },
  {
   "cell_type": "code",
   "execution_count": 110,
   "metadata": {},
   "outputs": [],
   "source": [
    "rare_classes_predictions = df[df['image_id'].isin(image_ids)]"
   ]
  },
  {
   "cell_type": "code",
   "execution_count": 116,
   "metadata": {},
   "outputs": [
    {
     "data": {
      "text/plain": [
       "agriculture                                                  0.0397602\n",
       "artisinal_mine                                               0.0172498\n",
       "bare_ground                                                  0.0159017\n",
       "blooming                                                     0.0199326\n",
       "blow_down                                                    0.0100598\n",
       "clear                                                         0.973735\n",
       "cloudy                                                         0.00855\n",
       "conventional_mine                                            0.0235309\n",
       "cultivation                                                  0.0542153\n",
       "habitation                                                  0.00319715\n",
       "haze                                                         0.0224533\n",
       "partly_cloudy                                                  0.10198\n",
       "primary                                                        0.95575\n",
       "road                                                         0.0193523\n",
       "selective_logging                                            0.0158572\n",
       "slash_burn                                                   0.0601998\n",
       "water                                                         0.015458\n",
       "target               [0, 0, 0, 1, 0, 1, 0, 0, 0, 0, 0, 0, 1, 0, 0, ...\n",
       "Name: 17, dtype: object"
      ]
     },
     "execution_count": 116,
     "metadata": {},
     "output_type": "execute_result"
    }
   ],
   "source": [
    "rare_classes_predictions.loc[17, list(tuple(unique_tags) + ('target', ))]"
   ]
  },
  {
   "cell_type": "code",
   "execution_count": null,
   "metadata": {
    "collapsed": true
   },
   "outputs": [],
   "source": []
  },
  {
   "cell_type": "code",
   "execution_count": null,
   "metadata": {
    "collapsed": true
   },
   "outputs": [],
   "source": []
  },
  {
   "cell_type": "code",
   "execution_count": null,
   "metadata": {
    "collapsed": true
   },
   "outputs": [],
   "source": []
  },
  {
   "cell_type": "code",
   "execution_count": 85,
   "metadata": {},
   "outputs": [
    {
     "name": "stderr",
     "output_type": "stream",
     "text": [
      "d:\\vfomin\\myexamples\\venv3\\lib\\site-packages\\sklearn\\cross_validation.py:44: DeprecationWarning: This module was deprecated in version 0.18 in favor of the model_selection module into which all the refactored classes and functions are moved. Also note that the interface of the new CV iterators are different from that of this module. This module will be removed in 0.20.\n",
      "  \"This module will be removed in 0.20.\", DeprecationWarning)\n"
     ]
    }
   ],
   "source": [
    "import xgboost as xgb"
   ]
  },
  {
   "cell_type": "markdown",
   "metadata": {},
   "source": [
    "#### A simple try of xgb"
   ]
  },
  {
   "cell_type": "code",
   "execution_count": 118,
   "metadata": {
    "collapsed": true
   },
   "outputs": [],
   "source": [
    "from sklearn.model_selection import KFold"
   ]
  },
  {
   "cell_type": "code",
   "execution_count": 119,
   "metadata": {
    "collapsed": true
   },
   "outputs": [],
   "source": [
    "n_folds = 5"
   ]
  },
  {
   "cell_type": "code",
   "execution_count": 141,
   "metadata": {
    "collapsed": true
   },
   "outputs": [
    {
     "name": "stdout",
     "output_type": "stream",
     "text": [
      "(64512, 17) (64512, 17)\n",
      "[[ 0.09093951  0.02054392  0.02418912  0.01544789  0.03247925  0.92379266\n",
      "   0.00828369  0.04989937  0.10721629  0.0278988   0.00523409  0.08840037\n",
      "   0.97719461  0.06283034  0.03732468  0.03562859  0.09488261]\n",
      " [ 0.05455842  0.01311656  0.02213255  0.01007489  0.03110504  0.91531706\n",
      "   0.00602263  0.0469023   0.12840895  0.02287883  0.00794587  0.05563896\n",
      "   0.98842609  0.03919864  0.03108688  0.02699875  0.06988449]\n",
      " [ 0.01405455  0.00637132  0.00833274  0.00247492  0.01473563  0.95992196\n",
      "   0.00172729  0.03102464  0.03605482  0.00775872  0.00121341  0.03003966\n",
      "   0.99548018  0.01660914  0.023029    0.01427789  0.05433382]\n",
      " [ 0.45359641  0.01025823  0.04004937  0.00729494  0.03303159  0.48314595\n",
      "   0.02731058  0.06863047  0.13719328  0.02727759  0.02906365  0.58874065\n",
      "   0.92141306  0.10537007  0.12347737  0.07908679  0.10379606]\n",
      " [ 0.1899071   0.01707581  0.02652191  0.01242715  0.06425259  0.72012264\n",
      "   0.03139025  0.06736487  0.09192603  0.04307153  0.02066591  0.26476651\n",
      "   0.95503563  0.08577903  0.05857002  0.05792258  0.13487919]] [[ 0.  0.  0.  0.  0.  1.  0.  0.  0.  0.  0.  0.  1.  0.  0.  0.  0.]\n",
      " [ 0.  0.  0.  0.  0.  1.  0.  0.  1.  0.  0.  0.  1.  0.  0.  0.  0.]\n",
      " [ 0.  0.  0.  0.  0.  1.  0.  0.  0.  0.  0.  0.  1.  0.  0.  0.  0.]\n",
      " [ 1.  0.  0.  0.  0.  0.  0.  0.  1.  0.  0.  1.  1.  0.  0.  0.  1.]\n",
      " [ 0.  0.  0.  0.  0.  0.  0.  0.  0.  0.  0.  1.  1.  0.  0.  0.  0.]]\n",
      "[[ 0.07199474  0.01980961  0.01813452  0.02045999  0.01515541  0.9503929\n",
      "   0.01886773  0.03411215  0.07363471  0.00727495  0.03292097  0.14880879\n",
      "   0.93375742  0.04144207  0.01870173  0.05592702  0.0262456 ]\n",
      " [ 0.07047003  0.02468504  0.02083831  0.02073169  0.0162946   0.94693732\n",
      "   0.01384393  0.02479754  0.06531151  0.00556927  0.04768838  0.1216386\n",
      "   0.94304574  0.03391073  0.0194594   0.07084601  0.02116747]\n",
      " [ 0.76012701  0.09226061  0.11827671  0.09967968  0.10171089  0.74115533\n",
      "   0.1078059   0.11513557  0.20702715  0.29834667  0.11111982  0.29956457\n",
      "   0.82252079  0.43735012  0.10029887  0.15004271  0.42267728]\n",
      " [ 0.22921097  0.05863828  0.09685111  0.11293968  0.04086645  0.83326006\n",
      "   0.0517838   0.09399752  0.1560232   0.053805    0.08128181  0.31757712\n",
      "   0.91431105  0.08756369  0.07476596  0.10020749  0.13580878]\n",
      " [ 0.07177263  0.01771209  0.01961112  0.02736857  0.01694888  0.96293241\n",
      "   0.01363144  0.02732938  0.0665445   0.00657019  0.03592512  0.11612658\n",
      "   0.93700838  0.0269628   0.02025346  0.05630672  0.01775878]] [[ 0.  0.  0.  0.  0.  1.  0.  0.  0.  0.  0.  0.  1.  0.  0.  0.  0.]\n",
      " [ 0.  0.  0.  0.  0.  1.  0.  0.  0.  0.  0.  0.  1.  0.  0.  0.  0.]\n",
      " [ 1.  0.  0.  0.  0.  1.  0.  0.  0.  1.  0.  0.  1.  1.  0.  0.  0.]\n",
      " [ 0.  0.  0.  0.  0.  1.  0.  0.  0.  0.  0.  0.  1.  0.  0.  0.  1.]\n",
      " [ 0.  0.  0.  0.  0.  1.  0.  0.  0.  0.  0.  0.  1.  0.  0.  0.  0.]]\n"
     ]
    }
   ],
   "source": [
    "kf = KFold(n_splits=n_folds)\n",
    "\n",
    "trainval_x = df[unique_tags].values\n",
    "trainval_y = np.zeros_like(trainval_x)\n",
    "for i in range(len(trainval_y)):\n",
    "    trainval_y[i, :] = df['target'].values[i]\n",
    "    \n",
    "for train_index, test_index in kf.split(trainval_x):\n",
    "    train_x, val_x = trainval_x[train_index], trainval_x[test_index]\n",
    "    train_y, val_y = trainval_y[train_index], trainval_y[test_index]\n",
    "    \n",
    "    print(train_x.shape, train_y.shape)\n",
    "    print(train_x[:5, :], train_y[:5])\n",
    "    print(val_x[:5, :], val_y[:5])\n",
    "    break"
   ]
  },
  {
   "cell_type": "code",
   "execution_count": 140,
   "metadata": {},
   "outputs": [],
   "source": []
  },
  {
   "cell_type": "code",
   "execution_count": 192,
   "metadata": {
    "collapsed": true
   },
   "outputs": [],
   "source": [
    "OneVsRestClassifier??"
   ]
  },
  {
   "cell_type": "code",
   "execution_count": 158,
   "metadata": {
    "collapsed": true
   },
   "outputs": [],
   "source": [
    "from xgboost import XGBClassifier\n",
    "from sklearn.multiclass import OneVsRestClassifier"
   ]
  },
  {
   "cell_type": "code",
   "execution_count": 188,
   "metadata": {
    "collapsed": true
   },
   "outputs": [],
   "source": [
    "params = {\n",
    "    \"objective\": \"binary:logistic\",\n",
    "    # \"num_class\": len(unique_tags),\n",
    "    # \"booster\": \"gbtree\",\n",
    "    # \"eval_metric\": \"mlogloss\",\n",
    "    \"learning_rate\": 0.01,\n",
    "    # \"tree_method\": 'exact',\n",
    "    \"n_estimators\": 100,\n",
    "    \"max_depth\": 6,\n",
    "    # \"subsample\": subsample,\n",
    "    # \"colsample_bytree\": colsample_bytree,\n",
    "    \"silent\": False,\n",
    "    # \"seed\": random_state,\n",
    "}"
   ]
  },
  {
   "cell_type": "code",
   "execution_count": 189,
   "metadata": {},
   "outputs": [],
   "source": [
    "target_clf = OneVsRestClassifier(XGBClassifier(**params))"
   ]
  },
  {
   "cell_type": "code",
   "execution_count": 190,
   "metadata": {},
   "outputs": [
    {
     "data": {
      "text/plain": [
       "OneVsRestClassifier(estimator=XGBClassifier(base_score=0.5, colsample_bylevel=1, colsample_bytree=1,\n",
       "       gamma=0, learning_rate=0.01, max_delta_step=0, max_depth=6,\n",
       "       min_child_weight=1, missing=None, n_estimators=100, nthread=-1,\n",
       "       objective='binary:logistic', reg_alpha=0, reg_lambda=1,\n",
       "       scale_pos_weight=1, seed=0, silent=1, subsample=1),\n",
       "          n_jobs=1)"
      ]
     },
     "execution_count": 190,
     "metadata": {},
     "output_type": "execute_result"
    }
   ],
   "source": [
    "target_clf.fit(train_x[:100,:], train_y[:100,:])"
   ]
  },
  {
   "cell_type": "code",
   "execution_count": 191,
   "metadata": {},
   "outputs": [
    {
     "data": {
      "text/plain": [
       "{'estimator': XGBClassifier(base_score=0.5, colsample_bylevel=1, colsample_bytree=1,\n",
       "        gamma=0, learning_rate=0.01, max_delta_step=0, max_depth=6,\n",
       "        min_child_weight=1, missing=None, n_estimators=100, nthread=-1,\n",
       "        objective='binary:logistic', reg_alpha=0, reg_lambda=1,\n",
       "        scale_pos_weight=1, seed=0, silent=1, subsample=1),\n",
       " 'estimator__base_score': 0.5,\n",
       " 'estimator__colsample_bylevel': 1,\n",
       " 'estimator__colsample_bytree': 1,\n",
       " 'estimator__gamma': 0,\n",
       " 'estimator__learning_rate': 0.01,\n",
       " 'estimator__max_delta_step': 0,\n",
       " 'estimator__max_depth': 6,\n",
       " 'estimator__min_child_weight': 1,\n",
       " 'estimator__missing': None,\n",
       " 'estimator__n_estimators': 100,\n",
       " 'estimator__nthread': -1,\n",
       " 'estimator__objective': 'binary:logistic',\n",
       " 'estimator__reg_alpha': 0,\n",
       " 'estimator__reg_lambda': 1,\n",
       " 'estimator__scale_pos_weight': 1,\n",
       " 'estimator__seed': 0,\n",
       " 'estimator__silent': 1,\n",
       " 'estimator__subsample': 1,\n",
       " 'n_jobs': 1}"
      ]
     },
     "execution_count": 191,
     "metadata": {},
     "output_type": "execute_result"
    }
   ],
   "source": [
    "target_clf.get_params(deep=True)"
   ]
  },
  {
   "cell_type": "code",
   "execution_count": null,
   "metadata": {
    "collapsed": true
   },
   "outputs": [],
   "source": []
  }
 ],
 "metadata": {
  "kernelspec": {
   "display_name": "Python 3",
   "language": "python",
   "name": "python3"
  },
  "language_info": {
   "codemirror_mode": {
    "name": "ipython",
    "version": 3
   },
   "file_extension": ".py",
   "mimetype": "text/x-python",
   "name": "python",
   "nbconvert_exporter": "python",
   "pygments_lexer": "ipython3",
   "version": "3.6.1"
  }
 },
 "nbformat": 4,
 "nbformat_minor": 2
}
