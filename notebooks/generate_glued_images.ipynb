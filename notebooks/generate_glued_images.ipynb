{
 "cells": [
  {
   "cell_type": "markdown",
   "metadata": {},
   "source": [
    "# Generate glued images"
   ]
  },
  {
   "cell_type": "code",
   "execution_count": 1,
   "metadata": {
    "collapsed": true
   },
   "outputs": [],
   "source": [
    "# https://ipython.org/ipython-doc/3/config/extensions/autoreload.html\n",
    "%load_ext autoreload\n",
    "%autoreload 2"
   ]
  },
  {
   "cell_type": "code",
   "execution_count": 10,
   "metadata": {
    "collapsed": true
   },
   "outputs": [],
   "source": [
    "import os\n",
    "import sys\n",
    "\n",
    "# Project\n",
    "project_common_path = os.path.dirname('.')\n",
    "project_common_path = os.path.abspath(os.path.join(project_common_path, '..', 'common'))\n",
    "if not project_common_path in sys.path:\n",
    "    sys.path.append(project_common_path)\n",
    "    \n",
    "os.environ['THEANO_FLAGS'] = 'device=cpu'\n",
    "\n",
    "from data_utils import TRAIN_CSV_FILEPATH, TRAIN_CSV, TRAIN_ENC_CL_CSV, train_jpg_ids\n",
    "from data_utils import equalized_data_classes, get_id_type_list_from_df\n",
    "from image_utils import get_image_data   \n",
    "\n",
    "from preproc import generate_glued_pairs"
   ]
  },
  {
   "cell_type": "code",
   "execution_count": 11,
   "metadata": {
    "collapsed": false
   },
   "outputs": [
    {
     "name": "stdout",
     "output_type": "stream",
     "text": [
      "-- t= artisinal_mine\n",
      "-- t= blooming\n",
      "-- t= blow_down\n",
      "-- t= conventional_mine\n",
      "-- t= selective_logging\n",
      "-- t= slash_burn\n",
      "-- t= bare_ground\n",
      "-- t= cloudy\n",
      "-- t= cultivation\n",
      "-- t= habitation\n",
      "-- t= haze\n",
      "-- t= partly_cloudy\n",
      "-- t= road\n",
      "-- t= water\n",
      "-- t= agriculture\n",
      "-- t= clear\n",
      "-- t= primary\n"
     ]
    }
   ],
   "source": [
    "for class_index in equalized_data_classes:\n",
    "    for t in equalized_data_classes[class_index]:\n",
    "        print(\"-- t=\", t)\n",
    "        m = TRAIN_ENC_CL_CSV[t]  > 0\n",
    "        df = TRAIN_ENC_CL_CSV[m]\n",
    "        id_type_list = get_id_type_list_from_df(df, image_type='Train_jpg')    \n",
    "        generate_glued_pairs(id_type_list, n_generated_files=500, seed=2017)"
   ]
  },
  {
   "cell_type": "code",
   "execution_count": null,
   "metadata": {
    "collapsed": true
   },
   "outputs": [],
   "source": []
  }
 ],
 "metadata": {
  "kernelspec": {
   "display_name": "Python 3",
   "language": "python",
   "name": "python3"
  },
  "language_info": {
   "codemirror_mode": {
    "name": "ipython",
    "version": 3
   },
   "file_extension": ".py",
   "mimetype": "text/x-python",
   "name": "python",
   "nbconvert_exporter": "python",
   "pygments_lexer": "ipython3",
   "version": "3.5.2"
  }
 },
 "nbformat": 4,
 "nbformat_minor": 0
}
