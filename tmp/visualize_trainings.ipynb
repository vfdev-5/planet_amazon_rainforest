{
 "cells": [
  {
   "cell_type": "markdown",
   "metadata": {},
   "source": [
    "# Visualize training curves"
   ]
  },
  {
   "cell_type": "code",
   "execution_count": 1,
   "metadata": {
    "collapsed": true
   },
   "outputs": [],
   "source": [
    "import matplotlib.pylab as plt\n",
    "%matplotlib inline"
   ]
  },
  {
   "cell_type": "code",
   "execution_count": 2,
   "metadata": {
    "collapsed": true
   },
   "outputs": [],
   "source": [
    "import numpy as np \n",
    "import pandas as pd"
   ]
  },
  {
   "cell_type": "markdown",
   "metadata": {},
   "source": [
    "Single curve"
   ]
  },
  {
   "cell_type": "code",
   "execution_count": 3,
   "metadata": {
    "collapsed": true
   },
   "outputs": [],
   "source": [
    "logs = [\n",
    "]\n",
    "\n",
    "dfs = [] \n",
    "\n",
    "for log in logs:\n",
    "    df = pd.read_csv(\"../output/weights/\" + log)\n",
    "    dfs.append(df)"
   ]
  },
  {
   "cell_type": "code",
   "execution_count": 6,
   "metadata": {
    "collapsed": false
   },
   "outputs": [
    {
     "data": {
      "text/html": [
       "<div>\n",
       "<table border=\"1\" class=\"dataframe\">\n",
       "  <thead>\n",
       "    <tr style=\"text-align: right;\">\n",
       "      <th></th>\n",
       "      <th>epoch</th>\n",
       "      <th>loss</th>\n",
       "      <th>precision</th>\n",
       "      <th>recall</th>\n",
       "      <th>val_loss</th>\n",
       "      <th>val_precision</th>\n",
       "      <th>val_recall</th>\n",
       "    </tr>\n",
       "  </thead>\n",
       "  <tbody>\n",
       "    <tr>\n",
       "      <th>20</th>\n",
       "      <td>20</td>\n",
       "      <td>0.320300</td>\n",
       "      <td>0.715337</td>\n",
       "      <td>0.667468</td>\n",
       "      <td>0.260099</td>\n",
       "      <td>0.841735</td>\n",
       "      <td>0.694570</td>\n",
       "    </tr>\n",
       "    <tr>\n",
       "      <th>21</th>\n",
       "      <td>21</td>\n",
       "      <td>0.318582</td>\n",
       "      <td>0.717549</td>\n",
       "      <td>0.669413</td>\n",
       "      <td>0.260782</td>\n",
       "      <td>0.841242</td>\n",
       "      <td>0.693383</td>\n",
       "    </tr>\n",
       "    <tr>\n",
       "      <th>22</th>\n",
       "      <td>22</td>\n",
       "      <td>0.315841</td>\n",
       "      <td>0.719637</td>\n",
       "      <td>0.671994</td>\n",
       "      <td>0.258231</td>\n",
       "      <td>0.840613</td>\n",
       "      <td>0.697529</td>\n",
       "    </tr>\n",
       "    <tr>\n",
       "      <th>23</th>\n",
       "      <td>23</td>\n",
       "      <td>0.315419</td>\n",
       "      <td>0.720509</td>\n",
       "      <td>0.672645</td>\n",
       "      <td>0.258699</td>\n",
       "      <td>0.837660</td>\n",
       "      <td>0.697387</td>\n",
       "    </tr>\n",
       "    <tr>\n",
       "      <th>24</th>\n",
       "      <td>24</td>\n",
       "      <td>0.313142</td>\n",
       "      <td>0.723761</td>\n",
       "      <td>0.673076</td>\n",
       "      <td>0.259506</td>\n",
       "      <td>0.838785</td>\n",
       "      <td>0.696936</td>\n",
       "    </tr>\n",
       "  </tbody>\n",
       "</table>\n",
       "</div>"
      ],
      "text/plain": [
       "    epoch      loss  precision    recall  val_loss  val_precision  val_recall\n",
       "20     20  0.320300   0.715337  0.667468  0.260099       0.841735    0.694570\n",
       "21     21  0.318582   0.717549  0.669413  0.260782       0.841242    0.693383\n",
       "22     22  0.315841   0.719637  0.671994  0.258231       0.840613    0.697529\n",
       "23     23  0.315419   0.720509  0.672645  0.258699       0.837660    0.697387\n",
       "24     24  0.313142   0.723761  0.673076  0.259506       0.838785    0.696936"
      ]
     },
     "execution_count": 6,
     "metadata": {},
     "output_type": "execute_result"
    }
   ],
   "source": [
    "dfs[-1].tail()"
   ]
  },
  {
   "cell_type": "code",
   "execution_count": 5,
   "metadata": {
    "collapsed": false
   },
   "outputs": [
    {
     "data": {
      "text/plain": [
       "<matplotlib.figure.Figure at 0x109a5c828>"
      ]
     },
     "metadata": {},
     "output_type": "display_data"
    },
    {
     "data": {
      "image/png": "[encoded data removed]",
      "text/plain": [
       "<matplotlib.figure.Figure at 0x109a85278>"
      ]
     },
     "metadata": {},
     "output_type": "display_data"
    }
   ],
   "source": [
    "plt.figure()\n",
    "ax = dfs[0][['loss', 'val_loss']].plot()\n",
    "for df in dfs:\n",
    "    df[['loss', 'val_loss']].plot(ax=ax)"
   ]
  },
  {
   "cell_type": "code",
   "execution_count": null,
   "metadata": {
    "collapsed": true
   },
   "outputs": [],
   "source": []
  }
 ],
 "metadata": {
  "kernelspec": {
   "display_name": "Python 3",
   "language": "python",
   "name": "python3"
  },
  "language_info": {
   "codemirror_mode": {
    "name": "ipython",
    "version": 3
   },
   "file_extension": ".py",
   "mimetype": "text/x-python",
   "name": "python",
   "nbconvert_exporter": "python",
   "pygments_lexer": "ipython3",
   "version": "3.5.2"
  }
 },
 "nbformat": 4,
 "nbformat_minor": 0
}
