{
 "cells": [
  {
   "cell_type": "markdown",
   "metadata": {},
   "source": [
    "# Visualize training curves"
   ]
  },
  {
   "cell_type": "code",
   "execution_count": 1,
   "metadata": {
    "collapsed": true
   },
   "outputs": [],
   "source": [
    "import matplotlib.pylab as plt\n",
    "%matplotlib inline"
   ]
  },
  {
   "cell_type": "code",
   "execution_count": 2,
   "metadata": {
    "collapsed": true
   },
   "outputs": [],
   "source": [
    "import numpy as np \n",
    "import pandas as pd"
   ]
  },
  {
   "cell_type": "markdown",
   "metadata": {},
   "source": [
    "Single curve"
   ]
  },
  {
   "cell_type": "code",
   "execution_count": 5,
   "metadata": {
    "collapsed": true
   },
   "outputs": [],
   "source": [
    "df = pd.read_csv(\"../output/weights/training_SqueezeNet21_all_classes_fold=0_seed=54321_2017-07-07-22-35.log\")"
   ]
  },
  {
   "cell_type": "code",
   "execution_count": 7,
   "metadata": {
    "collapsed": false
   },
   "outputs": [
    {
     "data": {
      "text/html": [
       "<div>\n",
       "<table border=\"1\" class=\"dataframe\">\n",
       "  <thead>\n",
       "    <tr style=\"text-align: right;\">\n",
       "      <th></th>\n",
       "      <th>epoch</th>\n",
       "      <th>loss</th>\n",
       "      <th>precision</th>\n",
       "      <th>recall</th>\n",
       "      <th>val_loss</th>\n",
       "      <th>val_precision</th>\n",
       "      <th>val_recall</th>\n",
       "    </tr>\n",
       "  </thead>\n",
       "  <tbody>\n",
       "    <tr>\n",
       "      <th>0</th>\n",
       "      <td>0</td>\n",
       "      <td>0.393524</td>\n",
       "      <td>0.299570</td>\n",
       "      <td>0.605791</td>\n",
       "      <td>0.197214</td>\n",
       "      <td>0.601544</td>\n",
       "      <td>0.649641</td>\n",
       "    </tr>\n",
       "    <tr>\n",
       "      <th>1</th>\n",
       "      <td>1</td>\n",
       "      <td>0.243330</td>\n",
       "      <td>0.472184</td>\n",
       "      <td>0.649458</td>\n",
       "      <td>0.180754</td>\n",
       "      <td>0.679494</td>\n",
       "      <td>0.611568</td>\n",
       "    </tr>\n",
       "    <tr>\n",
       "      <th>2</th>\n",
       "      <td>2</td>\n",
       "      <td>0.216303</td>\n",
       "      <td>0.548247</td>\n",
       "      <td>0.617693</td>\n",
       "      <td>0.169190</td>\n",
       "      <td>0.809023</td>\n",
       "      <td>0.571774</td>\n",
       "    </tr>\n",
       "    <tr>\n",
       "      <th>3</th>\n",
       "      <td>3</td>\n",
       "      <td>0.207292</td>\n",
       "      <td>0.584031</td>\n",
       "      <td>0.602948</td>\n",
       "      <td>0.167780</td>\n",
       "      <td>0.811984</td>\n",
       "      <td>0.570586</td>\n",
       "    </tr>\n",
       "    <tr>\n",
       "      <th>4</th>\n",
       "      <td>4</td>\n",
       "      <td>0.202472</td>\n",
       "      <td>0.602283</td>\n",
       "      <td>0.600246</td>\n",
       "      <td>0.169806</td>\n",
       "      <td>0.814259</td>\n",
       "      <td>0.566460</td>\n",
       "    </tr>\n",
       "    <tr>\n",
       "      <th>5</th>\n",
       "      <td>5</td>\n",
       "      <td>0.199276</td>\n",
       "      <td>0.614282</td>\n",
       "      <td>0.599473</td>\n",
       "      <td>0.169412</td>\n",
       "      <td>0.811446</td>\n",
       "      <td>0.566011</td>\n",
       "    </tr>\n",
       "    <tr>\n",
       "      <th>6</th>\n",
       "      <td>6</td>\n",
       "      <td>0.197422</td>\n",
       "      <td>0.622191</td>\n",
       "      <td>0.597661</td>\n",
       "      <td>0.168868</td>\n",
       "      <td>0.813774</td>\n",
       "      <td>0.567859</td>\n",
       "    </tr>\n",
       "    <tr>\n",
       "      <th>7</th>\n",
       "      <td>7</td>\n",
       "      <td>0.195774</td>\n",
       "      <td>0.627832</td>\n",
       "      <td>0.598675</td>\n",
       "      <td>0.168812</td>\n",
       "      <td>0.813569</td>\n",
       "      <td>0.567367</td>\n",
       "    </tr>\n",
       "    <tr>\n",
       "      <th>8</th>\n",
       "      <td>8</td>\n",
       "      <td>0.193821</td>\n",
       "      <td>0.635794</td>\n",
       "      <td>0.598070</td>\n",
       "      <td>0.169375</td>\n",
       "      <td>0.812495</td>\n",
       "      <td>0.566736</td>\n",
       "    </tr>\n",
       "    <tr>\n",
       "      <th>9</th>\n",
       "      <td>9</td>\n",
       "      <td>0.193716</td>\n",
       "      <td>0.636887</td>\n",
       "      <td>0.597426</td>\n",
       "      <td>0.169465</td>\n",
       "      <td>0.815129</td>\n",
       "      <td>0.566369</td>\n",
       "    </tr>\n",
       "    <tr>\n",
       "      <th>10</th>\n",
       "      <td>10</td>\n",
       "      <td>0.192533</td>\n",
       "      <td>0.639811</td>\n",
       "      <td>0.599061</td>\n",
       "      <td>0.169390</td>\n",
       "      <td>0.812721</td>\n",
       "      <td>0.566656</td>\n",
       "    </tr>\n",
       "    <tr>\n",
       "      <th>11</th>\n",
       "      <td>11</td>\n",
       "      <td>0.191224</td>\n",
       "      <td>0.644242</td>\n",
       "      <td>0.600193</td>\n",
       "      <td>0.169516</td>\n",
       "      <td>0.812140</td>\n",
       "      <td>0.566411</td>\n",
       "    </tr>\n",
       "    <tr>\n",
       "      <th>12</th>\n",
       "      <td>12</td>\n",
       "      <td>0.190620</td>\n",
       "      <td>0.646444</td>\n",
       "      <td>0.600205</td>\n",
       "      <td>0.167637</td>\n",
       "      <td>0.815197</td>\n",
       "      <td>0.570329</td>\n",
       "    </tr>\n",
       "    <tr>\n",
       "      <th>13</th>\n",
       "      <td>13</td>\n",
       "      <td>0.189095</td>\n",
       "      <td>0.652831</td>\n",
       "      <td>0.600434</td>\n",
       "      <td>0.170044</td>\n",
       "      <td>0.812460</td>\n",
       "      <td>0.565712</td>\n",
       "    </tr>\n",
       "    <tr>\n",
       "      <th>14</th>\n",
       "      <td>14</td>\n",
       "      <td>0.188911</td>\n",
       "      <td>0.653179</td>\n",
       "      <td>0.600433</td>\n",
       "      <td>0.166790</td>\n",
       "      <td>0.812544</td>\n",
       "      <td>0.572077</td>\n",
       "    </tr>\n",
       "    <tr>\n",
       "      <th>15</th>\n",
       "      <td>15</td>\n",
       "      <td>0.188226</td>\n",
       "      <td>0.654489</td>\n",
       "      <td>0.602102</td>\n",
       "      <td>0.167445</td>\n",
       "      <td>0.812866</td>\n",
       "      <td>0.572236</td>\n",
       "    </tr>\n",
       "    <tr>\n",
       "      <th>16</th>\n",
       "      <td>16</td>\n",
       "      <td>0.186984</td>\n",
       "      <td>0.655323</td>\n",
       "      <td>0.605937</td>\n",
       "      <td>0.167418</td>\n",
       "      <td>0.814014</td>\n",
       "      <td>0.574141</td>\n",
       "    </tr>\n",
       "    <tr>\n",
       "      <th>17</th>\n",
       "      <td>17</td>\n",
       "      <td>0.186330</td>\n",
       "      <td>0.659431</td>\n",
       "      <td>0.605124</td>\n",
       "      <td>0.166342</td>\n",
       "      <td>0.813614</td>\n",
       "      <td>0.575165</td>\n",
       "    </tr>\n",
       "    <tr>\n",
       "      <th>18</th>\n",
       "      <td>18</td>\n",
       "      <td>0.187557</td>\n",
       "      <td>0.656606</td>\n",
       "      <td>0.602270</td>\n",
       "      <td>0.168052</td>\n",
       "      <td>0.811803</td>\n",
       "      <td>0.571955</td>\n",
       "    </tr>\n",
       "    <tr>\n",
       "      <th>19</th>\n",
       "      <td>19</td>\n",
       "      <td>0.186555</td>\n",
       "      <td>0.660082</td>\n",
       "      <td>0.603475</td>\n",
       "      <td>0.165268</td>\n",
       "      <td>0.810742</td>\n",
       "      <td>0.578948</td>\n",
       "    </tr>\n",
       "  </tbody>\n",
       "</table>\n",
       "</div>"
      ],
      "text/plain": [
       "    epoch      loss  precision    recall  val_loss  val_precision  val_recall\n",
       "0       0  0.393524   0.299570  0.605791  0.197214       0.601544    0.649641\n",
       "1       1  0.243330   0.472184  0.649458  0.180754       0.679494    0.611568\n",
       "2       2  0.216303   0.548247  0.617693  0.169190       0.809023    0.571774\n",
       "3       3  0.207292   0.584031  0.602948  0.167780       0.811984    0.570586\n",
       "4       4  0.202472   0.602283  0.600246  0.169806       0.814259    0.566460\n",
       "5       5  0.199276   0.614282  0.599473  0.169412       0.811446    0.566011\n",
       "6       6  0.197422   0.622191  0.597661  0.168868       0.813774    0.567859\n",
       "7       7  0.195774   0.627832  0.598675  0.168812       0.813569    0.567367\n",
       "8       8  0.193821   0.635794  0.598070  0.169375       0.812495    0.566736\n",
       "9       9  0.193716   0.636887  0.597426  0.169465       0.815129    0.566369\n",
       "10     10  0.192533   0.639811  0.599061  0.169390       0.812721    0.566656\n",
       "11     11  0.191224   0.644242  0.600193  0.169516       0.812140    0.566411\n",
       "12     12  0.190620   0.646444  0.600205  0.167637       0.815197    0.570329\n",
       "13     13  0.189095   0.652831  0.600434  0.170044       0.812460    0.565712\n",
       "14     14  0.188911   0.653179  0.600433  0.166790       0.812544    0.572077\n",
       "15     15  0.188226   0.654489  0.602102  0.167445       0.812866    0.572236\n",
       "16     16  0.186984   0.655323  0.605937  0.167418       0.814014    0.574141\n",
       "17     17  0.186330   0.659431  0.605124  0.166342       0.813614    0.575165\n",
       "18     18  0.187557   0.656606  0.602270  0.168052       0.811803    0.571955\n",
       "19     19  0.186555   0.660082  0.603475  0.165268       0.810742    0.578948"
      ]
     },
     "execution_count": 7,
     "metadata": {},
     "output_type": "execute_result"
    }
   ],
   "source": [
    "df"
   ]
  },
  {
   "cell_type": "code",
   "execution_count": 8,
   "metadata": {
    "collapsed": false
   },
   "outputs": [
    {
     "data": {
      "text/plain": [
       "<matplotlib.axes._subplots.AxesSubplot at 0x110036198>"
      ]
     },
     "execution_count": 8,
     "metadata": {},
     "output_type": "execute_result"
    },
    {
     "data": {
      "image/png": "[encoded data removed]",
      "text/plain": [
       "<matplotlib.figure.Figure at 0x10ea83be0>"
      ]
     },
     "metadata": {},
     "output_type": "display_data"
    }
   ],
   "source": [
    "df[['loss', 'val_loss']].plot()"
   ]
  },
  {
   "cell_type": "code",
   "execution_count": null,
   "metadata": {
    "collapsed": true
   },
   "outputs": [],
   "source": []
  }
 ],
 "metadata": {
  "kernelspec": {
   "display_name": "Python 3",
   "language": "python",
   "name": "python3"
  },
  "language_info": {
   "codemirror_mode": {
    "name": "ipython",
    "version": 3
   },
   "file_extension": ".py",
   "mimetype": "text/x-python",
   "name": "python",
   "nbconvert_exporter": "python",
   "pygments_lexer": "ipython3",
   "version": "3.5.2"
  }
 },
 "nbformat": 4,
 "nbformat_minor": 0
}
