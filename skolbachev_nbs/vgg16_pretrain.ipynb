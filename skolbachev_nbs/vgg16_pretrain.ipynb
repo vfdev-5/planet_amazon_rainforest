{
 "cells": [
  {
   "cell_type": "code",
   "execution_count": 1,
   "metadata": {},
   "outputs": [
    {
     "name": "stderr",
     "output_type": "stream",
     "text": [
      "Using TensorFlow backend.\n"
     ]
    },
    {
     "name": "stdout",
     "output_type": "stream",
     "text": [
      "Import time: 10.21570634841919\n",
      "Import time: 5.245208740234375e-05\n",
      "Shape of Y (40479, 17)\n",
      "Train 36431; Valid 4048;\n",
      "(192, 192, 3)\n"
     ]
    }
   ],
   "source": [
    "import importlib\n",
    "import local_utils; importlib.reload(local_utils)\n",
    "from local_utils import *\n",
    "\n",
    "train_df = pd.read_csv(DATA_DIR + '/train_v2.csv')\n",
    "test_df = pd.read_csv(DATA_DIR + '/sample_submission_v2.csv')\n",
    "\n",
    "label_map, inv_label_map, Y = process_labels(train_df)\n",
    "print(\"Shape of Y {}\".format(Y.shape))\n",
    "\n",
    "train_inx, valid_inx = stratified_sampling(Y)\n",
    "print(\"Train {}; Valid {};\".format(len(train_inx), len(valid_inx)))\n",
    "\n",
    "w_size = 192\n",
    "h_size = 192\n",
    "input_shape = (w_size, h_size, 3)\n",
    "print(input_shape)"
   ]
  },
  {
   "cell_type": "code",
   "execution_count": 2,
   "metadata": {},
   "outputs": [
    {
     "name": "stdout",
     "output_type": "stream",
     "text": [
      "(40479, 192, 192, 3)\n",
      "29.05090832710266\n"
     ]
    }
   ],
   "source": [
    "start = time()\n",
    "X = load_images(train_df['image_name'].values, DATA_DIR + '/train-jpg', True, w_size, h_size)\n",
    "print(X.shape)\n",
    "print(time() - start)"
   ]
  },
  {
   "cell_type": "code",
   "execution_count": 3,
   "metadata": {},
   "outputs": [
    {
     "name": "stdout",
     "output_type": "stream",
     "text": [
      "_________________________________________________________________\n",
      "Layer (type)                 Output Shape              Param #   \n",
      "=================================================================\n",
      "input_1 (InputLayer)         (None, 192, 192, 3)       0         \n",
      "_________________________________________________________________\n",
      "block1_conv1 (Conv2D)        (None, 192, 192, 64)      1792      \n",
      "_________________________________________________________________\n",
      "block1_conv2 (Conv2D)        (None, 192, 192, 64)      36928     \n",
      "_________________________________________________________________\n",
      "block1_pool (MaxPooling2D)   (None, 96, 96, 64)        0         \n",
      "_________________________________________________________________\n",
      "block2_conv1 (Conv2D)        (None, 96, 96, 128)       73856     \n",
      "_________________________________________________________________\n",
      "block2_conv2 (Conv2D)        (None, 96, 96, 128)       147584    \n",
      "_________________________________________________________________\n",
      "block2_pool (MaxPooling2D)   (None, 48, 48, 128)       0         \n",
      "_________________________________________________________________\n",
      "block3_conv1 (Conv2D)        (None, 48, 48, 256)       295168    \n",
      "_________________________________________________________________\n",
      "block3_conv2 (Conv2D)        (None, 48, 48, 256)       590080    \n",
      "_________________________________________________________________\n",
      "block3_conv3 (Conv2D)        (None, 48, 48, 256)       590080    \n",
      "_________________________________________________________________\n",
      "block3_pool (MaxPooling2D)   (None, 24, 24, 256)       0         \n",
      "_________________________________________________________________\n",
      "block4_conv1 (Conv2D)        (None, 24, 24, 512)       1180160   \n",
      "_________________________________________________________________\n",
      "block4_conv2 (Conv2D)        (None, 24, 24, 512)       2359808   \n",
      "_________________________________________________________________\n",
      "block4_conv3 (Conv2D)        (None, 24, 24, 512)       2359808   \n",
      "_________________________________________________________________\n",
      "block4_pool (MaxPooling2D)   (None, 12, 12, 512)       0         \n",
      "_________________________________________________________________\n",
      "block5_conv1 (Conv2D)        (None, 12, 12, 512)       2359808   \n",
      "_________________________________________________________________\n",
      "block5_conv2 (Conv2D)        (None, 12, 12, 512)       2359808   \n",
      "_________________________________________________________________\n",
      "block5_conv3 (Conv2D)        (None, 12, 12, 512)       2359808   \n",
      "_________________________________________________________________\n",
      "block5_pool (MaxPooling2D)   (None, 6, 6, 512)         0         \n",
      "=================================================================\n",
      "Total params: 14,714,688\n",
      "Trainable params: 14,714,688\n",
      "Non-trainable params: 0\n",
      "_________________________________________________________________\n"
     ]
    }
   ],
   "source": [
    "from keras.applications.vgg16 import VGG16\n",
    "vgg16_model = VGG16(include_top=False, weights='imagenet', input_shape=input_shape)\n",
    "\n",
    "# vgg16_model.layers.pop() # removing last MaxPooling layer\n",
    "# vgg16_model = Sequential(vgg16_model.layers) # reinitialize\n",
    "vgg16_model.summary()"
   ]
  },
  {
   "cell_type": "code",
   "execution_count": 4,
   "metadata": {},
   "outputs": [
    {
     "name": "stdout",
     "output_type": "stream",
     "text": [
      "40479/40479 [==============================] - 496s   \n"
     ]
    }
   ],
   "source": [
    "vgg16_train_feat = vgg16_model.predict(X, batch_size=BATCH_SIZE, verbose = 1)\n",
    "save_array(DATA_DIR + '/models/vgg16_train_feat.dat', vgg16_train_feat)"
   ]
  },
  {
   "cell_type": "code",
   "execution_count": 5,
   "metadata": {},
   "outputs": [
    {
     "name": "stdout",
     "output_type": "stream",
     "text": [
      "(61191, 192, 192, 3)\n",
      "60.45122933387756\n"
     ]
    }
   ],
   "source": [
    "del X\n",
    "del vgg16_train_feat\n",
    "\n",
    "start = time()\n",
    "X_test = load_images(test_df['image_name'].values, DATA_DIR + '/test-jpg', True, w_size, h_size)\n",
    "print(X_test.shape)\n",
    "print(time() - start)"
   ]
  },
  {
   "cell_type": "code",
   "execution_count": 6,
   "metadata": {},
   "outputs": [
    {
     "name": "stdout",
     "output_type": "stream",
     "text": [
      "61191/61191 [==============================] - 745s   \n"
     ]
    }
   ],
   "source": [
    "vgg16_test_feat = vgg16_model.predict(X_test, batch_size=BATCH_SIZE, verbose = 1)\n",
    "save_array(DATA_DIR + '/models/vgg16_test_feat.dat', vgg16_test_feat)"
   ]
  },
  {
   "cell_type": "code",
   "execution_count": null,
   "metadata": {
    "collapsed": true
   },
   "outputs": [],
   "source": [
    "# vgg16_train_feat = load_array(DATA_DIR + '/models/vgg16_train_feat.dat')\n",
    "# print(vgg16_train_feat.shape)\n",
    "\n",
    "# vgg16_test_feat = load_array(DATA_DIR + '/models/vgg16_test_feat.dat')\n",
    "# print(vgg16_test_feat.shape)"
   ]
  }
 ],
 "metadata": {
  "kernelspec": {
   "display_name": "Python 3",
   "language": "python",
   "name": "python3"
  },
  "language_info": {
   "codemirror_mode": {
    "name": "ipython",
    "version": 3
   },
   "file_extension": ".py",
   "mimetype": "text/x-python",
   "name": "python",
   "nbconvert_exporter": "python",
   "pygments_lexer": "ipython3",
   "version": "3.5.3"
  }
 },
 "nbformat": 4,
 "nbformat_minor": 2
}
