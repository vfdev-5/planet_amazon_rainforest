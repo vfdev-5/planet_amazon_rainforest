{
 "cells": [
  {
   "cell_type": "code",
   "execution_count": 1,
   "metadata": {},
   "outputs": [
    {
     "name": "stderr",
     "output_type": "stream",
     "text": [
      "Using TensorFlow backend.\n"
     ]
    },
    {
     "name": "stdout",
     "output_type": "stream",
     "text": [
      "Import time: 10.149123668670654\n",
      "Import time: 9.965896606445312e-05\n"
     ]
    }
   ],
   "source": [
    "import importlib\n",
    "import local_utils; importlib.reload(local_utils)\n",
    "from local_utils import *"
   ]
  },
  {
   "cell_type": "code",
   "execution_count": 2,
   "metadata": {
    "collapsed": true
   },
   "outputs": [],
   "source": [
    "global_start = time()"
   ]
  },
  {
   "cell_type": "code",
   "execution_count": 3,
   "metadata": {},
   "outputs": [
    {
     "name": "stdout",
     "output_type": "stream",
     "text": [
      "Shape of Y (40479, 17)\n",
      "Shape of train folds (10,)\n",
      "Shape of valid folds (10,)\n"
     ]
    }
   ],
   "source": [
    "train_df = pd.read_csv(DATA_DIR + '/train_v2.csv')\n",
    "test_df = pd.read_csv(DATA_DIR + '/sample_submission_v2.csv')\n",
    "\n",
    "label_map, inv_label_map, Y = process_labels(train_df)\n",
    "print(\"Shape of Y {}\".format(Y.shape))\n",
    "\n",
    "train_folds, valid_folds = stratified_kfold_sampling(Y, n_splits=10, random_state=1000)\n",
    "print(\"Shape of train folds {}\".format(train_folds.shape))\n",
    "print(\"Shape of valid folds {}\".format(valid_folds.shape))\n",
    "\n",
    "image_size = 128"
   ]
  },
  {
   "cell_type": "code",
   "execution_count": 4,
   "metadata": {
    "collapsed": true
   },
   "outputs": [],
   "source": [
    "model_name = \"deep_model_vgg19\"\n",
    "\n",
    "fold_inx = 1\n",
    "batch_size = 32\n",
    "all_steps = np.ceil(len(Y)/batch_size)\n",
    "train_steps = np.ceil(len(train_folds[fold_inx])/batch_size)\n",
    "valid_steps = np.ceil(len(valid_folds[fold_inx])/batch_size)\n",
    "test_steps = np.ceil(len(test_df)/batch_size)"
   ]
  },
  {
   "cell_type": "code",
   "execution_count": 5,
   "metadata": {
    "collapsed": true
   },
   "outputs": [],
   "source": [
    "train_array = load_array(DATA_DIR+'/train_images_'+str(image_size)+'.dat')"
   ]
  },
  {
   "cell_type": "code",
   "execution_count": 6,
   "metadata": {
    "collapsed": true
   },
   "outputs": [],
   "source": [
    "x_input = Input(shape=(image_size, image_size, 3))\n",
    "x = BatchNormalization()(x_input)\n",
    "\n",
    "vgg19_model = get_pretrained_model('vgg19', (image_size, image_size, 3))\n",
    "vgg19_model.layers.pop() # removing last MaxPooling layer\n",
    "vgg19_model = Sequential(vgg19_model.layers) # reinitialize\n",
    "\n",
    "x = vgg19_model(x)\n",
    "\n",
    "# TODO?\n",
    "\n",
    "xa = GlobalAveragePooling2D()(x)\n",
    "xm = GlobalMaxPooling2D()(x)\n",
    "x = concatenate([xm, xa])\n",
    "\n",
    "x = Dense(512, activation='relu')(x)\n",
    "\n",
    "x = BatchNormalization()(x)\n",
    "x = Dense(256, activation='relu')(x)\n",
    "\n",
    "x_output = Dense(17, activation='sigmoid')(x)"
   ]
  },
  {
   "cell_type": "code",
   "execution_count": 7,
   "metadata": {
    "scrolled": true
   },
   "outputs": [
    {
     "name": "stdout",
     "output_type": "stream",
     "text": [
      "____________________________________________________________________________________________________\n",
      "Layer (type)                     Output Shape          Param #     Connected to                     \n",
      "====================================================================================================\n",
      "input_1 (InputLayer)             (None, 128, 128, 3)   0                                            \n",
      "____________________________________________________________________________________________________\n",
      "batch_normalization_1 (BatchNorm (None, 128, 128, 3)   12          input_1[0][0]                    \n",
      "____________________________________________________________________________________________________\n",
      "sequential_1 (Sequential)        (None, 8, 8, 512)     20024384    batch_normalization_1[0][0]      \n",
      "____________________________________________________________________________________________________\n",
      "global_max_pooling2d_1 (GlobalMa (None, 512)           0           sequential_1[1][0]               \n",
      "____________________________________________________________________________________________________\n",
      "global_average_pooling2d_1 (Glob (None, 512)           0           sequential_1[1][0]               \n",
      "____________________________________________________________________________________________________\n",
      "concatenate_1 (Concatenate)      (None, 1024)          0           global_max_pooling2d_1[0][0]     \n",
      "                                                                   global_average_pooling2d_1[0][0] \n",
      "____________________________________________________________________________________________________\n",
      "dense_1 (Dense)                  (None, 512)           524800      concatenate_1[0][0]              \n",
      "____________________________________________________________________________________________________\n",
      "batch_normalization_2 (BatchNorm (None, 512)           2048        dense_1[0][0]                    \n",
      "____________________________________________________________________________________________________\n",
      "dense_2 (Dense)                  (None, 256)           131328      batch_normalization_2[0][0]      \n",
      "____________________________________________________________________________________________________\n",
      "dense_3 (Dense)                  (None, 17)            4369        dense_2[0][0]                    \n",
      "====================================================================================================\n",
      "Total params: 20,686,941\n",
      "Trainable params: 20,685,911\n",
      "Non-trainable params: 1,030\n",
      "____________________________________________________________________________________________________\n"
     ]
    }
   ],
   "source": [
    "model = Model(inputs=x_input, outputs=x_output)\n",
    "model.summary()"
   ]
  },
  {
   "cell_type": "code",
   "execution_count": 6,
   "metadata": {
    "collapsed": true
   },
   "outputs": [],
   "source": [
    "def getImageDataGenerator():\n",
    "    return ImageDataGenerator(\n",
    "                rotation_range=90,\n",
    "                horizontal_flip=True,\n",
    "                vertical_flip=True,)\n",
    "\n",
    "all_gen = getImageDataGenerator()\n",
    "train_gen = getImageDataGenerator()\n",
    "valid_gen = getImageDataGenerator()\n",
    "test_gen = getImageDataGenerator()"
   ]
  },
  {
   "cell_type": "code",
   "execution_count": 7,
   "metadata": {
    "collapsed": true
   },
   "outputs": [],
   "source": [
    "f2_history = F2History(train_array[valid_folds[fold_inx]], Y[valid_folds[fold_inx]], \n",
    "                       valid_gen, valid_steps, batch_size)\n",
    "\n",
    "model_checkpoint = ModelCheckpoint(\n",
    "                DATA_DIR+'/models/'+model_name+'_'+str(fold_inx)+'.h5', \n",
    "                monitor='val_fn_loss', \n",
    "                verbose=1, \n",
    "                save_best_only=True, \n",
    "                save_weights_only=False, \n",
    "                mode='min',\n",
    "                period=1)"
   ]
  },
  {
   "cell_type": "code",
   "execution_count": 8,
   "metadata": {
    "collapsed": true
   },
   "outputs": [],
   "source": [
    "# del model\n",
    "model = load_model(DATA_DIR+'/models/'+model_name+'_'+str(fold_inx)+'.h5', compile=False)"
   ]
  },
  {
   "cell_type": "code",
   "execution_count": 9,
   "metadata": {
    "collapsed": true
   },
   "outputs": [],
   "source": [
    "# opt=optimizers.Adam(lr=1e-4, decay=0.1e-4); epochs=10\n",
    "opt=optimizers.Adam(lr=0.3e-5, decay=0.05e-5); epochs=4\n",
    "model.compile(optimizer=opt, loss='binary_crossentropy', metrics=[fn_loss, f2, 'accuracy'])"
   ]
  },
  {
   "cell_type": "code",
   "execution_count": 10,
   "metadata": {},
   "outputs": [
    {
     "name": "stdout",
     "output_type": "stream",
     "text": [
      "Epoch 1/4\n",
      "1138/1139 [============================>.] - ETA: 0s - loss: 0.0797 - fn_loss: 0.0991 - f2: 0.9089 - acc: 0.9693"
     ]
    },
    {
     "name": "stderr",
     "output_type": "stream",
     "text": [
      "/opt/conda/lib/python3.5/site-packages/sklearn/metrics/classification.py:1113: UndefinedMetricWarning: F-score is ill-defined and being set to 0.0 in samples with no predicted labels.\n",
      "  'precision', 'predicted', average, warn_for)\n"
     ]
    },
    {
     "name": "stdout",
     "output_type": "stream",
     "text": [
      "\n",
      "F2 Score (0.2) 0.9255001032061313; (0.5) 0.905823094272981;\n",
      "Epoch 00000: val_fn_loss improved from inf to 0.10557, saving model to /src/DL/planet_understanding_the_amazon_from_space/data/models/deep_model_vgg19_1.h5\n",
      "1139/1139 [==============================] - 933s - loss: 0.0797 - fn_loss: 0.0991 - f2: 0.9089 - acc: 0.9693 - val_loss: 0.0856 - val_fn_loss: 0.1056 - val_f2: 0.9039 - val_acc: 0.9674\n",
      "Epoch 2/4\n",
      "1138/1139 [============================>.] - ETA: 0s - loss: 0.0797 - fn_loss: 0.0989 - f2: 0.9096 - acc: 0.9693\n",
      "F2 Score (0.2) 0.9252187255420556; (0.5) 0.9031990460339269;\n",
      "Epoch 00001: val_fn_loss improved from 0.10557 to 0.10421, saving model to /src/DL/planet_understanding_the_amazon_from_space/data/models/deep_model_vgg19_1.h5\n",
      "1139/1139 [==============================] - 932s - loss: 0.0798 - fn_loss: 0.0989 - f2: 0.9095 - acc: 0.9693 - val_loss: 0.0846 - val_fn_loss: 0.1042 - val_f2: 0.9053 - val_acc: 0.9681\n",
      "Epoch 3/4\n",
      "1138/1139 [============================>.] - ETA: 0s - loss: 0.0794 - fn_loss: 0.0986 - f2: 0.9094 - acc: 0.9693\n",
      "F2 Score (0.2) 0.9247168026001643; (0.5) 0.9057148185328568;\n",
      "Epoch 00002: val_fn_loss did not improve\n",
      "1139/1139 [==============================] - 932s - loss: 0.0795 - fn_loss: 0.0986 - f2: 0.9094 - acc: 0.9693 - val_loss: 0.0847 - val_fn_loss: 0.1047 - val_f2: 0.9036 - val_acc: 0.9675\n",
      "Epoch 4/4\n",
      "1138/1139 [============================>.] - ETA: 0s - loss: 0.0788 - fn_loss: 0.0978 - f2: 0.9101 - acc: 0.9696\n",
      "F2 Score (0.2) 0.9263560036420725; (0.5) 0.9040055617734486;\n",
      "Epoch 00003: val_fn_loss did not improve\n",
      "1139/1139 [==============================] - 932s - loss: 0.0788 - fn_loss: 0.0978 - f2: 0.9100 - acc: 0.9696 - val_loss: 0.0855 - val_fn_loss: 0.1058 - val_f2: 0.9033 - val_acc: 0.9673\n"
     ]
    },
    {
     "data": {
      "text/plain": [
       "<keras.callbacks.History at 0x7f201d9d4e80>"
      ]
     },
     "execution_count": 10,
     "metadata": {},
     "output_type": "execute_result"
    }
   ],
   "source": [
    "model.fit_generator(\n",
    "    generator=train_gen.flow(train_array[train_folds[fold_inx]], Y[train_folds[fold_inx]], batch_size=batch_size),\n",
    "    steps_per_epoch=train_steps,\n",
    "    epochs=epochs,\n",
    "    validation_data=valid_gen.flow(train_array[valid_folds[fold_inx]], Y[valid_folds[fold_inx]], batch_size=batch_size, shuffle=False),\n",
    "    validation_steps=valid_steps,\n",
    "    callbacks=[f2_history, model_checkpoint])"
   ]
  },
  {
   "cell_type": "code",
   "execution_count": 11,
   "metadata": {},
   "outputs": [
    {
     "name": "stdout",
     "output_type": "stream",
     "text": [
      "[0.9255001032061313, 0.92521872554205564, 0.92471680260016431, 0.92635600364207249]\n"
     ]
    },
    {
     "data": {
      "image/png": "[encoded data removed]",
      "text/plain": [
       "<matplotlib.figure.Figure at 0x7f222c2ef9b0>"
      ]
     },
     "metadata": {},
     "output_type": "display_data"
    }
   ],
   "source": [
    "print(f2_history.f2_02_scores)\n",
    "plt.plot(f2_history.f2_02_scores)\n",
    "plt.show()"
   ]
  },
  {
   "cell_type": "code",
   "execution_count": 12,
   "metadata": {},
   "outputs": [
    {
     "name": "stdout",
     "output_type": "stream",
     "text": [
      "[0.90582309427298102, 0.90319904603392687, 0.90571481853285685, 0.9040055617734486]\n"
     ]
    },
    {
     "data": {
      "image/png": "[encoded data removed]",
      "text/plain": [
       "<matplotlib.figure.Figure at 0x7f201c9a8f28>"
      ]
     },
     "metadata": {},
     "output_type": "display_data"
    }
   ],
   "source": [
    "print(f2_history.f2_05_scores)\n",
    "plt.plot(f2_history.f2_05_scores)\n",
    "plt.show()"
   ]
  },
  {
   "cell_type": "code",
   "execution_count": 15,
   "metadata": {},
   "outputs": [
    {
     "ename": "NameError",
     "evalue": "name 'stop' is not defined",
     "output_type": "error",
     "traceback": [
      "\u001b[0;31m\u001b[0m",
      "\u001b[0;31mNameError\u001b[0mTraceback (most recent call last)",
      "\u001b[0;32m<ipython-input-15-30d9529ff51c>\u001b[0m in \u001b[0;36m<module>\u001b[0;34m()\u001b[0m\n\u001b[0;32m----> 1\u001b[0;31m \u001b[0mstop\u001b[0m\u001b[0;34m\u001b[0m\u001b[0m\n\u001b[0m",
      "\u001b[0;31mNameError\u001b[0m: name 'stop' is not defined"
     ]
    }
   ],
   "source": [
    "stop"
   ]
  },
  {
   "cell_type": "code",
   "execution_count": 12,
   "metadata": {
    "collapsed": true
   },
   "outputs": [],
   "source": [
    "del model\n",
    "model = load_model(DATA_DIR+'/models/'+model_name+'_'+str(fold_inx)+'.h5', compile=False)\n",
    "\n",
    "opt=optimizers.Adam(lr=1e-5, decay=0.1e-6); epochs=5;\n",
    "model.compile(optimizer=opt, loss='binary_crossentropy', metrics=[fn_loss, f2, 'accuracy'])"
   ]
  },
  {
   "cell_type": "code",
   "execution_count": null,
   "metadata": {
    "collapsed": true
   },
   "outputs": [],
   "source": [
    "# model.fit_generator(\n",
    "#     generator=valid_gen.flow(train_array[valid_folds[fold_inx]], Y[valid_folds[fold_inx]], batch_size=batch_size),\n",
    "#     steps_per_epoch=valid_steps,\n",
    "#     epochs=epochs)"
   ]
  },
  {
   "cell_type": "code",
   "execution_count": 17,
   "metadata": {},
   "outputs": [
    {
     "name": "stdout",
     "output_type": "stream",
     "text": [
      "4049/4049 [==============================] - 28s    \n"
     ]
    },
    {
     "data": {
      "text/plain": [
       "[0.083004178551537924,\n",
       " 0.10162896704260847,\n",
       " 0.90810794520755955,\n",
       " 0.96777706225438309]"
      ]
     },
     "execution_count": 17,
     "metadata": {},
     "output_type": "execute_result"
    }
   ],
   "source": [
    "model.evaluate(train_array[valid_folds[fold_inx]], Y[valid_folds[fold_inx]], batch_size=batch_size)"
   ]
  },
  {
   "cell_type": "code",
   "execution_count": 9,
   "metadata": {},
   "outputs": [
    {
     "name": "stdout",
     "output_type": "stream",
     "text": [
      "4049/4049 [==============================] - 30s    \n"
     ]
    },
    {
     "data": {
      "text/plain": [
       "[0.082936968979172479,\n",
       " 0.10173609103868554,\n",
       " 0.90722207514920261,\n",
       " 0.96784970512446666]"
      ]
     },
     "execution_count": 9,
     "metadata": {},
     "output_type": "execute_result"
    }
   ],
   "source": [
    "# backup\n",
    "model.evaluate(train_array[valid_folds[fold_inx]], Y[valid_folds[fold_inx]], batch_size=batch_size)"
   ]
  },
  {
   "cell_type": "code",
   "execution_count": 13,
   "metadata": {},
   "outputs": [
    {
     "data": {
      "text/plain": [
       "[0.084928487579111228,\n",
       " 0.10477362035836488,\n",
       " 0.90433176104534518,\n",
       " 0.96761726280529425]"
      ]
     },
     "execution_count": 13,
     "metadata": {},
     "output_type": "execute_result"
    }
   ],
   "source": [
    "model.evaluate_generator(\n",
    "    valid_gen.flow(train_array[valid_folds[fold_inx]], Y[valid_folds[fold_inx]], batch_size=batch_size, shuffle=False),\n",
    "    steps=valid_steps)"
   ]
  },
  {
   "cell_type": "code",
   "execution_count": null,
   "metadata": {
    "collapsed": true
   },
   "outputs": [],
   "source": [
    "# model.evaluate_generator(\n",
    "#     all_gen.flow(train_array, Y, batch_size=batch_size, shuffle=False),\n",
    "#     steps=all_steps)"
   ]
  },
  {
   "cell_type": "code",
   "execution_count": 14,
   "metadata": {},
   "outputs": [
    {
     "name": "stdout",
     "output_type": "stream",
     "text": [
      "40479/40479 [==============================] - 292s   \n",
      "Predicting TTA: 0\n",
      "1265/1265 [==============================] - 291s   \n",
      "Predicting TTA: 1\n",
      "1265/1265 [==============================] - 292s   \n",
      "Predicting TTA: 2\n",
      "1265/1265 [==============================] - 292s   \n"
     ]
    }
   ],
   "source": [
    "p_X_no_tta, p_X_tta_list = predictTTA(model, train_array, all_gen, all_steps, batch_size, 3)\n",
    "p_X_tta = sum(p_X_tta_list)"
   ]
  },
  {
   "cell_type": "code",
   "execution_count": 33,
   "metadata": {
    "collapsed": true
   },
   "outputs": [],
   "source": [
    "c = 1.0\n",
    "p_X = (c*p_X_no_tta+p_X_tta)/(c+3.0)"
   ]
  },
  {
   "cell_type": "code",
   "execution_count": 34,
   "metadata": {},
   "outputs": [
    {
     "name": "stderr",
     "output_type": "stream",
     "text": [
      "/opt/conda/lib/python3.5/site-packages/sklearn/metrics/classification.py:1113: UndefinedMetricWarning: F-score is ill-defined and being set to 0.0 in samples with no predicted labels.\n",
      "  'precision', 'predicted', average, warn_for)\n"
     ]
    },
    {
     "name": "stdout",
     "output_type": "stream",
     "text": [
      "5: Score 0.9284142154765906 with 0.1205\n",
      "1: Score 0.928118066471266 with 0.223\n",
      "3: Score 0.9281417097101912 with 0.223\n",
      "6: Score 0.9293319718873996 with 0.059500000000000004\n",
      "2: Score 0.9282179895997462 with 0.232\n",
      "4: Score 0.928111100038312 with 0.209\n",
      "0: Score 0.928515327452937 with 0.2775\n",
      "7: Score 0.9281242190574234 with 0.10300000000000001\n",
      "8: Score 0.9284581875544817 with 0.2125\n",
      "10: Score 0.9283823018227934 with 0.2725\n",
      "9: Score 0.9282558706171348 with 0.162\n",
      "11: Score 0.9282937379525887 with 0.1825\n",
      "12: Score 0.9283357745158884 with 0.244\n",
      "14: Score 0.9283664466191361 with 0.109\n",
      "13: Score 0.9282059493343886 with 0.2175\n",
      "15: Score 0.9281095878224549 with 0.156\n",
      "16: Score 0.928200329514459 with 0.158\n",
      "F2 Valid Score: 0.932087272429834\n",
      "F2 All Score: 0.9358597884540638\n",
      "28.40216827392578\n"
     ]
    }
   ],
   "source": [
    "start = time()\n",
    "thres = find_best_thresholds(Y[valid_folds[fold_inx]], p_X[valid_folds[fold_inx]])\n",
    "print(\"F2 Valid Score: {}\".format(f2_score(Y[valid_folds[fold_inx]], p_X[valid_folds[fold_inx]], thres)))\n",
    "print(\"F2 All Score: {}\".format(f2_score(Y, p_X, thres)))\n",
    "\n",
    "save_array(DATA_DIR+'/models/'+model_name+'_thres_'+str(fold_inx)+'.dat', thres)\n",
    "print(time() - start)"
   ]
  },
  {
   "cell_type": "code",
   "execution_count": 35,
   "metadata": {},
   "outputs": [
    {
     "name": "stdout",
     "output_type": "stream",
     "text": [
      "0.93208727243\n",
      "0.935859788454\n"
     ]
    }
   ],
   "source": [
    "# thres = load_array(DATA_DIR+'/models/'+model_name+'_thres_'+str(fold_inx)+'.dat')\n",
    "print(f2_score(Y[valid_folds[fold_inx]], p_X[valid_folds[fold_inx]], thres))\n",
    "print(f2_score(Y, p_X, thres))"
   ]
  },
  {
   "cell_type": "code",
   "execution_count": null,
   "metadata": {
    "scrolled": true
   },
   "outputs": [],
   "source": [
    "# max_f2 = 0.0\n",
    "# best_c = 0.0\n",
    "# for c in np.arange(0, 2, 0.2):\n",
    "#     print(c)\n",
    "#     p_X = (c*p_X_no_tta+p_X_tta)/(c+3.0)\n",
    "#     thres = find_best_thresholds(Y[valid_folds[fold_inx]], p_X[valid_folds[fold_inx]])\n",
    "#     current_f2 = f2_score(Y[valid_folds[fold_inx]], p_X[valid_folds[fold_inx]], thres)\n",
    "    \n",
    "#     print(\"F2 Valid Score: {}\".format(current_f2))\n",
    "#     print(\"F2 All Score: {}\".format(f2_score(Y, p_X, thres)))\n",
    "    \n",
    "#     if current_f2>max_f2:\n",
    "#         max_f2 = current_f2\n",
    "#         best_c = c\n",
    "\n",
    "# print(max_f2)\n",
    "# print(best_c)"
   ]
  },
  {
   "cell_type": "code",
   "execution_count": 36,
   "metadata": {},
   "outputs": [
    {
     "name": "stdout",
     "output_type": "stream",
     "text": [
      "20.005693435668945\n"
     ]
    }
   ],
   "source": [
    "del train_array\n",
    "del p_X\n",
    "del p_X_no_tta\n",
    "del p_X_tta\n",
    "del p_X_tta_list\n",
    "del model\n",
    "del thres\n",
    "\n",
    "start = time()\n",
    "model = load_model(DATA_DIR+'/models/'+model_name+'_'+str(fold_inx)+'.h5', compile=False)\n",
    "thres = load_array(DATA_DIR+'/models/'+model_name+'_thres_'+str(fold_inx)+'.dat')\n",
    "\n",
    "test_array = load_array(DATA_DIR+'/test_images_'+str(image_size)+'.dat')\n",
    "print(time() - start)"
   ]
  },
  {
   "cell_type": "code",
   "execution_count": 37,
   "metadata": {},
   "outputs": [
    {
     "name": "stdout",
     "output_type": "stream",
     "text": [
      "61191/61191 [==============================] - 437s   \n",
      "Predicting TTA: 0\n",
      "1913/1913 [==============================] - 440s   \n",
      "Predicting TTA: 1\n",
      "1913/1913 [==============================] - 441s   \n",
      "Predicting TTA: 2\n",
      "1913/1913 [==============================] - 441s   \n"
     ]
    }
   ],
   "source": [
    "p_X_test_no_tta, p_X_test_tta_list = predictTTA(model, test_array, test_gen, test_steps, batch_size, 3)\n",
    "p_X_test_tta = sum(p_X_test_tta_list)"
   ]
  },
  {
   "cell_type": "code",
   "execution_count": 57,
   "metadata": {
    "collapsed": true
   },
   "outputs": [],
   "source": [
    "c = 3.0\n",
    "p_X_test = (c*p_X_test_no_tta+p_X_test_tta)/(c+3.0)\n",
    "p_X_test = p_X_test_no_tta"
   ]
  },
  {
   "cell_type": "code",
   "execution_count": 58,
   "metadata": {},
   "outputs": [
    {
     "name": "stdout",
     "output_type": "stream",
     "text": [
      "14.894867181777954\n"
     ]
    },
    {
     "data": {
      "text/html": [
       "<div>\n",
       "<style>\n",
       "    .dataframe thead tr:only-child th {\n",
       "        text-align: right;\n",
       "    }\n",
       "\n",
       "    .dataframe thead th {\n",
       "        text-align: left;\n",
       "    }\n",
       "\n",
       "    .dataframe tbody tr th {\n",
       "        vertical-align: top;\n",
       "    }\n",
       "</style>\n",
       "<table border=\"1\" class=\"dataframe\">\n",
       "  <thead>\n",
       "    <tr style=\"text-align: right;\">\n",
       "      <th></th>\n",
       "      <th>image_name</th>\n",
       "      <th>tags</th>\n",
       "    </tr>\n",
       "  </thead>\n",
       "  <tbody>\n",
       "    <tr>\n",
       "      <th>0</th>\n",
       "      <td>test_0</td>\n",
       "      <td>clear primary</td>\n",
       "    </tr>\n",
       "    <tr>\n",
       "      <th>1</th>\n",
       "      <td>test_1</td>\n",
       "      <td>clear primary</td>\n",
       "    </tr>\n",
       "    <tr>\n",
       "      <th>2</th>\n",
       "      <td>test_2</td>\n",
       "      <td>partly_cloudy primary</td>\n",
       "    </tr>\n",
       "    <tr>\n",
       "      <th>3</th>\n",
       "      <td>test_3</td>\n",
       "      <td>agriculture clear cultivation primary</td>\n",
       "    </tr>\n",
       "    <tr>\n",
       "      <th>4</th>\n",
       "      <td>test_4</td>\n",
       "      <td>cloudy partly_cloudy primary</td>\n",
       "    </tr>\n",
       "    <tr>\n",
       "      <th>5</th>\n",
       "      <td>test_5</td>\n",
       "      <td>clear primary</td>\n",
       "    </tr>\n",
       "    <tr>\n",
       "      <th>6</th>\n",
       "      <td>test_6</td>\n",
       "      <td>agriculture clear cultivation habitation partl...</td>\n",
       "    </tr>\n",
       "    <tr>\n",
       "      <th>7</th>\n",
       "      <td>test_7</td>\n",
       "      <td>agriculture clear habitation primary road</td>\n",
       "    </tr>\n",
       "    <tr>\n",
       "      <th>8</th>\n",
       "      <td>test_8</td>\n",
       "      <td>clear primary</td>\n",
       "    </tr>\n",
       "    <tr>\n",
       "      <th>9</th>\n",
       "      <td>test_9</td>\n",
       "      <td>agriculture clear cultivation haze primary</td>\n",
       "    </tr>\n",
       "  </tbody>\n",
       "</table>\n",
       "</div>"
      ],
      "text/plain": [
       "  image_name                                               tags\n",
       "0     test_0                                      clear primary\n",
       "1     test_1                                      clear primary\n",
       "2     test_2                              partly_cloudy primary\n",
       "3     test_3              agriculture clear cultivation primary\n",
       "4     test_4                       cloudy partly_cloudy primary\n",
       "5     test_5                                      clear primary\n",
       "6     test_6  agriculture clear cultivation habitation partl...\n",
       "7     test_7          agriculture clear habitation primary road\n",
       "8     test_8                                      clear primary\n",
       "9     test_9         agriculture clear cultivation haze primary"
      ]
     },
     "execution_count": 58,
     "metadata": {},
     "output_type": "execute_result"
    }
   ],
   "source": [
    "start = time()\n",
    "for inx in np.arange(len(test_df)):\n",
    "    test_df['tags'][inx] = ' '.join([inv_label_map[i] for i, b in enumerate(p_X_test[inx] >= thres) if b])\n",
    "print(time() - start)\n",
    "\n",
    "test_df[:10]"
   ]
  },
  {
   "cell_type": "code",
   "execution_count": 59,
   "metadata": {},
   "outputs": [
    {
     "data": {
      "text/html": [
       "<a href='data/results/deep_model_vgg19_submission.csv' target='_blank'>data/results/deep_model_vgg19_submission.csv</a><br>"
      ],
      "text/plain": [
       "/src/DL/planet_understanding_the_amazon_from_space/data/results/deep_model_vgg19_submission.csv"
      ]
     },
     "execution_count": 59,
     "metadata": {},
     "output_type": "execute_result"
    }
   ],
   "source": [
    "save_array(DATA_DIR+'/results/'+model_name+'_test.dat', p_X_test)\n",
    "test_df.to_csv(DATA_DIR+'/results/'+model_name+'_submission.csv', index=False)\n",
    "FileLink('data/results/'+model_name+'_submission.csv')"
   ]
  },
  {
   "cell_type": "code",
   "execution_count": 41,
   "metadata": {},
   "outputs": [
    {
     "name": "stdout",
     "output_type": "stream",
     "text": [
      "69.27662885983786\n"
     ]
    }
   ],
   "source": [
    "print((time() - global_start)/60)"
   ]
  }
 ],
 "metadata": {
  "kernelspec": {
   "display_name": "Python 3",
   "language": "python",
   "name": "python3"
  },
  "language_info": {
   "codemirror_mode": {
    "name": "ipython",
    "version": 3
   },
   "file_extension": ".py",
   "mimetype": "text/x-python",
   "name": "python",
   "nbconvert_exporter": "python",
   "pygments_lexer": "ipython3",
   "version": "3.5.3"
  }
 },
 "nbformat": 4,
 "nbformat_minor": 2
}
