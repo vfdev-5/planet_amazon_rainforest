{
 "cells": [
  {
   "cell_type": "code",
   "execution_count": null,
   "metadata": {},
   "outputs": [],
   "source": [
    "import importlib\n",
    "import local_utils; importlib.reload(local_utils)\n",
    "from local_utils import *"
   ]
  },
  {
   "cell_type": "code",
   "execution_count": null,
   "metadata": {
    "collapsed": true
   },
   "outputs": [],
   "source": [
    "global_start = time()"
   ]
  },
  {
   "cell_type": "code",
   "execution_count": null,
   "metadata": {},
   "outputs": [],
   "source": [
    "train_df = pd.read_csv(DATA_DIR + '/train_v2.csv')\n",
    "test_df = pd.read_csv(DATA_DIR + '/sample_submission_v2.csv')\n",
    "\n",
    "label_map, inv_label_map, Y = process_labels(train_df)\n",
    "print(\"Shape of Y {}\".format(Y.shape))\n",
    "\n",
    "train_folds, valid_folds = stratified_kfold_sampling(Y, n_splits=10, random_state=1000)\n",
    "print(\"Shape of train folds {}\".format(train_folds.shape))\n",
    "print(\"Shape of valid folds {}\".format(valid_folds.shape))\n",
    "\n",
    "image_size = 192"
   ]
  },
  {
   "cell_type": "code",
   "execution_count": null,
   "metadata": {
    "collapsed": true
   },
   "outputs": [],
   "source": [
    "model_name = \"deep_model_192x192\"\n",
    "\n",
    "fold_inx = 1\n",
    "batch_size = 32\n",
    "all_steps = np.ceil(len(train_df)/batch_size)\n",
    "train_steps = np.ceil(len(train_folds[fold_inx])/batch_size)\n",
    "valid_steps = np.ceil(len(valid_folds[fold_inx])/batch_size)\n",
    "test_steps = np.ceil(len(test_df)/batch_size)"
   ]
  },
  {
   "cell_type": "code",
   "execution_count": null,
   "metadata": {
    "collapsed": true
   },
   "outputs": [],
   "source": [
    "# cache_images(DATA_DIR+\"/train_images_\"+str(image_size)+\".dat\", train_df['image_name'].values[train_folds[fold_inx]], DATA_DIR+'/train-jpg', True, image_size, image_size, dtype=np.float32)\n",
    "# cache_images(DATA_DIR+\"/valid_images_\"+str(image_size)+\".dat\", train_df['image_name'].values[valid_folds[fold_inx]], DATA_DIR+'/train-jpg', True, image_size, image_size, dtype=np.float32)\n",
    "# cache_images(DATA_DIR+\"/test_images_\"+str(image_size)+\".dat\", test_df['image_name'].values, DATA_DIR+'/test-jpg', True, image_size, image_size, dtype=np.float32)"
   ]
  },
  {
   "cell_type": "code",
   "execution_count": null,
   "metadata": {
    "collapsed": true
   },
   "outputs": [],
   "source": [
    "train_array = load_carray(DATA_DIR+'/train_images_'+str(image_size)+'.dat')\n",
    "valid_array = load_carray(DATA_DIR+'/valid_images_'+str(image_size)+'.dat')"
   ]
  },
  {
   "cell_type": "code",
   "execution_count": null,
   "metadata": {
    "collapsed": true
   },
   "outputs": [],
   "source": [
    "x_input = Input(shape=(image_size, image_size, 3))\n",
    "\n",
    "x = BatchNormalization()(x_input)\n",
    "x = Conv2D(32, (3, 3), padding='same', activation='relu')(x)\n",
    "x = Conv2D(32, (3, 3), activation='relu')(x)\n",
    "x = BatchNormalization()(x)\n",
    "xm = MaxPooling2D()(x)\n",
    "xa = AveragePooling2D()(x)\n",
    "\n",
    "xm = Conv2D(64, (3, 3), padding='same', activation='relu')(xm)\n",
    "xm = Conv2D(64, (3, 3), activation='relu')(xm)\n",
    "xm = BatchNormalization()(xm)\n",
    "xm = MaxPooling2D()(xm)\n",
    "\n",
    "xm = Conv2D(128, (3, 3), padding='same', activation='relu')(xm)\n",
    "xm = Conv2D(128, (3, 3), activation='relu')(xm)\n",
    "xm = BatchNormalization()(xm)\n",
    "xm = MaxPooling2D()(xm)\n",
    "\n",
    "xm = Conv2D(256, (3, 3), padding='same', activation='relu')(xm)\n",
    "xm = Conv2D(256, (3, 3), activation='relu')(xm)\n",
    "xm = BatchNormalization()(xm)\n",
    "xm = MaxPooling2D()(xm)\n",
    "\n",
    "xm = Conv2D(256, (3, 3), padding='same', activation='relu')(xm)\n",
    "xm = Conv2D(256, (3, 3), activation='relu')(xm)\n",
    "xm = BatchNormalization()(xm)\n",
    "\n",
    "xa = Conv2D(64, (3, 3), padding='same', activation='relu')(xa)\n",
    "xa = Conv2D(64, (3, 3), activation='relu')(xa)\n",
    "xa = BatchNormalization()(xa)\n",
    "xa = AveragePooling2D()(xa)\n",
    "\n",
    "xa = Conv2D(128, (3, 3), padding='same', activation='relu')(xa)\n",
    "xa = Conv2D(128, (3, 3), activation='relu')(xa)\n",
    "xa = BatchNormalization()(xa)\n",
    "xa = AveragePooling2D()(xa)\n",
    "\n",
    "xa = Conv2D(256, (3, 3), padding='same', activation='relu')(xa)\n",
    "xa = Conv2D(256, (3, 3), activation='relu')(xa)\n",
    "xa = BatchNormalization()(xa)\n",
    "xa = AveragePooling2D()(xa)\n",
    "\n",
    "xa = Conv2D(256, (3, 3), padding='same', activation='relu')(xa)\n",
    "xa = Conv2D(256, (3, 3), activation='relu')(xa)\n",
    "xa = BatchNormalization()(xa)\n",
    "\n",
    "xm = GlobalMaxPooling2D()(xm)\n",
    "xa = GlobalAveragePooling2D()(xa)\n",
    "x = concatenate([xm, xa])\n",
    "\n",
    "x = Dense(512, activation='relu')(x)\n",
    "x = BatchNormalization()(x)\n",
    "x = Dense(256, activation='relu')(x)\n",
    "x = BatchNormalization()(x)\n",
    "\n",
    "x_output = Dense(17, activation='sigmoid')(x)"
   ]
  },
  {
   "cell_type": "code",
   "execution_count": null,
   "metadata": {
    "scrolled": true
   },
   "outputs": [],
   "source": [
    "model = Model(inputs=x_input, outputs=x_output)\n",
    "\n",
    "# model_128x128 = load_model(DATA_DIR+'/models/deep_model_1_backup.h5', compile=False)\n",
    "# model.set_weights(model_128x128.get_weights())\n",
    "\n",
    "# model_256x256 = load_model(DATA_DIR+'/models/deep_model_256x256_1_backup.h5', compile=False)\n",
    "# model.set_weights(model_256x256.get_weights())\n",
    "\n",
    "model.summary()"
   ]
  },
  {
   "cell_type": "code",
   "execution_count": null,
   "metadata": {
    "collapsed": true
   },
   "outputs": [],
   "source": [
    "def getImageDataGenerator():\n",
    "    return ImageDataGenerator(\n",
    "                rotation_range=90,\n",
    "                horizontal_flip=True,\n",
    "                vertical_flip=True,)\n",
    "\n",
    "all_gen = getImageDataGenerator()\n",
    "train_gen = getImageDataGenerator()\n",
    "valid_gen = getImageDataGenerator()\n",
    "test_gen = getImageDataGenerator()"
   ]
  },
  {
   "cell_type": "code",
   "execution_count": null,
   "metadata": {},
   "outputs": [],
   "source": [
    "f2_history = F2History(valid_array, Y[valid_folds[fold_inx]], \n",
    "                       valid_gen, valid_steps, batch_size)\n",
    "\n",
    "model_checkpoint = ModelCheckpoint(\n",
    "                DATA_DIR+'/models/'+model_name+'_'+str(fold_inx)+'.h5', \n",
    "                monitor='val_fn_loss', \n",
    "                verbose=1, \n",
    "                save_best_only=True, \n",
    "                save_weights_only=False, \n",
    "                mode='min',\n",
    "                period=1)"
   ]
  },
  {
   "cell_type": "code",
   "execution_count": null,
   "metadata": {
    "collapsed": true
   },
   "outputs": [],
   "source": [
    "# del model\n",
    "model = load_model(DATA_DIR+'/models/'+model_name+'_'+str(fold_inx)+'.h5', compile=False)"
   ]
  },
  {
   "cell_type": "code",
   "execution_count": null,
   "metadata": {
    "collapsed": true
   },
   "outputs": [],
   "source": [
    "# opt=optimizers.Adam(lr=1e-2); epochs=4;\n",
    "opt=optimizers.Adam(lr=1e-3); epochs=2;\n",
    "# opt=optimizers.Adam(lr=1e-4, decay=2e-5); epochs=5;\n",
    "# opt=optimizers.Adam(lr=1e-5, decay=33e-6); epochs=3;\n",
    "model.compile(optimizer=opt, loss='binary_crossentropy', metrics=[fn_loss, f2, 'accuracy'])"
   ]
  },
  {
   "cell_type": "code",
   "execution_count": null,
   "metadata": {},
   "outputs": [],
   "source": [
    "# model.evaluate_generator(\n",
    "#     valid_gen.flow(valid_array, Y[valid_folds[fold_inx]], batch_size=batch_size, shuffle=False),\n",
    "#     steps=valid_steps)"
   ]
  },
  {
   "cell_type": "code",
   "execution_count": null,
   "metadata": {},
   "outputs": [],
   "source": [
    "model.fit_generator(\n",
    "    generator=train_gen.flow(train_array, Y[train_folds[fold_inx]], batch_size=batch_size),\n",
    "    steps_per_epoch=train_steps,\n",
    "    epochs=epochs,\n",
    "    validation_data=valid_gen.flow(valid_array, Y[valid_folds[fold_inx]], batch_size=batch_size, shuffle=False),\n",
    "    validation_steps=valid_steps,\n",
    "    callbacks=[model_checkpoint, f2_history])"
   ]
  },
  {
   "cell_type": "code",
   "execution_count": null,
   "metadata": {},
   "outputs": [],
   "source": [
    "print(f2_history.f2_02_scores)\n",
    "plt.plot(f2_history.f2_02_scores)\n",
    "plt.show()"
   ]
  },
  {
   "cell_type": "code",
   "execution_count": null,
   "metadata": {},
   "outputs": [],
   "source": [
    "print(f2_history.f2_05_scores)\n",
    "plt.plot(f2_history.f2_05_scores)\n",
    "plt.show()"
   ]
  },
  {
   "cell_type": "code",
   "execution_count": null,
   "metadata": {},
   "outputs": [],
   "source": [
    "stop"
   ]
  }
 ],
 "metadata": {
  "kernelspec": {
   "display_name": "Python 3",
   "language": "python",
   "name": "python3"
  },
  "language_info": {
   "codemirror_mode": {
    "name": "ipython",
    "version": 3
   },
   "file_extension": ".py",
   "mimetype": "text/x-python",
   "name": "python",
   "nbconvert_exporter": "python",
   "pygments_lexer": "ipython3",
   "version": "3.5.3"
  }
 },
 "nbformat": 4,
 "nbformat_minor": 2
}
