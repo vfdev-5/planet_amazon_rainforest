{
 "cells": [
  {
   "cell_type": "code",
   "execution_count": 1,
   "metadata": {
    "collapsed": false
   },
   "outputs": [
    {
     "name": "stderr",
     "output_type": "stream",
     "text": [
      "Using Theano backend.\n",
      "WARNING (theano.sandbox.cuda): The cuda backend is deprecated and will be removed in the next release (v0.10).  Please switch to the gpuarray backend. You can get more information about how to switch at this URL:\n",
      " https://github.com/Theano/Theano/wiki/Converting-to-the-new-gpu-back-end%28gpuarray%29\n",
      "\n",
      "Using gpu device 0: GeForce GT 750M (CNMeM is enabled with initial size: 50.0% of memory, cuDNN 5110)\n"
     ]
    },
    {
     "name": "stdout",
     "output_type": "stream",
     "text": [
      "Import time: 12.321996927261353\n",
      "Import time: 0.00017595291137695312\n"
     ]
    }
   ],
   "source": [
    "import importlib\n",
    "import local_utils; importlib.reload(local_utils)\n",
    "from local_utils import *"
   ]
  },
  {
   "cell_type": "code",
   "execution_count": 2,
   "metadata": {
    "collapsed": true
   },
   "outputs": [],
   "source": [
    "global_start = time()"
   ]
  },
  {
   "cell_type": "code",
   "execution_count": 3,
   "metadata": {
    "collapsed": false
   },
   "outputs": [
    {
     "name": "stdout",
     "output_type": "stream",
     "text": [
      "Shape of Y (40479, 17)\n",
      "Train 36431; Valid 4048;\n",
      "(128, 128, 3)\n"
     ]
    }
   ],
   "source": [
    "train_df = pd.read_csv(DATA_DIR + '/train_v2.csv')\n",
    "test_df = pd.read_csv(DATA_DIR + '/sample_submission_v2.csv')\n",
    "\n",
    "label_map, inv_label_map, Y = process_labels(train_df)\n",
    "print(\"Shape of Y {}\".format(Y.shape))\n",
    "\n",
    "train_inx, valid_inx = stratified_sampling(Y=Y, random_state=1000)\n",
    "print(\"Train {}; Valid {};\".format(len(train_inx), len(valid_inx)))\n",
    "\n",
    "w_size = 128\n",
    "h_size = 128\n",
    "input_shape = (w_size, h_size, 3)\n",
    "print(input_shape)"
   ]
  },
  {
   "cell_type": "code",
   "execution_count": 4,
   "metadata": {
    "collapsed": false
   },
   "outputs": [
    {
     "name": "stdout",
     "output_type": "stream",
     "text": [
      "(40479, 128, 128, 3)\n",
      "325.311439037323\n"
     ]
    }
   ],
   "source": [
    "start = time()\n",
    "X = load_images(train_df['image_name'].values, DATA_DIR + '/train/jpg', True, w_size, h_size)\n",
    "print(X.shape)\n",
    "print(time() - start)"
   ]
  },
  {
   "cell_type": "code",
   "execution_count": 7,
   "metadata": {
    "collapsed": false
   },
   "outputs": [],
   "source": [
    "save_array(DATA_DIR + \"/train_image_\" + str(\"128\")+'.dat', X)"
   ]
  },
  {
   "cell_type": "code",
   "execution_count": 5,
   "metadata": {
    "collapsed": true
   },
   "outputs": [],
   "source": [
    "model_name = \"main_model\"\n",
    "batch_size = 96"
   ]
  },
  {
   "cell_type": "code",
   "execution_count": 6,
   "metadata": {
    "collapsed": true
   },
   "outputs": [],
   "source": [
    "class F2History(Callback):\n",
    "    def on_train_begin(self, logs={}):\n",
    "        self.f2_scores = []\n",
    "    def on_epoch_end(self, epoch, logs ={}):\n",
    "        p_valid = self.model.predict(self.validation_data[0])\n",
    "        y_val = self.validation_data[1]\n",
    "        f2 = fbeta_score(y_val, np.array(p_valid) >= 0.2, beta=2, average='samples')\n",
    "        self.f2_scores.append(f2)\n",
    "        return\n",
    "\n",
    "f2_history = F2History()"
   ]
  },
  {
   "cell_type": "code",
   "execution_count": 7,
   "metadata": {
    "collapsed": true
   },
   "outputs": [],
   "source": [
    "model_checkpoint = ModelCheckpoint(\n",
    "                DATA_DIR + '/models/' + model_name + '.h5', \n",
    "                monitor='val_loss', \n",
    "                verbose=1, \n",
    "                save_best_only=True, \n",
    "                save_weights_only=False, \n",
    "                mode='min',\n",
    "                period=1)"
   ]
  },
  {
   "cell_type": "code",
   "execution_count": 8,
   "metadata": {
    "collapsed": true
   },
   "outputs": [],
   "source": [
    "p = 0.5\n",
    "model_layers = [\n",
    "    BatchNormalization(input_shape=input_shape),\n",
    "    Conv2D(32, (3, 3), padding='same', activation='relu'),\n",
    "    Conv2D(32, (3, 3), activation='relu'),\n",
    "    MaxPooling2D(pool_size=2),\n",
    "    \n",
    "    BatchNormalization(),\n",
    "#     Dropout(p/2),\n",
    "    Conv2D(64, (3, 3), padding='same', activation='relu'),\n",
    "    Conv2D(64, (3, 3), activation='relu'),\n",
    "    MaxPooling2D(pool_size=2),\n",
    "\n",
    "    BatchNormalization(),\n",
    "#     Dropout(p/2),\n",
    "    Conv2D(128, (3, 3), padding='same', activation='relu'),\n",
    "    Conv2D(128, (3, 3), activation='relu'),\n",
    "    MaxPooling2D(pool_size=2),\n",
    "\n",
    "    BatchNormalization(),\n",
    "#     Dropout(p/2),\n",
    "    Conv2D(256, (3, 3), padding='same', activation='relu'),\n",
    "    Conv2D(256, (3, 3), activation='relu'),\n",
    "    MaxPooling2D(pool_size=2),\n",
    "\n",
    "    BatchNormalization(),\n",
    "#     Dropout(p/2),\n",
    "    Conv2D(17, (3, 3), padding='same'),\n",
    "#     Dropout(p),\n",
    "    GlobalMaxPooling2D(),\n",
    "    Activation('sigmoid')\n",
    "    \n",
    "#     Flatten(),\n",
    "#     Dense(512, activation='relu'),\n",
    "#     BatchNormalization(),\n",
    "#     Dropout(0.25),\n",
    "#     Dense(256, activation='relu'),\n",
    "#     BatchNormalization(),\n",
    "#     Dropout(0.25),\n",
    "#     Dense(17, activation='sigmoid')\n",
    "]\n",
    "model = Sequential(model_layers)"
   ]
  },
  {
   "cell_type": "code",
   "execution_count": 9,
   "metadata": {
    "collapsed": true
   },
   "outputs": [],
   "source": [
    "# model = load_model(DATA_DIR + '/models/' + model_name + '1.h5', compile=False)"
   ]
  },
  {
   "cell_type": "code",
   "execution_count": 10,
   "metadata": {
    "collapsed": false
   },
   "outputs": [
    {
     "name": "stdout",
     "output_type": "stream",
     "text": [
      "_________________________________________________________________\n",
      "Layer (type)                 Output Shape              Param #   \n",
      "=================================================================\n",
      "batch_normalization_1 (Batch (None, 128, 128, 3)       12        \n",
      "_________________________________________________________________\n",
      "conv2d_1 (Conv2D)            (None, 128, 128, 32)      896       \n",
      "_________________________________________________________________\n",
      "conv2d_2 (Conv2D)            (None, 126, 126, 32)      9248      \n",
      "_________________________________________________________________\n",
      "max_pooling2d_1 (MaxPooling2 (None, 63, 63, 32)        0         \n",
      "_________________________________________________________________\n",
      "batch_normalization_2 (Batch (None, 63, 63, 32)        128       \n",
      "_________________________________________________________________\n",
      "conv2d_3 (Conv2D)            (None, 63, 63, 64)        18496     \n",
      "_________________________________________________________________\n",
      "conv2d_4 (Conv2D)            (None, 61, 61, 64)        36928     \n",
      "_________________________________________________________________\n",
      "max_pooling2d_2 (MaxPooling2 (None, 30, 30, 64)        0         \n",
      "_________________________________________________________________\n",
      "batch_normalization_3 (Batch (None, 30, 30, 64)        256       \n",
      "_________________________________________________________________\n",
      "conv2d_5 (Conv2D)            (None, 30, 30, 128)       73856     \n",
      "_________________________________________________________________\n",
      "conv2d_6 (Conv2D)            (None, 28, 28, 128)       147584    \n",
      "_________________________________________________________________\n",
      "max_pooling2d_3 (MaxPooling2 (None, 14, 14, 128)       0         \n",
      "_________________________________________________________________\n",
      "batch_normalization_4 (Batch (None, 14, 14, 128)       512       \n",
      "_________________________________________________________________\n",
      "conv2d_7 (Conv2D)            (None, 14, 14, 256)       295168    \n",
      "_________________________________________________________________\n",
      "conv2d_8 (Conv2D)            (None, 12, 12, 256)       590080    \n",
      "_________________________________________________________________\n",
      "max_pooling2d_4 (MaxPooling2 (None, 6, 6, 256)         0         \n",
      "_________________________________________________________________\n",
      "batch_normalization_5 (Batch (None, 6, 6, 256)         1024      \n",
      "_________________________________________________________________\n",
      "conv2d_9 (Conv2D)            (None, 6, 6, 17)          39185     \n",
      "_________________________________________________________________\n",
      "global_max_pooling2d_1 (Glob (None, 17)                0         \n",
      "_________________________________________________________________\n",
      "activation_1 (Activation)    (None, 17)                0         \n",
      "=================================================================\n",
      "Total params: 1,213,373\n",
      "Trainable params: 1,212,407\n",
      "Non-trainable params: 966\n",
      "_________________________________________________________________\n"
     ]
    }
   ],
   "source": [
    "opt = optimizers.Adam(lr=1e-3, decay=75e-5)\n",
    "model.compile(optimizer=opt, loss='binary_crossentropy', metrics=['accuracy'])\n",
    "model.summary()"
   ]
  },
  {
   "cell_type": "code",
   "execution_count": 11,
   "metadata": {
    "collapsed": false
   },
   "outputs": [
    {
     "name": "stdout",
     "output_type": "stream",
     "text": [
      "Train on 36431 samples, validate on 4048 samples\n",
      "Epoch 1/20\n",
      "36384/36431 [============================>.] - ETA: 0s - loss: 0.2873 - acc: 0.8829Epoch 00000: val_loss improved from inf to 0.19348, saving model to /src/DL/planet_understanding_the_amazon_from_space/data/models/main_model.h5\n",
      "36431/36431 [==============================] - 167s - loss: 0.2871 - acc: 0.8829 - val_loss: 0.1935 - val_acc: 0.9256\n",
      "Epoch 2/20\n",
      "36384/36431 [============================>.] - ETA: 0s - loss: 0.1538 - acc: 0.9395Epoch 00001: val_loss improved from 0.19348 to 0.14898, saving model to /src/DL/planet_understanding_the_amazon_from_space/data/models/main_model.h5\n",
      "36431/36431 [==============================] - 164s - loss: 0.1538 - acc: 0.9395 - val_loss: 0.1490 - val_acc: 0.9410"
     ]
    },
    {
     "name": "stderr",
     "output_type": "stream",
     "text": [
      "/opt/conda/lib/python3.5/site-packages/sklearn/metrics/classification.py:1113: UndefinedMetricWarning: F-score is ill-defined and being set to 0.0 in samples with no predicted labels.\n",
      "  'precision', 'predicted', average, warn_for)\n"
     ]
    },
    {
     "name": "stdout",
     "output_type": "stream",
     "text": [
      "\n",
      "Epoch 3/20\n",
      "36384/36431 [============================>.] - ETA: 0s - loss: 0.1359 - acc: 0.9467Epoch 00002: val_loss improved from 0.14898 to 0.13181, saving model to /src/DL/planet_understanding_the_amazon_from_space/data/models/main_model.h5\n",
      "36431/36431 [==============================] - 164s - loss: 0.1359 - acc: 0.9467 - val_loss: 0.1318 - val_acc: 0.9470\n",
      "Epoch 4/20\n",
      "36384/36431 [============================>.] - ETA: 0s - loss: 0.1248 - acc: 0.9512Epoch 00003: val_loss improved from 0.13181 to 0.12314, saving model to /src/DL/planet_understanding_the_amazon_from_space/data/models/main_model.h5\n",
      "36431/36431 [==============================] - 164s - loss: 0.1248 - acc: 0.9512 - val_loss: 0.1231 - val_acc: 0.9523\n",
      "Epoch 5/20\n",
      "36384/36431 [============================>.] - ETA: 0s - loss: 0.1172 - acc: 0.9543Epoch 00004: val_loss improved from 0.12314 to 0.12184, saving model to /src/DL/planet_understanding_the_amazon_from_space/data/models/main_model.h5\n",
      "36431/36431 [==============================] - 164s - loss: 0.1172 - acc: 0.9542 - val_loss: 0.1218 - val_acc: 0.9517\n",
      "Epoch 6/20\n",
      "36384/36431 [============================>.] - ETA: 0s - loss: 0.1116 - acc: 0.9564Epoch 00005: val_loss did not improve\n",
      "36431/36431 [==============================] - 164s - loss: 0.1116 - acc: 0.9564 - val_loss: 0.1279 - val_acc: 0.9479\n",
      "Epoch 7/20\n",
      "36384/36431 [============================>.] - ETA: 0s - loss: 0.1075 - acc: 0.9581Epoch 00006: val_loss improved from 0.12184 to 0.10780, saving model to /src/DL/planet_understanding_the_amazon_from_space/data/models/main_model.h5\n",
      "36431/36431 [==============================] - 164s - loss: 0.1075 - acc: 0.9581 - val_loss: 0.1078 - val_acc: 0.9578\n",
      "Epoch 8/20\n",
      "36384/36431 [============================>.] - ETA: 0s - loss: 0.1034 - acc: 0.9597Epoch 00007: val_loss did not improve\n",
      "36431/36431 [==============================] - 164s - loss: 0.1034 - acc: 0.9597 - val_loss: 0.1088 - val_acc: 0.9576\n",
      "Epoch 9/20\n",
      "36384/36431 [============================>.] - ETA: 0s - loss: 0.0994 - acc: 0.9615Epoch 00008: val_loss improved from 0.10780 to 0.10562, saving model to /src/DL/planet_understanding_the_amazon_from_space/data/models/main_model.h5\n",
      "36431/36431 [==============================] - 165s - loss: 0.0993 - acc: 0.9615 - val_loss: 0.1056 - val_acc: 0.9593\n",
      "Epoch 10/20\n",
      "36384/36431 [============================>.] - ETA: 0s - loss: 0.0958 - acc: 0.9627Epoch 00009: val_loss improved from 0.10562 to 0.10488, saving model to /src/DL/planet_understanding_the_amazon_from_space/data/models/main_model.h5\n",
      "36431/36431 [==============================] - 164s - loss: 0.0958 - acc: 0.9627 - val_loss: 0.1049 - val_acc: 0.9594\n",
      "Epoch 11/20\n",
      "36384/36431 [============================>.] - ETA: 0s - loss: 0.0919 - acc: 0.9644Epoch 00010: val_loss improved from 0.10488 to 0.10349, saving model to /src/DL/planet_understanding_the_amazon_from_space/data/models/main_model.h5\n",
      "36431/36431 [==============================] - 165s - loss: 0.0919 - acc: 0.9644 - val_loss: 0.1035 - val_acc: 0.9602\n",
      "Epoch 12/20\n",
      "36384/36431 [============================>.] - ETA: 0s - loss: 0.0873 - acc: 0.9662Epoch 00011: val_loss did not improve\n",
      "36431/36431 [==============================] - 164s - loss: 0.0873 - acc: 0.9662 - val_loss: 0.1041 - val_acc: 0.9605\n",
      "Epoch 13/20\n",
      "36384/36431 [============================>.] - ETA: 0s - loss: 0.0823 - acc: 0.9680Epoch 00012: val_loss did not improve\n",
      "36431/36431 [==============================] - 164s - loss: 0.0824 - acc: 0.9680 - val_loss: 0.1065 - val_acc: 0.9594\n",
      "Epoch 14/20\n",
      "36384/36431 [============================>.] - ETA: 0s - loss: 0.0775 - acc: 0.9701Epoch 00013: val_loss did not improve\n",
      "36431/36431 [==============================] - 164s - loss: 0.0775 - acc: 0.9700 - val_loss: 0.1073 - val_acc: 0.9589\n",
      "Epoch 15/20\n",
      "36384/36431 [============================>.] - ETA: 0s - loss: 0.0717 - acc: 0.9724Epoch 00014: val_loss did not improve\n",
      "36431/36431 [==============================] - 164s - loss: 0.0717 - acc: 0.9724 - val_loss: 0.1099 - val_acc: 0.9581\n",
      "Epoch 16/20\n",
      "36384/36431 [============================>.] - ETA: 0s - loss: 0.0656 - acc: 0.9747Epoch 00015: val_loss did not improve\n",
      "36431/36431 [==============================] - 164s - loss: 0.0655 - acc: 0.9747 - val_loss: 0.1089 - val_acc: 0.9598\n",
      "Epoch 17/20\n",
      "36384/36431 [============================>.] - ETA: 0s - loss: 0.0593 - acc: 0.9775Epoch 00016: val_loss did not improve\n",
      "36431/36431 [==============================] - 164s - loss: 0.0593 - acc: 0.9775 - val_loss: 0.1127 - val_acc: 0.9587\n",
      "Epoch 18/20\n",
      "36384/36431 [============================>.] - ETA: 0s - loss: 0.0525 - acc: 0.9804Epoch 00017: val_loss did not improve\n",
      "36431/36431 [==============================] - 165s - loss: 0.0525 - acc: 0.9804 - val_loss: 0.1184 - val_acc: 0.9584\n",
      "Epoch 19/20\n",
      "36384/36431 [============================>.] - ETA: 0s - loss: 0.0463 - acc: 0.9830Epoch 00018: val_loss did not improve\n",
      "36431/36431 [==============================] - 164s - loss: 0.0464 - acc: 0.9830 - val_loss: 0.1183 - val_acc: 0.9585\n",
      "Epoch 20/20\n",
      "36384/36431 [============================>.] - ETA: 0s - loss: 0.0412 - acc: 0.9853Epoch 00019: val_loss did not improve\n",
      "36431/36431 [==============================] - 165s - loss: 0.0412 - acc: 0.9853 - val_loss: 0.1214 - val_acc: 0.9579\n"
     ]
    },
    {
     "data": {
      "text/plain": [
       "<keras.callbacks.History at 0x7f7cff5ed7b8>"
      ]
     },
     "execution_count": 11,
     "metadata": {},
     "output_type": "execute_result"
    }
   ],
   "source": [
    "model.fit(X[train_inx], Y[train_inx],\n",
    "          batch_size=batch_size,\n",
    "          epochs=20,\n",
    "          verbose=1,\n",
    "          validation_data=(X[valid_inx], Y[valid_inx]),\n",
    "          callbacks=[f2_history, model_checkpoint])"
   ]
  },
  {
   "cell_type": "code",
   "execution_count": 18,
   "metadata": {
    "collapsed": false
   },
   "outputs": [
    {
     "name": "stdout",
     "output_type": "stream",
     "text": [
      "Max F2 Score 0.9139926925579585; Epoch 15;\n"
     ]
    },
    {
     "data": {
      "image/png": "[encoded data removed]",
      "text/plain": [
       "<matplotlib.figure.Figure at 0x7f7cfc3e8898>"
      ]
     },
     "metadata": {},
     "output_type": "display_data"
    }
   ],
   "source": [
    "print(\"Max F2 Score {}; Epoch {};\".format(max(f2_history.f2_scores),np.argmax(f2_history.f2_scores)))\n",
    "plt.plot(f2_history.f2_scores)\n",
    "plt.show()"
   ]
  },
  {
   "cell_type": "code",
   "execution_count": 13,
   "metadata": {
    "collapsed": false
   },
   "outputs": [
    {
     "ename": "NameError",
     "evalue": "name 'stop' is not defined",
     "output_type": "error",
     "traceback": [
      "\u001b[0;31m\u001b[0m",
      "\u001b[0;31mNameError\u001b[0mTraceback (most recent call last)",
      "\u001b[0;32m<ipython-input-13-30d9529ff51c>\u001b[0m in \u001b[0;36m<module>\u001b[0;34m()\u001b[0m\n\u001b[0;32m----> 1\u001b[0;31m \u001b[0mstop\u001b[0m\u001b[0;34m\u001b[0m\u001b[0m\n\u001b[0m",
      "\u001b[0;31mNameError\u001b[0m: name 'stop' is not defined"
     ]
    }
   ],
   "source": [
    "stop"
   ]
  },
  {
   "cell_type": "code",
   "execution_count": 25,
   "metadata": {
    "collapsed": true
   },
   "outputs": [],
   "source": [
    "# model.save(DATA_DIR + '/models/' + model_name + '.h5')"
   ]
  },
  {
   "cell_type": "code",
   "execution_count": 36,
   "metadata": {
    "collapsed": false
   },
   "outputs": [
    {
     "name": "stdout",
     "output_type": "stream",
     "text": [
      "4032/4048 [============================>.] - ETA: 0s"
     ]
    },
    {
     "data": {
      "text/plain": [
       "[0.1034902488525677, 0.96022729722878675]"
      ]
     },
     "execution_count": 36,
     "metadata": {},
     "output_type": "execute_result"
    }
   ],
   "source": [
    "model = load_model(DATA_DIR + '/models/' + model_name + '.h5', compile=False)\n",
    "opt = optimizers.Adam(lr=1e-3, decay=75e-5)\n",
    "model.compile(optimizer=opt, loss='binary_crossentropy', metrics=['accuracy'])\n",
    "model.evaluate(X[valid_inx], Y[valid_inx], batch_size=batch_size, verbose=1)"
   ]
  },
  {
   "cell_type": "code",
   "execution_count": 37,
   "metadata": {
    "collapsed": false
   },
   "outputs": [
    {
     "name": "stdout",
     "output_type": "stream",
     "text": [
      "40479/40479 [==============================] - 57s    \n"
     ]
    }
   ],
   "source": [
    "p_X = model.predict(X, batch_size=batch_size, verbose=1)"
   ]
  },
  {
   "cell_type": "code",
   "execution_count": 38,
   "metadata": {
    "collapsed": false
   },
   "outputs": [
    {
     "name": "stderr",
     "output_type": "stream",
     "text": [
      "/opt/conda/lib/python3.5/site-packages/sklearn/metrics/classification.py:1113: UndefinedMetricWarning: F-score is ill-defined and being set to 0.0 in samples with no predicted labels.\n",
      "  'precision', 'predicted', average, warn_for)\n"
     ]
    },
    {
     "name": "stdout",
     "output_type": "stream",
     "text": [
      "5: Score 0.9146585253931239 with 0.0905\n",
      "4: Score 0.9141957836996095 with 0.036000000000000004\n",
      "3: Score 0.9142178226932598 with 0.0555\n",
      "6: Score 0.9143275309837556 with 0.1475\n",
      "0: Score 0.9140700463261754 with 0.195\n",
      "2: Score 0.9142790606776148 with 0.1015\n",
      "7: Score 0.9141206606018107 with 0.0655\n",
      "1: Score 0.9140298457960663 with 0.2895\n"
     ]
    },
    {
     "name": "stderr",
     "output_type": "stream",
     "text": [
      "/opt/conda/lib/python3.5/site-packages/sklearn/metrics/classification.py:1113: UndefinedMetricWarning: F-score is ill-defined and being set to 0.0 in samples with no predicted labels.\n",
      "  'precision', 'predicted', average, warn_for)\n",
      "/opt/conda/lib/python3.5/site-packages/sklearn/metrics/classification.py:1113: UndefinedMetricWarning: F-score is ill-defined and being set to 0.0 in samples with no predicted labels.\n",
      "  'precision', 'predicted', average, warn_for)\n"
     ]
    },
    {
     "name": "stdout",
     "output_type": "stream",
     "text": [
      "8: Score 0.9141847782759426 with 0.1135\n",
      "14: Score 0.9140347023088436 with 0.518\n",
      "10: Score 0.9143496383953952 with 0.15\n",
      "11: Score 0.9151386115873057 with 0.10200000000000001\n",
      "13: Score 0.9140450443429003 with 0.1875\n",
      "12: Score 0.9145534571382067 with 0.136\n",
      "9: Score 0.9141308814091661 with 0.1495\n",
      "15: Score 0.9139778827331259 with 0.1835\n",
      "16: Score 0.9143637260007706 with 0.183\n",
      "29.310418128967285\n"
     ]
    }
   ],
   "source": [
    "start = time()\n",
    "thres = find_best_thresholds(Y[valid_inx], p_X[valid_inx])\n",
    "save_array(DATA_DIR + '/models/' + model_name + '_thres.dat', thres)\n",
    "print(time() - start)"
   ]
  },
  {
   "cell_type": "code",
   "execution_count": null,
   "metadata": {
    "collapsed": false
   },
   "outputs": [
    {
     "name": "stdout",
     "output_type": "stream",
     "text": [
      "0.925857175729\n",
      "0.926629247864\n",
      "0.918908717244\n"
     ]
    }
   ],
   "source": [
    "print(f2_score(Y, p_X, thres))\n",
    "print(f2_score(Y[train_inx], p_X[train_inx], thres))\n",
    "print(f2_score(Y[valid_inx], p_X[valid_inx], thres))"
   ]
  },
  {
   "cell_type": "code",
   "execution_count": null,
   "metadata": {
    "collapsed": false
   },
   "outputs": [
    {
     "name": "stderr",
     "output_type": "stream",
     "text": [
      "Process ForkPoolWorker-35:\n",
      "Traceback (most recent call last):\n",
      "  File \"/opt/conda/lib/python3.5/multiprocessing/process.py\", line 249, in _bootstrap\n",
      "    self.run()\n",
      "  File \"/opt/conda/lib/python3.5/multiprocessing/process.py\", line 93, in run\n",
      "    self._target(*self._args, **self._kwargs)\n",
      "  File \"/opt/conda/lib/python3.5/multiprocessing/pool.py\", line 125, in worker\n",
      "    put((job, i, result))\n",
      "  File \"/opt/conda/lib/python3.5/site-packages/joblib/pool.py\", line 386, in put\n",
      "    return send(obj)\n",
      "  File \"/opt/conda/lib/python3.5/site-packages/joblib/pool.py\", line 372, in send\n",
      "    self._writer.send_bytes(buffer.getvalue())\n",
      "  File \"/opt/conda/lib/python3.5/multiprocessing/connection.py\", line 200, in send_bytes\n",
      "    self._send_bytes(m[offset:offset + size])\n",
      "  File \"/opt/conda/lib/python3.5/multiprocessing/connection.py\", line 398, in _send_bytes\n",
      "    self._send(buf)\n",
      "  File \"/opt/conda/lib/python3.5/multiprocessing/connection.py\", line 368, in _send\n",
      "    n = write(self._handle, buf)\n",
      "KeyboardInterrupt\n"
     ]
    }
   ],
   "source": [
    "del X\n",
    "del p_X\n",
    "\n",
    "model = load_model(DATA_DIR + '/models/' + model_name + '.h5', compile=False)\n",
    "thres = load_array(DATA_DIR + '/models/' + model_name + '_thres.dat')\n",
    "\n",
    "start = time()\n",
    "X_test = load_images(test_df['image_name'].values, DATA_DIR + '/test-jpg', True, w_size, h_size)\n",
    "print(X_test.shape)\n",
    "print(time() - start)"
   ]
  },
  {
   "cell_type": "code",
   "execution_count": null,
   "metadata": {
    "collapsed": true
   },
   "outputs": [],
   "source": [
    "p_X_test = model.predict(X_test, batch_size=batch_size, verbose=1)"
   ]
  },
  {
   "cell_type": "code",
   "execution_count": null,
   "metadata": {
    "collapsed": true
   },
   "outputs": [],
   "source": [
    "start = time()\n",
    "for inx in np.arange(len(test_df)):\n",
    "    test_df['tags'][inx] = ' '.join([inv_label_map[i] for i, b in enumerate(p_X_test[inx] >= thres) if b])\n",
    "print(time() - start)\n",
    "\n",
    "test_df.head()"
   ]
  },
  {
   "cell_type": "code",
   "execution_count": null,
   "metadata": {
    "collapsed": true
   },
   "outputs": [],
   "source": [
    "test_df.to_csv(DATA_DIR + '/results/' + model_name + '_submission.csv', index=False)\n",
    "FileLink('data/results/' + model_name + '_submission.csv')"
   ]
  },
  {
   "cell_type": "code",
   "execution_count": null,
   "metadata": {
    "collapsed": true
   },
   "outputs": [],
   "source": [
    "print((time() - global_start)/60)"
   ]
  },
  {
   "cell_type": "markdown",
   "metadata": {},
   "source": [
    "### Pretrain weights"
   ]
  },
  {
   "cell_type": "code",
   "execution_count": 8,
   "metadata": {
    "collapsed": false
   },
   "outputs": [
    {
     "name": "stdout",
     "output_type": "stream",
     "text": [
      "_________________________________________________________________\n",
      "Layer (type)                 Output Shape              Param #   \n",
      "=================================================================\n",
      "batch_normalization_1 (Batch (None, 128, 128, 3)       12        \n",
      "_________________________________________________________________\n",
      "conv2d_1 (Conv2D)            (None, 128, 128, 32)      896       \n",
      "_________________________________________________________________\n",
      "conv2d_2 (Conv2D)            (None, 126, 126, 32)      9248      \n",
      "_________________________________________________________________\n",
      "max_pooling2d_1 (MaxPooling2 (None, 63, 63, 32)        0         \n",
      "_________________________________________________________________\n",
      "batch_normalization_2 (Batch (None, 63, 63, 32)        128       \n",
      "_________________________________________________________________\n",
      "conv2d_3 (Conv2D)            (None, 63, 63, 64)        18496     \n",
      "_________________________________________________________________\n",
      "conv2d_4 (Conv2D)            (None, 61, 61, 64)        36928     \n",
      "_________________________________________________________________\n",
      "max_pooling2d_2 (MaxPooling2 (None, 30, 30, 64)        0         \n",
      "_________________________________________________________________\n",
      "batch_normalization_3 (Batch (None, 30, 30, 64)        256       \n",
      "_________________________________________________________________\n",
      "conv2d_5 (Conv2D)            (None, 30, 30, 128)       73856     \n",
      "_________________________________________________________________\n",
      "conv2d_6 (Conv2D)            (None, 28, 28, 128)       147584    \n",
      "_________________________________________________________________\n",
      "max_pooling2d_3 (MaxPooling2 (None, 14, 14, 128)       0         \n",
      "_________________________________________________________________\n",
      "batch_normalization_4 (Batch (None, 14, 14, 128)       512       \n",
      "_________________________________________________________________\n",
      "conv2d_7 (Conv2D)            (None, 14, 14, 256)       295168    \n",
      "_________________________________________________________________\n",
      "conv2d_8 (Conv2D)            (None, 12, 12, 256)       590080    \n",
      "_________________________________________________________________\n",
      "max_pooling2d_4 (MaxPooling2 (None, 6, 6, 256)         0         \n",
      "=================================================================\n",
      "Total params: 1,173,164\n",
      "Trainable params: 1,172,710\n",
      "Non-trainable params: 454\n",
      "_________________________________________________________________\n"
     ]
    }
   ],
   "source": [
    "model = load_model(DATA_DIR + '/models/' + model_name + '.h5', compile=False)\n",
    "\n",
    "model.layers.pop()\n",
    "model.layers.pop()\n",
    "model.layers.pop()\n",
    "model.layers.pop()\n",
    "model = Sequential(model.layers) # reinitialize\n",
    "model.summary()"
   ]
  },
  {
   "cell_type": "code",
   "execution_count": 9,
   "metadata": {
    "collapsed": false
   },
   "outputs": [
    {
     "name": "stdout",
     "output_type": "stream",
     "text": [
      "40479/40479 [==============================] - 57s    \n"
     ]
    }
   ],
   "source": [
    "main_train_feat = model.predict(X, batch_size=batch_size, verbose = 1)\n",
    "save_array(DATA_DIR + '/models/main_train_feat.dat', main_train_feat)"
   ]
  },
  {
   "cell_type": "code",
   "execution_count": 10,
   "metadata": {
    "collapsed": false
   },
   "outputs": [
    {
     "name": "stdout",
     "output_type": "stream",
     "text": [
      "(61191, 128, 128, 3)\n",
      "24.137157917022705\n"
     ]
    }
   ],
   "source": [
    "del X\n",
    "del main_train_feat\n",
    "\n",
    "start = time()\n",
    "X_test = load_images(test_df['image_name'].values, DATA_DIR + '/test-jpg', True, w_size, h_size)\n",
    "print(X_test.shape)\n",
    "print(time() - start)"
   ]
  },
  {
   "cell_type": "code",
   "execution_count": 11,
   "metadata": {
    "collapsed": false
   },
   "outputs": [
    {
     "name": "stdout",
     "output_type": "stream",
     "text": [
      "61191/61191 [==============================] - 85s    \n"
     ]
    }
   ],
   "source": [
    "main_test_feat = model.predict(X_test, batch_size=batch_size, verbose = 1)\n",
    "save_array(DATA_DIR + '/models/main_test_feat.dat', main_test_feat)"
   ]
  },
  {
   "cell_type": "code",
   "execution_count": null,
   "metadata": {
    "collapsed": true
   },
   "outputs": [],
   "source": [
    "# main_train_feat = load_array(DATA_DIR + '/models/main_train_feat.dat')\n",
    "# print(main_train_feat.shape)\n",
    "\n",
    "# main_test_feat = load_array(DATA_DIR + '/models/main_test_feat.dat')\n",
    "# print(main_test_feat.shape)"
   ]
  }
 ],
 "metadata": {
  "kernelspec": {
   "display_name": "Python 3",
   "language": "python",
   "name": "python3"
  },
  "language_info": {
   "codemirror_mode": {
    "name": "ipython",
    "version": 3
   },
   "file_extension": ".py",
   "mimetype": "text/x-python",
   "name": "python",
   "nbconvert_exporter": "python",
   "pygments_lexer": "ipython3",
   "version": "3.5.2"
  }
 },
 "nbformat": 4,
 "nbformat_minor": 2
}
