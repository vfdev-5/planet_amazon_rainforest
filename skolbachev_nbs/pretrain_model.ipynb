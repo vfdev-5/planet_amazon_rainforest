{
 "cells": [
  {
   "cell_type": "code",
   "execution_count": null,
   "metadata": {},
   "outputs": [],
   "source": [
    "import importlib\n",
    "import local_utils; importlib.reload(local_utils)\n",
    "from local_utils import *"
   ]
  },
  {
   "cell_type": "code",
   "execution_count": null,
   "metadata": {},
   "outputs": [],
   "source": [
    "train_df = pd.read_csv(DATA_DIR + '/train_v2.csv')\n",
    "test_df = pd.read_csv(DATA_DIR + '/sample_submission_v2.csv')\n",
    "\n",
    "label_map, inv_label_map, Y = process_labels(train_df)\n",
    "print(\"Shape of Y {}\".format(Y.shape))\n",
    "\n",
    "w_size = 128\n",
    "h_size = 128\n",
    "input_shape = (w_size, h_size, 3)\n",
    "print(input_shape)"
   ]
  },
  {
   "cell_type": "code",
   "execution_count": null,
   "metadata": {
    "collapsed": true
   },
   "outputs": [],
   "source": [
    "# cache_images(DATA_DIR+\"/train_images_64.dat\", train_df['image_name'].values, DATA_DIR + '/train-jpg', True, w_size, h_size, dtype=np.float32)\n",
    "# cache_images(DATA_DIR+\"/test_images_64.dat\", test_df['image_name'].values, DATA_DIR + '/test-jpg', True, w_size, h_size, dtype=np.float32)"
   ]
  },
  {
   "cell_type": "code",
   "execution_count": null,
   "metadata": {},
   "outputs": [],
   "source": [
    "model_name = \"vgg19\"\n",
    "\n",
    "model = get_pretrained_model(model_name, input_shape)\n",
    "model.summary()"
   ]
  },
  {
   "cell_type": "code",
   "execution_count": null,
   "metadata": {
    "collapsed": true
   },
   "outputs": [],
   "source": [
    "batch_size=64"
   ]
  },
  {
   "cell_type": "code",
   "execution_count": null,
   "metadata": {},
   "outputs": [],
   "source": [
    "train_array = load_carray(DATA_DIR+'/train_images.dat')\n",
    "train_feat = model.predict(train_array, batch_size, verbose=1)\n",
    "save_array(DATA_DIR+'/models/'+model_name+'_train_feat.dat', train_feat)"
   ]
  },
  {
   "cell_type": "code",
   "execution_count": null,
   "metadata": {},
   "outputs": [],
   "source": [
    "del train_feat\n",
    "\n",
    "test_array = load_carray(DATA_DIR+'/test_images.dat')\n",
    "test_feat = model.predict(test_array, batch_size, verbose=1)\n",
    "save_array(DATA_DIR+'/models/'+model_name+'_test_feat.dat', test_feat)"
   ]
  },
  {
   "cell_type": "code",
   "execution_count": null,
   "metadata": {
    "collapsed": true
   },
   "outputs": [],
   "source": [
    "# train_feat = load_array(DATA_DIR+'/models/'+model_name+'_train_feat.dat')\n",
    "# print(train_feat.shape)\n",
    "\n",
    "# test_feat = load_array(DATA_DIR+'/models/'+model_name+'_test_feat.dat')\n",
    "# print(test_feat.shape)"
   ]
  }
 ],
 "metadata": {
  "kernelspec": {
   "display_name": "Python 3",
   "language": "python",
   "name": "python3"
  },
  "language_info": {
   "codemirror_mode": {
    "name": "ipython",
    "version": 3
   },
   "file_extension": ".py",
   "mimetype": "text/x-python",
   "name": "python",
   "nbconvert_exporter": "python",
   "pygments_lexer": "ipython3",
   "version": "3.5.3"
  }
 },
 "nbformat": 4,
 "nbformat_minor": 2
}
