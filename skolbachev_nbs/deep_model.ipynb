{
 "cells": [
  {
   "cell_type": "code",
   "execution_count": 1,
   "metadata": {},
   "outputs": [
    {
     "name": "stderr",
     "output_type": "stream",
     "text": [
      "Using TensorFlow backend.\n"
     ]
    },
    {
     "name": "stdout",
     "output_type": "stream",
     "text": [
      "Import time: 11.136674404144287\n",
      "Import time: 5.507469177246094e-05\n"
     ]
    }
   ],
   "source": [
    "import importlib\n",
    "import local_utils; importlib.reload(local_utils)\n",
    "from local_utils import *"
   ]
  },
  {
   "cell_type": "code",
   "execution_count": 2,
   "metadata": {
    "collapsed": true
   },
   "outputs": [],
   "source": [
    "global_start = time()"
   ]
  },
  {
   "cell_type": "code",
   "execution_count": 3,
   "metadata": {},
   "outputs": [
    {
     "name": "stdout",
     "output_type": "stream",
     "text": [
      "Shape of Y (40479, 17)\n",
      "Train 36431; Valid 4048;\n"
     ]
    }
   ],
   "source": [
    "train_df = pd.read_csv(DATA_DIR + '/train_v2.csv')\n",
    "test_df = pd.read_csv(DATA_DIR + '/sample_submission_v2.csv')\n",
    "\n",
    "label_map, inv_label_map, Y = process_labels(train_df)\n",
    "print(\"Shape of Y {}\".format(Y.shape))\n",
    "\n",
    "train_inx, valid_inx = stratified_sampling(Y=Y, random_state=1000)\n",
    "print(\"Train {}; Valid {};\".format(len(train_inx), len(valid_inx)))"
   ]
  },
  {
   "cell_type": "code",
   "execution_count": 4,
   "metadata": {},
   "outputs": [
    {
     "name": "stdout",
     "output_type": "stream",
     "text": [
      "(40479, 6, 6, 256)\n",
      "(40479, 6, 6, 512)\n",
      "(40479, 6, 6, 2048)\n",
      "(40479, 8, 8, 2048)\n",
      "0.006681680679321289\n"
     ]
    }
   ],
   "source": [
    "start = time()\n",
    "main_train_feat = load_carray(DATA_DIR + '/models/main_train_feat.dat')\n",
    "print(main_train_feat.shape)\n",
    "\n",
    "vgg16_train_feat = load_carray(DATA_DIR + '/models/vgg16_train_feat.dat')\n",
    "print(vgg16_train_feat.shape)\n",
    "\n",
    "inceptionV3_train_feat = load_carray(DATA_DIR + '/models/inceptionV3_train_feat.dat')\n",
    "print(inceptionV3_train_feat.shape)\n",
    "\n",
    "resnet50_train_feat = load_carray(DATA_DIR + '/models/resnet50_train_feat.dat')\n",
    "print(resnet50_train_feat.shape)\n",
    "print(time() - start)"
   ]
  },
  {
   "cell_type": "code",
   "execution_count": 6,
   "metadata": {
    "collapsed": true
   },
   "outputs": [],
   "source": [
    "model_name = \"deep_model\"\n",
    "\n",
    "batch_size = 192\n",
    "train_steps = np.ceil(len(train_inx)/batch_size)\n",
    "valid_steps = np.ceil(len(valid_inx)/batch_size)"
   ]
  },
  {
   "cell_type": "code",
   "execution_count": 6,
   "metadata": {
    "collapsed": true
   },
   "outputs": [],
   "source": [
    "def train_generator(train_inx, batch_size):\n",
    "    np.random.shuffle(train_inx)\n",
    "    while 1:\n",
    "        for i in range(0, len(train_inx), batch_size):\n",
    "            yield [\n",
    "                   main_train_feat[train_inx[i:i+batch_size]],\n",
    "                   vgg16_train_feat[train_inx[i:i+batch_size]],\n",
    "                   inceptionV3_train_feat[train_inx[i:i+batch_size]],\n",
    "                   resnet50_train_feat[train_inx[i:i+batch_size]]], Y[train_inx[i:i+batch_size]]\n",
    "                \n",
    "def valid_generator(valid_inx, batch_size):\n",
    "    while 1:\n",
    "        for i in range(0, len(valid_inx), batch_size):\n",
    "            yield [\n",
    "#                    main_train_feat[valid_inx[i:i+batch_size]],\n",
    "#                    vgg16_train_feat[valid_inx[i:i+batch_size]],\n",
    "                   inceptionV3_train_feat[valid_inx[i:i+batch_size]],\n",
    "                   resnet50_train_feat[valid_inx[i:i+batch_size]]], Y[valid_inx[i:i+batch_size]]"
   ]
  },
  {
   "cell_type": "code",
   "execution_count": 4,
   "metadata": {
    "collapsed": true
   },
   "outputs": [],
   "source": [
    "class F2History(Callback):\n",
    "    def on_train_begin(self, logs={}):\n",
    "        self.f2_scores = []\n",
    "    def on_epoch_end(self, epoch, logs ={}):\n",
    "        p_valid = self.model.predict_generator(valid_generator(valid_inx, batch_size), valid_steps)\n",
    "        y_val = Y[valid_inx]\n",
    "        f2 = fbeta_score(y_val, np.array(p_valid) >= 0.2, beta=2, average='samples')\n",
    "        print()\n",
    "        print(\"F2 Score {}\".format(f2))\n",
    "        self.f2_scores.append(f2)\n",
    "        return\n",
    "\n",
    "f2_history = F2History()"
   ]
  },
  {
   "cell_type": "code",
   "execution_count": 7,
   "metadata": {},
   "outputs": [],
   "source": [
    "model_checkpoint = ModelCheckpoint(\n",
    "                DATA_DIR + '/models/' + model_name + '.h5', \n",
    "                monitor='val_loss', \n",
    "                verbose=1, \n",
    "                save_best_only=True, \n",
    "                save_weights_only=False, \n",
    "                mode='min',\n",
    "                period=1)"
   ]
  },
  {
   "cell_type": "code",
   "execution_count": 10,
   "metadata": {},
   "outputs": [],
   "source": [
    "p = 0.5\n",
    "main_input = Input(shape=(6, 6, 256))\n",
    "vgg16_input = Input(shape=(6, 6, 512))\n",
    "inceptionV3_input = Input(shape=(6, 6, 2048))\n",
    "resnet50_input = Input(shape=(8, 8, 2048))\n",
    "\n",
    "main_x = BatchNormalization()(main_input)\n",
    "main_x = Dropout(0.75)(main_x)\n",
    "main_x = Conv2D(128, (3, 3), padding='same')(main_x)\n",
    "main_x = MaxPooling2D()(main_x)\n",
    "\n",
    "vgg16_x = BatchNormalization()(vgg16_input)\n",
    "vgg16_x = Conv2D(128, (3, 3), padding='same')(vgg16_x)\n",
    "vgg16_x = MaxPooling2D()(vgg16_x)\n",
    "\n",
    "inceptionV3_x = BatchNormalization()(inceptionV3_input)\n",
    "inceptionV3_x = Conv2D(128, (3, 3), padding='same')(inceptionV3_x)\n",
    "inceptionV3_x = MaxPooling2D()(inceptionV3_x)\n",
    "\n",
    "resnet50_x = BatchNormalization()(resnet50_input)\n",
    "resnet50_x = Conv2D(128, (3, 3))(resnet50_x)\n",
    "resnet50_x = AveragePooling2D()(resnet50_x)\n",
    "\n",
    "x = concatenate([main_x, vgg16_x, inceptionV3_x, resnet50_x])\n",
    "\n",
    "x = BatchNormalization()(x)\n",
    "x = Conv2D(256, (3, 3), padding='same')(x)\n",
    "x = GlobalMaxPooling2D()(x)\n",
    "\n",
    "x = BatchNormalization()(x)\n",
    "x = Dropout(p/2)(x)\n",
    "x = Dense(512, activation='relu')(x)\n",
    "\n",
    "x = BatchNormalization()(x)\n",
    "x = Dropout(p/4)(x)\n",
    "output = Dense(17, activation='sigmoid')(x)\n",
    "\n",
    "# x = BatchNormalization()(x)\n",
    "# x = Dropout(p/2)(x)\n",
    "# x = Conv2D(17, (3, 3), padding='same')(x)\n",
    "# x = GlobalMaxPooling2D()(x)\n",
    "# output = Activation('sigmoid')(x)\n",
    "\n",
    "model = Model(inputs=[main_input, vgg16_input, inceptionV3_input, resnet50_input], outputs=output)"
   ]
  },
  {
   "cell_type": "code",
   "execution_count": 11,
   "metadata": {},
   "outputs": [
    {
     "name": "stdout",
     "output_type": "stream",
     "text": [
      "____________________________________________________________________________________________________\n",
      "Layer (type)                     Output Shape          Param #     Connected to                     \n",
      "====================================================================================================\n",
      "input_9 (InputLayer)             (None, 6, 6, 256)     0                                            \n",
      "____________________________________________________________________________________________________\n",
      "batch_normalization_9 (BatchNorm (None, 6, 6, 256)     1024        input_9[0][0]                    \n",
      "____________________________________________________________________________________________________\n",
      "input_10 (InputLayer)            (None, 6, 6, 512)     0                                            \n",
      "____________________________________________________________________________________________________\n",
      "input_11 (InputLayer)            (None, 6, 6, 2048)    0                                            \n",
      "____________________________________________________________________________________________________\n",
      "input_12 (InputLayer)            (None, 8, 8, 2048)    0                                            \n",
      "____________________________________________________________________________________________________\n",
      "dropout_5 (Dropout)              (None, 6, 6, 256)     0           batch_normalization_9[0][0]      \n",
      "____________________________________________________________________________________________________\n",
      "batch_normalization_10 (BatchNor (None, 6, 6, 512)     2048        input_10[0][0]                   \n",
      "____________________________________________________________________________________________________\n",
      "batch_normalization_11 (BatchNor (None, 6, 6, 2048)    8192        input_11[0][0]                   \n",
      "____________________________________________________________________________________________________\n",
      "batch_normalization_12 (BatchNor (None, 8, 8, 2048)    8192        input_12[0][0]                   \n",
      "____________________________________________________________________________________________________\n",
      "conv2d_11 (Conv2D)               (None, 6, 6, 128)     295040      dropout_5[0][0]                  \n",
      "____________________________________________________________________________________________________\n",
      "conv2d_12 (Conv2D)               (None, 6, 6, 128)     589952      batch_normalization_10[0][0]     \n",
      "____________________________________________________________________________________________________\n",
      "conv2d_13 (Conv2D)               (None, 6, 6, 128)     2359424     batch_normalization_11[0][0]     \n",
      "____________________________________________________________________________________________________\n",
      "conv2d_14 (Conv2D)               (None, 6, 6, 128)     2359424     batch_normalization_12[0][0]     \n",
      "____________________________________________________________________________________________________\n",
      "max_pooling2d_5 (MaxPooling2D)   (None, 3, 3, 128)     0           conv2d_11[0][0]                  \n",
      "____________________________________________________________________________________________________\n",
      "max_pooling2d_6 (MaxPooling2D)   (None, 3, 3, 128)     0           conv2d_12[0][0]                  \n",
      "____________________________________________________________________________________________________\n",
      "max_pooling2d_7 (MaxPooling2D)   (None, 3, 3, 128)     0           conv2d_13[0][0]                  \n",
      "____________________________________________________________________________________________________\n",
      "average_pooling2d_3 (AveragePool (None, 3, 3, 128)     0           conv2d_14[0][0]                  \n",
      "____________________________________________________________________________________________________\n",
      "concatenate_3 (Concatenate)      (None, 3, 3, 512)     0           max_pooling2d_5[0][0]            \n",
      "                                                                   max_pooling2d_6[0][0]            \n",
      "                                                                   max_pooling2d_7[0][0]            \n",
      "                                                                   average_pooling2d_3[0][0]        \n",
      "____________________________________________________________________________________________________\n",
      "batch_normalization_13 (BatchNor (None, 3, 3, 512)     2048        concatenate_3[0][0]              \n",
      "____________________________________________________________________________________________________\n",
      "conv2d_15 (Conv2D)               (None, 3, 3, 256)     1179904     batch_normalization_13[0][0]     \n",
      "____________________________________________________________________________________________________\n",
      "global_max_pooling2d_2 (GlobalMa (None, 256)           0           conv2d_15[0][0]                  \n",
      "____________________________________________________________________________________________________\n",
      "batch_normalization_14 (BatchNor (None, 256)           1024        global_max_pooling2d_2[0][0]     \n",
      "____________________________________________________________________________________________________\n",
      "dropout_6 (Dropout)              (None, 256)           0           batch_normalization_14[0][0]     \n",
      "____________________________________________________________________________________________________\n",
      "dense_1 (Dense)                  (None, 512)           131584      dropout_6[0][0]                  \n",
      "____________________________________________________________________________________________________\n",
      "batch_normalization_15 (BatchNor (None, 512)           2048        dense_1[0][0]                    \n",
      "____________________________________________________________________________________________________\n",
      "dropout_7 (Dropout)              (None, 512)           0           batch_normalization_15[0][0]     \n",
      "____________________________________________________________________________________________________\n",
      "dense_2 (Dense)                  (None, 17)            8721        dropout_7[0][0]                  \n",
      "====================================================================================================\n",
      "Total params: 6,948,625\n",
      "Trainable params: 6,936,337\n",
      "Non-trainable params: 12,288\n",
      "____________________________________________________________________________________________________\n"
     ]
    }
   ],
   "source": [
    "opt = optimizers.Adam(lr=1e-3, decay=75e-5)\n",
    "model.compile(optimizer=opt, loss='binary_crossentropy', metrics=['accuracy'])\n",
    "model.summary()"
   ]
  },
  {
   "cell_type": "code",
   "execution_count": 11,
   "metadata": {},
   "outputs": [
    {
     "name": "stdout",
     "output_type": "stream",
     "text": [
      "Epoch 1/10\n",
      "189/190 [============================>.] - ETA: 0s - loss: 0.3264 - acc: 0.8648\n",
      "F2 Score 0.8759348375879408\n",
      "Epoch 00000: val_loss improved from inf to 0.13653, saving model to /src/DL/planet_understanding_the_amazon_from_space/data/models/deep_model.h5\n",
      "190/190 [==============================] - 60s - loss: 0.3255 - acc: 0.8652 - val_loss: 0.1365 - val_acc: 0.9489\n",
      "Epoch 2/10\n",
      "189/190 [============================>.] - ETA: 0s - loss: 0.1344 - acc: 0.9505\n",
      "F2 Score 0.8896632563002944\n",
      "Epoch 00001: val_loss improved from 0.13653 to 0.12295, saving model to /src/DL/planet_understanding_the_amazon_from_space/data/models/deep_model.h5\n",
      "190/190 [==============================] - 57s - loss: 0.1344 - acc: 0.9505 - val_loss: 0.1229 - val_acc: 0.9534\n",
      "Epoch 3/10\n",
      "189/190 [============================>.] - ETA: 0s - loss: 0.1216 - acc: 0.9544\n",
      "F2 Score 0.891691258683401\n",
      "Epoch 00002: val_loss improved from 0.12295 to 0.11999, saving model to /src/DL/planet_understanding_the_amazon_from_space/data/models/deep_model.h5\n",
      "190/190 [==============================] - 56s - loss: 0.1216 - acc: 0.9544 - val_loss: 0.1200 - val_acc: 0.9549\n",
      "Epoch 4/10\n",
      "189/190 [============================>.] - ETA: 0s - loss: 0.1139 - acc: 0.9574\n",
      "F2 Score 0.8948094707578527\n",
      "Epoch 00003: val_loss improved from 0.11999 to 0.11807, saving model to /src/DL/planet_understanding_the_amazon_from_space/data/models/deep_model.h5\n",
      "190/190 [==============================] - 57s - loss: 0.1140 - acc: 0.9574 - val_loss: 0.1181 - val_acc: 0.9555\n",
      "Epoch 5/10\n",
      "189/190 [============================>.] - ETA: 0s - loss: 0.1076 - acc: 0.9593\n",
      "F2 Score 0.8932241215180936\n",
      "Epoch 00004: val_loss did not improve\n",
      "190/190 [==============================] - 57s - loss: 0.1077 - acc: 0.9593 - val_loss: 0.1218 - val_acc: 0.9543\n",
      "Epoch 6/10\n",
      "189/190 [============================>.] - ETA: 0s - loss: 0.1011 - acc: 0.9619\n",
      "F2 Score 0.8956495399847615\n",
      "Epoch 00005: val_loss improved from 0.11807 to 0.11742, saving model to /src/DL/planet_understanding_the_amazon_from_space/data/models/deep_model.h5\n",
      "190/190 [==============================] - 57s - loss: 0.1012 - acc: 0.9619 - val_loss: 0.1174 - val_acc: 0.9568\n",
      "Epoch 7/10\n",
      "189/190 [============================>.] - ETA: 0s - loss: 0.0957 - acc: 0.9639\n",
      "F2 Score 0.8951403782517485\n",
      "Epoch 00006: val_loss did not improve\n",
      "190/190 [==============================] - 57s - loss: 0.0957 - acc: 0.9639 - val_loss: 0.1209 - val_acc: 0.9553\n",
      "Epoch 8/10\n",
      "189/190 [============================>.] - ETA: 0s - loss: 0.0894 - acc: 0.9663\n",
      "F2 Score 0.8884752226795242\n",
      "Epoch 00007: val_loss did not improve\n",
      "190/190 [==============================] - 57s - loss: 0.0894 - acc: 0.9663 - val_loss: 0.1284 - val_acc: 0.9555\n",
      "Epoch 9/10\n",
      "189/190 [============================>.] - ETA: 0s - loss: 0.0844 - acc: 0.9683\n",
      "F2 Score 0.8915139585679932\n",
      "Epoch 00008: val_loss did not improve\n",
      "190/190 [==============================] - 57s - loss: 0.0844 - acc: 0.9683 - val_loss: 0.1267 - val_acc: 0.9552\n",
      "Epoch 10/10\n",
      "189/190 [============================>.] - ETA: 0s - loss: 0.0802 - acc: 0.9698\n",
      "F2 Score 0.8923456696169143\n",
      "Epoch 00009: val_loss did not improve\n",
      "190/190 [==============================] - 57s - loss: 0.0802 - acc: 0.9698 - val_loss: 0.1297 - val_acc: 0.9551\n"
     ]
    },
    {
     "data": {
      "text/plain": [
       "<keras.callbacks.History at 0x7f67205ab5c0>"
      ]
     },
     "execution_count": 11,
     "metadata": {},
     "output_type": "execute_result"
    }
   ],
   "source": [
    "model.fit_generator(\n",
    "    generator=train_generator(train_inx, batch_size),\n",
    "    steps_per_epoch=train_steps,\n",
    "    epochs=10,\n",
    "    verbose=1,\n",
    "    validation_data=valid_generator(valid_inx, batch_size),\n",
    "    validation_steps=valid_steps,\n",
    "    callbacks=[f2_history, model_checkpoint])"
   ]
  },
  {
   "cell_type": "code",
   "execution_count": 14,
   "metadata": {},
   "outputs": [
    {
     "name": "stdout",
     "output_type": "stream",
     "text": [
      "[0.87593483758794077, 0.88966325630029441, 0.89169125868340104, 0.89480947075785267, 0.89322412151809361, 0.89564953998476149, 0.89514037825174853, 0.88847522267952417, 0.8915139585679932, 0.89234566961691431]\n"
     ]
    },
    {
     "data": {
      "image/png": "[encoded data removed]",
      "text/plain": [
       "<matplotlib.figure.Figure at 0x7f671facff98>"
      ]
     },
     "metadata": {},
     "output_type": "display_data"
    }
   ],
   "source": [
    "print(f2_history.f2_scores)\n",
    "plt.plot(f2_history.f2_scores)\n",
    "plt.show()"
   ]
  },
  {
   "cell_type": "code",
   "execution_count": 13,
   "metadata": {},
   "outputs": [
    {
     "ename": "NameError",
     "evalue": "name 'stop' is not defined",
     "output_type": "error",
     "traceback": [
      "\u001b[0;31m\u001b[0m",
      "\u001b[0;31mNameError\u001b[0mTraceback (most recent call last)",
      "\u001b[0;32m<ipython-input-13-30d9529ff51c>\u001b[0m in \u001b[0;36m<module>\u001b[0;34m()\u001b[0m\n\u001b[0;32m----> 1\u001b[0;31m \u001b[0mstop\u001b[0m\u001b[0;34m\u001b[0m\u001b[0m\n\u001b[0m",
      "\u001b[0;31mNameError\u001b[0m: name 'stop' is not defined"
     ]
    }
   ],
   "source": [
    "stop"
   ]
  },
  {
   "cell_type": "code",
   "execution_count": null,
   "metadata": {
    "collapsed": true
   },
   "outputs": [],
   "source": [
    "# model.save(DATA_DIR + '/models/' + model_name + '.h5')\n",
    "\n",
    "del model\n",
    "model = load_model(DATA_DIR + '/models/' + model_name + '.h5', compile=False)\n",
    "opt = optimizers.Adam(lr=1e-3, decay=1e-4)\n",
    "model.compile(optimizer=opt, loss='binary_crossentropy', metrics=['accuracy'])"
   ]
  },
  {
   "cell_type": "code",
   "execution_count": null,
   "metadata": {
    "collapsed": true
   },
   "outputs": [],
   "source": [
    "model.evaluate_generator(valid_generator(valid_inx, batch_size), valid_steps)"
   ]
  },
  {
   "cell_type": "code",
   "execution_count": null,
   "metadata": {
    "collapsed": true
   },
   "outputs": [],
   "source": [
    "p_X_valid = model.predict_generator(valid_generator(valid_inx, batch_size), valid_steps, verbose=1)"
   ]
  },
  {
   "cell_type": "code",
   "execution_count": null,
   "metadata": {
    "collapsed": true
   },
   "outputs": [],
   "source": [
    "start = time()\n",
    "thres = find_best_thresholds(Y[valid_inx], p_X_valid)\n",
    "save_array(DATA_DIR + '/models/' + model_name + '_thres.dat', thres)\n",
    "print(time() - start)"
   ]
  },
  {
   "cell_type": "code",
   "execution_count": null,
   "metadata": {
    "collapsed": true
   },
   "outputs": [],
   "source": [
    "print(f2_score(Y[valid_inx], p_X_valid, thres))\n",
    "# print(f2_score(Y, p_X, thres))\n",
    "# print(f2_score(Y[train_inx], p_X[train_inx], thres))\n",
    "# print(f2_score(Y[valid_inx], p_X[valid_inx], thres))"
   ]
  },
  {
   "cell_type": "code",
   "execution_count": null,
   "metadata": {
    "collapsed": true
   },
   "outputs": [],
   "source": [
    "del main_train_feat\n",
    "del vgg16_train_feat\n",
    "del inceptionV3_train_feat\n",
    "del resnet50_train_feat\n",
    "del p_X_valid\n",
    "\n",
    "start = time()\n",
    "batch_size = 128\n",
    "model = load_model(DATA_DIR + '/models/' + model_name + '.h5', compile=False)\n",
    "thres = load_array(DATA_DIR + '/models/' + model_name + '_thres.dat')\n",
    "\n",
    "main_test_feat = load_carray(DATA_DIR + '/models/main_test_feat.dat')\n",
    "print(main_test_feat.shape)\n",
    "\n",
    "vgg16_test_feat = load_carray(DATA_DIR + '/models/vgg16_test_feat.dat')\n",
    "print(vgg16_test_feat.shape)\n",
    "\n",
    "inceptionV3_test_feat = load_carray(DATA_DIR + '/models/inceptionV3_test_feat.dat')\n",
    "print(inceptionV3_test_feat.shape)\n",
    "\n",
    "resnet50_test_feat = load_carray(DATA_DIR + '/models/resnet50_test_feat.dat')\n",
    "print(resnet50_test_feat.shape)\n",
    "print(time() - start)"
   ]
  },
  {
   "cell_type": "code",
   "execution_count": null,
   "metadata": {
    "collapsed": true
   },
   "outputs": [],
   "source": [
    "test_steps = np.ceil(len(test_df)/batch_size)\n",
    "def test_generator(batch_size):\n",
    "    while 1:\n",
    "        for i in range(0, len(main_test_feat), batch_size):\n",
    "            yield [main_test_feat[i:i+batch_size],\n",
    "                   vgg16_test_feat[i:i+batch_size],\n",
    "                   inceptionV3_test_feat[i:i+batch_size],\n",
    "                   resnet50_test_feat[i:i+batch_size]]"
   ]
  },
  {
   "cell_type": "code",
   "execution_count": null,
   "metadata": {
    "collapsed": true
   },
   "outputs": [],
   "source": [
    "p_X_test = model.predict_generator(test_generator(batch_size), test_steps, verbose=1)"
   ]
  },
  {
   "cell_type": "code",
   "execution_count": null,
   "metadata": {
    "collapsed": true
   },
   "outputs": [],
   "source": [
    "start = time()\n",
    "for inx in np.arange(len(test_df)):\n",
    "    test_df['tags'][inx] = ' '.join([inv_label_map[i] for i, b in enumerate(p_X_test[inx] >= thres) if b])\n",
    "print(time() - start)\n",
    "\n",
    "test_df.head()"
   ]
  },
  {
   "cell_type": "code",
   "execution_count": null,
   "metadata": {
    "collapsed": true
   },
   "outputs": [],
   "source": [
    "test_df.to_csv(DATA_DIR + '/results/' + model_name + '_submission.csv', index=False)\n",
    "FileLink('data/results/' + model_name + '_submission.csv')"
   ]
  },
  {
   "cell_type": "code",
   "execution_count": null,
   "metadata": {
    "collapsed": true
   },
   "outputs": [],
   "source": [
    "print((time() - global_start)/60)"
   ]
  },
  {
   "cell_type": "code",
   "execution_count": null,
   "metadata": {
    "collapsed": true
   },
   "outputs": [],
   "source": []
  }
 ],
 "metadata": {
  "kernelspec": {
   "display_name": "Python 3",
   "language": "python",
   "name": "python3"
  },
  "language_info": {
   "codemirror_mode": {
    "name": "ipython",
    "version": 3
   },
   "file_extension": ".py",
   "mimetype": "text/x-python",
   "name": "python",
   "nbconvert_exporter": "python",
   "pygments_lexer": "ipython3",
   "version": "3.5.3"
  }
 },
 "nbformat": 4,
 "nbformat_minor": 2
}
